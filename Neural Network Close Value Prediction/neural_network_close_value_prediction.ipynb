{
  "nbformat": 4,
  "nbformat_minor": 0,
  "metadata": {
    "colab": {
      "name": "neural network close value prediction",
      "provenance": []
    },
    "kernelspec": {
      "name": "python3",
      "display_name": "Python 3"
    },
    "language_info": {
      "name": "python"
    }
  },
  "cells": [
    {
      "cell_type": "code",
      "source": [
        "import numpy as np\n",
        "import pandas as pd"
      ],
      "metadata": {
        "id": "9us39vK-mOqL"
      },
      "execution_count": 1,
      "outputs": []
    },
    {
      "cell_type": "code",
      "source": [
        "file=pd.read_csv('/content/data.csv')\n",
        "df=pd.DataFrame(file)"
      ],
      "metadata": {
        "id": "zp4X6VRlmTkJ"
      },
      "execution_count": 2,
      "outputs": []
    },
    {
      "cell_type": "markdown",
      "source": [
        "\n",
        "## Given is Yahoo Finance! - Dow Jones Industrial Average data, perform the following task:"
      ],
      "metadata": {
        "id": "wPf2CLdSmeGo"
      }
    },
    {
      "cell_type": "markdown",
      "source": [
        "### Q1. Perform the following EDA tasks:\n",
        "<br>a.\tCheck the dimensions of the data\n",
        "<br>b.\tGet the summary statistics and share the insights\n",
        "<br>c.\tStandardize the features whenever required\n",
        "\n",
        "\n"
      ],
      "metadata": {
        "id": "ENlqhhjZmkW0"
      }
    },
    {
      "cell_type": "markdown",
      "source": [
        "\n",
        "a. Check the dimensions of the data"
      ],
      "metadata": {
        "id": "c0mH4OHNnAS9"
      }
    },
    {
      "cell_type": "code",
      "source": [
        "df.shape"
      ],
      "metadata": {
        "colab": {
          "base_uri": "https://localhost:8080/"
        },
        "id": "_E6MJJ74mdZ5",
        "outputId": "dbdca6ed-4cd9-4229-d317-a7cab2c03ead"
      },
      "execution_count": 4,
      "outputs": [
        {
          "output_type": "execute_result",
          "data": {
            "text/plain": [
              "(2014, 7)"
            ]
          },
          "metadata": {},
          "execution_count": 4
        }
      ]
    },
    {
      "cell_type": "markdown",
      "source": [
        "b.\tGet the summary statistics and share the insights"
      ],
      "metadata": {
        "id": "EXaSBUV-nEHJ"
      }
    },
    {
      "cell_type": "code",
      "source": [
        "df.info()"
      ],
      "metadata": {
        "colab": {
          "base_uri": "https://localhost:8080/"
        },
        "id": "Z0BSdjb7nC-M",
        "outputId": "cc721b5b-2db2-4c72-e508-9da5d2b878b2"
      },
      "execution_count": 5,
      "outputs": [
        {
          "output_type": "stream",
          "name": "stdout",
          "text": [
            "<class 'pandas.core.frame.DataFrame'>\n",
            "RangeIndex: 2014 entries, 0 to 2013\n",
            "Data columns (total 7 columns):\n",
            " #   Column     Non-Null Count  Dtype  \n",
            "---  ------     --------------  -----  \n",
            " 0   Date       2014 non-null   object \n",
            " 1   Open       2014 non-null   float64\n",
            " 2   High       2014 non-null   float64\n",
            " 3   Low        2014 non-null   float64\n",
            " 4   Close      2014 non-null   float64\n",
            " 5   Adj Close  2014 non-null   float64\n",
            " 6   Volume     2014 non-null   int64  \n",
            "dtypes: float64(5), int64(1), object(1)\n",
            "memory usage: 110.3+ KB\n"
          ]
        }
      ]
    },
    {
      "cell_type": "code",
      "source": [
        "df.isna().sum()"
      ],
      "metadata": {
        "colab": {
          "base_uri": "https://localhost:8080/"
        },
        "id": "9QuWKVe-nMha",
        "outputId": "54af62c3-ad56-49be-86d9-95f883adf695"
      },
      "execution_count": 6,
      "outputs": [
        {
          "output_type": "execute_result",
          "data": {
            "text/plain": [
              "Date         0\n",
              "Open         0\n",
              "High         0\n",
              "Low          0\n",
              "Close        0\n",
              "Adj Close    0\n",
              "Volume       0\n",
              "dtype: int64"
            ]
          },
          "metadata": {},
          "execution_count": 6
        }
      ]
    },
    {
      "cell_type": "markdown",
      "source": [
        "**there is no null values in dataset**"
      ],
      "metadata": {
        "id": "5qcFwmInm-vT"
      }
    },
    {
      "cell_type": "code",
      "source": [
        "df[df.duplicated()]"
      ],
      "metadata": {
        "colab": {
          "base_uri": "https://localhost:8080/",
          "height": 49
        },
        "id": "9V8QH4Gcndlu",
        "outputId": "1049385d-7a3c-4a73-b555-2c7c72366620"
      },
      "execution_count": 7,
      "outputs": [
        {
          "output_type": "execute_result",
          "data": {
            "text/plain": [
              "Empty DataFrame\n",
              "Columns: [Date, Open, High, Low, Close, Adj Close, Volume]\n",
              "Index: []"
            ],
            "text/html": [
              "\n",
              "  <div id=\"df-2be03520-2ab9-45e9-a3e2-1c54ce5c2df1\">\n",
              "    <div class=\"colab-df-container\">\n",
              "      <div>\n",
              "<style scoped>\n",
              "    .dataframe tbody tr th:only-of-type {\n",
              "        vertical-align: middle;\n",
              "    }\n",
              "\n",
              "    .dataframe tbody tr th {\n",
              "        vertical-align: top;\n",
              "    }\n",
              "\n",
              "    .dataframe thead th {\n",
              "        text-align: right;\n",
              "    }\n",
              "</style>\n",
              "<table border=\"1\" class=\"dataframe\">\n",
              "  <thead>\n",
              "    <tr style=\"text-align: right;\">\n",
              "      <th></th>\n",
              "      <th>Date</th>\n",
              "      <th>Open</th>\n",
              "      <th>High</th>\n",
              "      <th>Low</th>\n",
              "      <th>Close</th>\n",
              "      <th>Adj Close</th>\n",
              "      <th>Volume</th>\n",
              "    </tr>\n",
              "  </thead>\n",
              "  <tbody>\n",
              "  </tbody>\n",
              "</table>\n",
              "</div>\n",
              "      <button class=\"colab-df-convert\" onclick=\"convertToInteractive('df-2be03520-2ab9-45e9-a3e2-1c54ce5c2df1')\"\n",
              "              title=\"Convert this dataframe to an interactive table.\"\n",
              "              style=\"display:none;\">\n",
              "        \n",
              "  <svg xmlns=\"http://www.w3.org/2000/svg\" height=\"24px\"viewBox=\"0 0 24 24\"\n",
              "       width=\"24px\">\n",
              "    <path d=\"M0 0h24v24H0V0z\" fill=\"none\"/>\n",
              "    <path d=\"M18.56 5.44l.94 2.06.94-2.06 2.06-.94-2.06-.94-.94-2.06-.94 2.06-2.06.94zm-11 1L8.5 8.5l.94-2.06 2.06-.94-2.06-.94L8.5 2.5l-.94 2.06-2.06.94zm10 10l.94 2.06.94-2.06 2.06-.94-2.06-.94-.94-2.06-.94 2.06-2.06.94z\"/><path d=\"M17.41 7.96l-1.37-1.37c-.4-.4-.92-.59-1.43-.59-.52 0-1.04.2-1.43.59L10.3 9.45l-7.72 7.72c-.78.78-.78 2.05 0 2.83L4 21.41c.39.39.9.59 1.41.59.51 0 1.02-.2 1.41-.59l7.78-7.78 2.81-2.81c.8-.78.8-2.07 0-2.86zM5.41 20L4 18.59l7.72-7.72 1.47 1.35L5.41 20z\"/>\n",
              "  </svg>\n",
              "      </button>\n",
              "      \n",
              "  <style>\n",
              "    .colab-df-container {\n",
              "      display:flex;\n",
              "      flex-wrap:wrap;\n",
              "      gap: 12px;\n",
              "    }\n",
              "\n",
              "    .colab-df-convert {\n",
              "      background-color: #E8F0FE;\n",
              "      border: none;\n",
              "      border-radius: 50%;\n",
              "      cursor: pointer;\n",
              "      display: none;\n",
              "      fill: #1967D2;\n",
              "      height: 32px;\n",
              "      padding: 0 0 0 0;\n",
              "      width: 32px;\n",
              "    }\n",
              "\n",
              "    .colab-df-convert:hover {\n",
              "      background-color: #E2EBFA;\n",
              "      box-shadow: 0px 1px 2px rgba(60, 64, 67, 0.3), 0px 1px 3px 1px rgba(60, 64, 67, 0.15);\n",
              "      fill: #174EA6;\n",
              "    }\n",
              "\n",
              "    [theme=dark] .colab-df-convert {\n",
              "      background-color: #3B4455;\n",
              "      fill: #D2E3FC;\n",
              "    }\n",
              "\n",
              "    [theme=dark] .colab-df-convert:hover {\n",
              "      background-color: #434B5C;\n",
              "      box-shadow: 0px 1px 3px 1px rgba(0, 0, 0, 0.15);\n",
              "      filter: drop-shadow(0px 1px 2px rgba(0, 0, 0, 0.3));\n",
              "      fill: #FFFFFF;\n",
              "    }\n",
              "  </style>\n",
              "\n",
              "      <script>\n",
              "        const buttonEl =\n",
              "          document.querySelector('#df-2be03520-2ab9-45e9-a3e2-1c54ce5c2df1 button.colab-df-convert');\n",
              "        buttonEl.style.display =\n",
              "          google.colab.kernel.accessAllowed ? 'block' : 'none';\n",
              "\n",
              "        async function convertToInteractive(key) {\n",
              "          const element = document.querySelector('#df-2be03520-2ab9-45e9-a3e2-1c54ce5c2df1');\n",
              "          const dataTable =\n",
              "            await google.colab.kernel.invokeFunction('convertToInteractive',\n",
              "                                                     [key], {});\n",
              "          if (!dataTable) return;\n",
              "\n",
              "          const docLinkHtml = 'Like what you see? Visit the ' +\n",
              "            '<a target=\"_blank\" href=https://colab.research.google.com/notebooks/data_table.ipynb>data table notebook</a>'\n",
              "            + ' to learn more about interactive tables.';\n",
              "          element.innerHTML = '';\n",
              "          dataTable['output_type'] = 'display_data';\n",
              "          await google.colab.output.renderOutput(dataTable, element);\n",
              "          const docLink = document.createElement('div');\n",
              "          docLink.innerHTML = docLinkHtml;\n",
              "          element.appendChild(docLink);\n",
              "        }\n",
              "      </script>\n",
              "    </div>\n",
              "  </div>\n",
              "  "
            ]
          },
          "metadata": {},
          "execution_count": 7
        }
      ]
    },
    {
      "cell_type": "markdown",
      "source": [
        "**there is no duplicates in dataset**"
      ],
      "metadata": {
        "id": "j9-FPF1Anj3a"
      }
    },
    {
      "cell_type": "code",
      "source": [
        "df.head()"
      ],
      "metadata": {
        "colab": {
          "base_uri": "https://localhost:8080/",
          "height": 206
        },
        "id": "ZDSiqCxfntyV",
        "outputId": "e2886995-c76f-40a9-c4cf-d75705ac351f"
      },
      "execution_count": 8,
      "outputs": [
        {
          "output_type": "execute_result",
          "data": {
            "text/plain": [
              "         Date          Open          High           Low         Close  \\\n",
              "0  2010-08-27   9982.179688  10159.879883   9936.620117  10150.650391   \n",
              "1  2010-08-30  10145.580078  10150.570313  10007.679688  10009.730469   \n",
              "2  2010-08-31  10006.419922  10073.379883   9941.839844  10014.719727   \n",
              "3  2010-09-01  10016.009766  10279.080078  10016.009766  10269.469727   \n",
              "4  2010-09-02  10270.080078  10320.370117  10253.959961  10320.099609   \n",
              "\n",
              "      Adj Close     Volume  \n",
              "0  10150.650391  207760000  \n",
              "1  10009.730469  150480000  \n",
              "2  10014.719727  255420000  \n",
              "3  10269.469727  205710000  \n",
              "4  10320.099609  149930000  "
            ],
            "text/html": [
              "\n",
              "  <div id=\"df-ede836f7-d816-4dd0-82f0-2d057de583aa\">\n",
              "    <div class=\"colab-df-container\">\n",
              "      <div>\n",
              "<style scoped>\n",
              "    .dataframe tbody tr th:only-of-type {\n",
              "        vertical-align: middle;\n",
              "    }\n",
              "\n",
              "    .dataframe tbody tr th {\n",
              "        vertical-align: top;\n",
              "    }\n",
              "\n",
              "    .dataframe thead th {\n",
              "        text-align: right;\n",
              "    }\n",
              "</style>\n",
              "<table border=\"1\" class=\"dataframe\">\n",
              "  <thead>\n",
              "    <tr style=\"text-align: right;\">\n",
              "      <th></th>\n",
              "      <th>Date</th>\n",
              "      <th>Open</th>\n",
              "      <th>High</th>\n",
              "      <th>Low</th>\n",
              "      <th>Close</th>\n",
              "      <th>Adj Close</th>\n",
              "      <th>Volume</th>\n",
              "    </tr>\n",
              "  </thead>\n",
              "  <tbody>\n",
              "    <tr>\n",
              "      <th>0</th>\n",
              "      <td>2010-08-27</td>\n",
              "      <td>9982.179688</td>\n",
              "      <td>10159.879883</td>\n",
              "      <td>9936.620117</td>\n",
              "      <td>10150.650391</td>\n",
              "      <td>10150.650391</td>\n",
              "      <td>207760000</td>\n",
              "    </tr>\n",
              "    <tr>\n",
              "      <th>1</th>\n",
              "      <td>2010-08-30</td>\n",
              "      <td>10145.580078</td>\n",
              "      <td>10150.570313</td>\n",
              "      <td>10007.679688</td>\n",
              "      <td>10009.730469</td>\n",
              "      <td>10009.730469</td>\n",
              "      <td>150480000</td>\n",
              "    </tr>\n",
              "    <tr>\n",
              "      <th>2</th>\n",
              "      <td>2010-08-31</td>\n",
              "      <td>10006.419922</td>\n",
              "      <td>10073.379883</td>\n",
              "      <td>9941.839844</td>\n",
              "      <td>10014.719727</td>\n",
              "      <td>10014.719727</td>\n",
              "      <td>255420000</td>\n",
              "    </tr>\n",
              "    <tr>\n",
              "      <th>3</th>\n",
              "      <td>2010-09-01</td>\n",
              "      <td>10016.009766</td>\n",
              "      <td>10279.080078</td>\n",
              "      <td>10016.009766</td>\n",
              "      <td>10269.469727</td>\n",
              "      <td>10269.469727</td>\n",
              "      <td>205710000</td>\n",
              "    </tr>\n",
              "    <tr>\n",
              "      <th>4</th>\n",
              "      <td>2010-09-02</td>\n",
              "      <td>10270.080078</td>\n",
              "      <td>10320.370117</td>\n",
              "      <td>10253.959961</td>\n",
              "      <td>10320.099609</td>\n",
              "      <td>10320.099609</td>\n",
              "      <td>149930000</td>\n",
              "    </tr>\n",
              "  </tbody>\n",
              "</table>\n",
              "</div>\n",
              "      <button class=\"colab-df-convert\" onclick=\"convertToInteractive('df-ede836f7-d816-4dd0-82f0-2d057de583aa')\"\n",
              "              title=\"Convert this dataframe to an interactive table.\"\n",
              "              style=\"display:none;\">\n",
              "        \n",
              "  <svg xmlns=\"http://www.w3.org/2000/svg\" height=\"24px\"viewBox=\"0 0 24 24\"\n",
              "       width=\"24px\">\n",
              "    <path d=\"M0 0h24v24H0V0z\" fill=\"none\"/>\n",
              "    <path d=\"M18.56 5.44l.94 2.06.94-2.06 2.06-.94-2.06-.94-.94-2.06-.94 2.06-2.06.94zm-11 1L8.5 8.5l.94-2.06 2.06-.94-2.06-.94L8.5 2.5l-.94 2.06-2.06.94zm10 10l.94 2.06.94-2.06 2.06-.94-2.06-.94-.94-2.06-.94 2.06-2.06.94z\"/><path d=\"M17.41 7.96l-1.37-1.37c-.4-.4-.92-.59-1.43-.59-.52 0-1.04.2-1.43.59L10.3 9.45l-7.72 7.72c-.78.78-.78 2.05 0 2.83L4 21.41c.39.39.9.59 1.41.59.51 0 1.02-.2 1.41-.59l7.78-7.78 2.81-2.81c.8-.78.8-2.07 0-2.86zM5.41 20L4 18.59l7.72-7.72 1.47 1.35L5.41 20z\"/>\n",
              "  </svg>\n",
              "      </button>\n",
              "      \n",
              "  <style>\n",
              "    .colab-df-container {\n",
              "      display:flex;\n",
              "      flex-wrap:wrap;\n",
              "      gap: 12px;\n",
              "    }\n",
              "\n",
              "    .colab-df-convert {\n",
              "      background-color: #E8F0FE;\n",
              "      border: none;\n",
              "      border-radius: 50%;\n",
              "      cursor: pointer;\n",
              "      display: none;\n",
              "      fill: #1967D2;\n",
              "      height: 32px;\n",
              "      padding: 0 0 0 0;\n",
              "      width: 32px;\n",
              "    }\n",
              "\n",
              "    .colab-df-convert:hover {\n",
              "      background-color: #E2EBFA;\n",
              "      box-shadow: 0px 1px 2px rgba(60, 64, 67, 0.3), 0px 1px 3px 1px rgba(60, 64, 67, 0.15);\n",
              "      fill: #174EA6;\n",
              "    }\n",
              "\n",
              "    [theme=dark] .colab-df-convert {\n",
              "      background-color: #3B4455;\n",
              "      fill: #D2E3FC;\n",
              "    }\n",
              "\n",
              "    [theme=dark] .colab-df-convert:hover {\n",
              "      background-color: #434B5C;\n",
              "      box-shadow: 0px 1px 3px 1px rgba(0, 0, 0, 0.15);\n",
              "      filter: drop-shadow(0px 1px 2px rgba(0, 0, 0, 0.3));\n",
              "      fill: #FFFFFF;\n",
              "    }\n",
              "  </style>\n",
              "\n",
              "      <script>\n",
              "        const buttonEl =\n",
              "          document.querySelector('#df-ede836f7-d816-4dd0-82f0-2d057de583aa button.colab-df-convert');\n",
              "        buttonEl.style.display =\n",
              "          google.colab.kernel.accessAllowed ? 'block' : 'none';\n",
              "\n",
              "        async function convertToInteractive(key) {\n",
              "          const element = document.querySelector('#df-ede836f7-d816-4dd0-82f0-2d057de583aa');\n",
              "          const dataTable =\n",
              "            await google.colab.kernel.invokeFunction('convertToInteractive',\n",
              "                                                     [key], {});\n",
              "          if (!dataTable) return;\n",
              "\n",
              "          const docLinkHtml = 'Like what you see? Visit the ' +\n",
              "            '<a target=\"_blank\" href=https://colab.research.google.com/notebooks/data_table.ipynb>data table notebook</a>'\n",
              "            + ' to learn more about interactive tables.';\n",
              "          element.innerHTML = '';\n",
              "          dataTable['output_type'] = 'display_data';\n",
              "          await google.colab.output.renderOutput(dataTable, element);\n",
              "          const docLink = document.createElement('div');\n",
              "          docLink.innerHTML = docLinkHtml;\n",
              "          element.appendChild(docLink);\n",
              "        }\n",
              "      </script>\n",
              "    </div>\n",
              "  </div>\n",
              "  "
            ]
          },
          "metadata": {},
          "execution_count": 8
        }
      ]
    },
    {
      "cell_type": "code",
      "source": [
        "df['Date']=pd.to_datetime(df['Date'])"
      ],
      "metadata": {
        "id": "vHar2qNPno0j"
      },
      "execution_count": 10,
      "outputs": []
    },
    {
      "cell_type": "markdown",
      "source": [
        "**converting Date column to datetime **"
      ],
      "metadata": {
        "id": "22g4vlQEn4sU"
      }
    },
    {
      "cell_type": "code",
      "source": [
        "df.describe()"
      ],
      "metadata": {
        "colab": {
          "base_uri": "https://localhost:8080/",
          "height": 300
        },
        "id": "1Ul9eQyPoH86",
        "outputId": "d2ec64ac-3655-4e6e-b10c-1642525fff02"
      },
      "execution_count": 11,
      "outputs": [
        {
          "output_type": "execute_result",
          "data": {
            "text/plain": [
              "               Open          High           Low         Close     Adj Close  \\\n",
              "count   2014.000000   2014.000000   2014.000000   2014.000000   2014.000000   \n",
              "mean   16756.880170  16835.962791  16676.660195  16762.755255  16762.755255   \n",
              "std     3985.884743   3992.888506   3977.350484   3984.242430   3984.242430   \n",
              "min     9982.179688  10073.379883   9936.620117  10009.730469  10009.730469   \n",
              "25%    13104.239746  13175.674805  13045.425049  13107.277588  13107.277588   \n",
              "50%    16566.544922  16652.890625  16500.360352  16571.265625  16571.265625   \n",
              "75%    18282.699219  18350.062988  18205.062500  18287.908203  18287.908203   \n",
              "max    26584.279297  26616.710938  26435.339844  26616.710938  26616.710938   \n",
              "\n",
              "             Volume  \n",
              "count  2.014000e+03  \n",
              "mean   1.699523e+08  \n",
              "std    1.072222e+08  \n",
              "min    8.410000e+06  \n",
              "25%    9.486500e+07  \n",
              "50%    1.284750e+08  \n",
              "75%    2.177400e+08  \n",
              "max    8.239400e+08  "
            ],
            "text/html": [
              "\n",
              "  <div id=\"df-0c9e9a8e-2248-481c-988f-573ba0f809cb\">\n",
              "    <div class=\"colab-df-container\">\n",
              "      <div>\n",
              "<style scoped>\n",
              "    .dataframe tbody tr th:only-of-type {\n",
              "        vertical-align: middle;\n",
              "    }\n",
              "\n",
              "    .dataframe tbody tr th {\n",
              "        vertical-align: top;\n",
              "    }\n",
              "\n",
              "    .dataframe thead th {\n",
              "        text-align: right;\n",
              "    }\n",
              "</style>\n",
              "<table border=\"1\" class=\"dataframe\">\n",
              "  <thead>\n",
              "    <tr style=\"text-align: right;\">\n",
              "      <th></th>\n",
              "      <th>Open</th>\n",
              "      <th>High</th>\n",
              "      <th>Low</th>\n",
              "      <th>Close</th>\n",
              "      <th>Adj Close</th>\n",
              "      <th>Volume</th>\n",
              "    </tr>\n",
              "  </thead>\n",
              "  <tbody>\n",
              "    <tr>\n",
              "      <th>count</th>\n",
              "      <td>2014.000000</td>\n",
              "      <td>2014.000000</td>\n",
              "      <td>2014.000000</td>\n",
              "      <td>2014.000000</td>\n",
              "      <td>2014.000000</td>\n",
              "      <td>2.014000e+03</td>\n",
              "    </tr>\n",
              "    <tr>\n",
              "      <th>mean</th>\n",
              "      <td>16756.880170</td>\n",
              "      <td>16835.962791</td>\n",
              "      <td>16676.660195</td>\n",
              "      <td>16762.755255</td>\n",
              "      <td>16762.755255</td>\n",
              "      <td>1.699523e+08</td>\n",
              "    </tr>\n",
              "    <tr>\n",
              "      <th>std</th>\n",
              "      <td>3985.884743</td>\n",
              "      <td>3992.888506</td>\n",
              "      <td>3977.350484</td>\n",
              "      <td>3984.242430</td>\n",
              "      <td>3984.242430</td>\n",
              "      <td>1.072222e+08</td>\n",
              "    </tr>\n",
              "    <tr>\n",
              "      <th>min</th>\n",
              "      <td>9982.179688</td>\n",
              "      <td>10073.379883</td>\n",
              "      <td>9936.620117</td>\n",
              "      <td>10009.730469</td>\n",
              "      <td>10009.730469</td>\n",
              "      <td>8.410000e+06</td>\n",
              "    </tr>\n",
              "    <tr>\n",
              "      <th>25%</th>\n",
              "      <td>13104.239746</td>\n",
              "      <td>13175.674805</td>\n",
              "      <td>13045.425049</td>\n",
              "      <td>13107.277588</td>\n",
              "      <td>13107.277588</td>\n",
              "      <td>9.486500e+07</td>\n",
              "    </tr>\n",
              "    <tr>\n",
              "      <th>50%</th>\n",
              "      <td>16566.544922</td>\n",
              "      <td>16652.890625</td>\n",
              "      <td>16500.360352</td>\n",
              "      <td>16571.265625</td>\n",
              "      <td>16571.265625</td>\n",
              "      <td>1.284750e+08</td>\n",
              "    </tr>\n",
              "    <tr>\n",
              "      <th>75%</th>\n",
              "      <td>18282.699219</td>\n",
              "      <td>18350.062988</td>\n",
              "      <td>18205.062500</td>\n",
              "      <td>18287.908203</td>\n",
              "      <td>18287.908203</td>\n",
              "      <td>2.177400e+08</td>\n",
              "    </tr>\n",
              "    <tr>\n",
              "      <th>max</th>\n",
              "      <td>26584.279297</td>\n",
              "      <td>26616.710938</td>\n",
              "      <td>26435.339844</td>\n",
              "      <td>26616.710938</td>\n",
              "      <td>26616.710938</td>\n",
              "      <td>8.239400e+08</td>\n",
              "    </tr>\n",
              "  </tbody>\n",
              "</table>\n",
              "</div>\n",
              "      <button class=\"colab-df-convert\" onclick=\"convertToInteractive('df-0c9e9a8e-2248-481c-988f-573ba0f809cb')\"\n",
              "              title=\"Convert this dataframe to an interactive table.\"\n",
              "              style=\"display:none;\">\n",
              "        \n",
              "  <svg xmlns=\"http://www.w3.org/2000/svg\" height=\"24px\"viewBox=\"0 0 24 24\"\n",
              "       width=\"24px\">\n",
              "    <path d=\"M0 0h24v24H0V0z\" fill=\"none\"/>\n",
              "    <path d=\"M18.56 5.44l.94 2.06.94-2.06 2.06-.94-2.06-.94-.94-2.06-.94 2.06-2.06.94zm-11 1L8.5 8.5l.94-2.06 2.06-.94-2.06-.94L8.5 2.5l-.94 2.06-2.06.94zm10 10l.94 2.06.94-2.06 2.06-.94-2.06-.94-.94-2.06-.94 2.06-2.06.94z\"/><path d=\"M17.41 7.96l-1.37-1.37c-.4-.4-.92-.59-1.43-.59-.52 0-1.04.2-1.43.59L10.3 9.45l-7.72 7.72c-.78.78-.78 2.05 0 2.83L4 21.41c.39.39.9.59 1.41.59.51 0 1.02-.2 1.41-.59l7.78-7.78 2.81-2.81c.8-.78.8-2.07 0-2.86zM5.41 20L4 18.59l7.72-7.72 1.47 1.35L5.41 20z\"/>\n",
              "  </svg>\n",
              "      </button>\n",
              "      \n",
              "  <style>\n",
              "    .colab-df-container {\n",
              "      display:flex;\n",
              "      flex-wrap:wrap;\n",
              "      gap: 12px;\n",
              "    }\n",
              "\n",
              "    .colab-df-convert {\n",
              "      background-color: #E8F0FE;\n",
              "      border: none;\n",
              "      border-radius: 50%;\n",
              "      cursor: pointer;\n",
              "      display: none;\n",
              "      fill: #1967D2;\n",
              "      height: 32px;\n",
              "      padding: 0 0 0 0;\n",
              "      width: 32px;\n",
              "    }\n",
              "\n",
              "    .colab-df-convert:hover {\n",
              "      background-color: #E2EBFA;\n",
              "      box-shadow: 0px 1px 2px rgba(60, 64, 67, 0.3), 0px 1px 3px 1px rgba(60, 64, 67, 0.15);\n",
              "      fill: #174EA6;\n",
              "    }\n",
              "\n",
              "    [theme=dark] .colab-df-convert {\n",
              "      background-color: #3B4455;\n",
              "      fill: #D2E3FC;\n",
              "    }\n",
              "\n",
              "    [theme=dark] .colab-df-convert:hover {\n",
              "      background-color: #434B5C;\n",
              "      box-shadow: 0px 1px 3px 1px rgba(0, 0, 0, 0.15);\n",
              "      filter: drop-shadow(0px 1px 2px rgba(0, 0, 0, 0.3));\n",
              "      fill: #FFFFFF;\n",
              "    }\n",
              "  </style>\n",
              "\n",
              "      <script>\n",
              "        const buttonEl =\n",
              "          document.querySelector('#df-0c9e9a8e-2248-481c-988f-573ba0f809cb button.colab-df-convert');\n",
              "        buttonEl.style.display =\n",
              "          google.colab.kernel.accessAllowed ? 'block' : 'none';\n",
              "\n",
              "        async function convertToInteractive(key) {\n",
              "          const element = document.querySelector('#df-0c9e9a8e-2248-481c-988f-573ba0f809cb');\n",
              "          const dataTable =\n",
              "            await google.colab.kernel.invokeFunction('convertToInteractive',\n",
              "                                                     [key], {});\n",
              "          if (!dataTable) return;\n",
              "\n",
              "          const docLinkHtml = 'Like what you see? Visit the ' +\n",
              "            '<a target=\"_blank\" href=https://colab.research.google.com/notebooks/data_table.ipynb>data table notebook</a>'\n",
              "            + ' to learn more about interactive tables.';\n",
              "          element.innerHTML = '';\n",
              "          dataTable['output_type'] = 'display_data';\n",
              "          await google.colab.output.renderOutput(dataTable, element);\n",
              "          const docLink = document.createElement('div');\n",
              "          docLink.innerHTML = docLinkHtml;\n",
              "          element.appendChild(docLink);\n",
              "        }\n",
              "      </script>\n",
              "    </div>\n",
              "  </div>\n",
              "  "
            ]
          },
          "metadata": {},
          "execution_count": 11
        }
      ]
    },
    {
      "cell_type": "markdown",
      "source": [
        "**gives all the statistics measures of each column**"
      ],
      "metadata": {
        "id": "2qK44ghSoTZF"
      }
    },
    {
      "cell_type": "markdown",
      "source": [
        "c.\tStandardize the features whenever required"
      ],
      "metadata": {
        "id": "RyIdcpN9oi1l"
      }
    },
    {
      "cell_type": "code",
      "source": [
        "df.drop(['Date'],axis=1,inplace=True)"
      ],
      "metadata": {
        "id": "tOQQxzh-pL3v"
      },
      "execution_count": 12,
      "outputs": []
    },
    {
      "cell_type": "code",
      "source": [
        "df.info()"
      ],
      "metadata": {
        "colab": {
          "base_uri": "https://localhost:8080/"
        },
        "id": "r5muDikBpiYC",
        "outputId": "7a8afa41-fdef-4395-bb7b-2586905b5700"
      },
      "execution_count": 13,
      "outputs": [
        {
          "output_type": "stream",
          "name": "stdout",
          "text": [
            "<class 'pandas.core.frame.DataFrame'>\n",
            "RangeIndex: 2014 entries, 0 to 2013\n",
            "Data columns (total 6 columns):\n",
            " #   Column     Non-Null Count  Dtype  \n",
            "---  ------     --------------  -----  \n",
            " 0   Open       2014 non-null   float64\n",
            " 1   High       2014 non-null   float64\n",
            " 2   Low        2014 non-null   float64\n",
            " 3   Close      2014 non-null   float64\n",
            " 4   Adj Close  2014 non-null   float64\n",
            " 5   Volume     2014 non-null   int64  \n",
            "dtypes: float64(5), int64(1)\n",
            "memory usage: 94.5 KB\n"
          ]
        }
      ]
    },
    {
      "cell_type": "code",
      "source": [
        "x=df.iloc[:,[0,1,2,4,5]]\n",
        "y=df.iloc[:,3]"
      ],
      "metadata": {
        "id": "FNaRvV8wpMF_"
      },
      "execution_count": 15,
      "outputs": []
    },
    {
      "cell_type": "code",
      "source": [
        "from sklearn.preprocessing import StandardScaler\n",
        "scaler=StandardScaler()\n",
        "x=scaler.fit_transform(x)"
      ],
      "metadata": {
        "id": "rLciMlYwohnT"
      },
      "execution_count": 16,
      "outputs": []
    },
    {
      "cell_type": "markdown",
      "source": [
        "### Q2. Build the multi-level perceptron regression model to predict close value of stocks and check the model performance"
      ],
      "metadata": {
        "id": "_JTLUUKxpzQE"
      }
    },
    {
      "cell_type": "code",
      "source": [
        "from sklearn.model_selection import train_test_split\n",
        "x_train,x_test,y_train,y_test=train_test_split(x,y,test_size=0.33,random_state=42)"
      ],
      "metadata": {
        "id": "KIYVJlPKp5Kp"
      },
      "execution_count": 27,
      "outputs": []
    },
    {
      "cell_type": "code",
      "execution_count": 28,
      "metadata": {
        "colab": {
          "base_uri": "https://localhost:8080/"
        },
        "id": "NB-Z7E0_llg0",
        "outputId": "1c8054dc-e8b1-4fbb-dd0d-c2b76445b657"
      },
      "outputs": [
        {
          "output_type": "stream",
          "name": "stderr",
          "text": [
            "/usr/local/lib/python3.7/dist-packages/sklearn/neural_network/_multilayer_perceptron.py:696: ConvergenceWarning: Stochastic Optimizer: Maximum iterations (200) reached and the optimization hasn't converged yet.\n",
            "  ConvergenceWarning,\n"
          ]
        }
      ],
      "source": [
        "from sklearn.neural_network import MLPRegressor\n",
        "mlp=MLPRegressor()\n",
        "mlp.fit(x_train,y_train)\n",
        "y_pred=mlp.predict(x_test)"
      ]
    },
    {
      "cell_type": "code",
      "source": [
        "from sklearn.metrics import mean_squared_error,r2_score\n",
        "import math\n",
        "print('mean_squared_error',end=\" \")\n",
        "print(math.sqrt(mean_squared_error(y_test,y_pred)))\n",
        "print('R2 accuracy score',end=\" \")\n",
        "print(r2_score(y_test,y_pred))\n"
      ],
      "metadata": {
        "colab": {
          "base_uri": "https://localhost:8080/"
        },
        "id": "c0G5_dSAmcZO",
        "outputId": "818931ff-3802-4418-bc7b-f30625dd43e9"
      },
      "execution_count": 29,
      "outputs": [
        {
          "output_type": "stream",
          "name": "stdout",
          "text": [
            "mean_squared_error 16280.285775775526\n",
            "R2 accuracy score -16.232051800915542\n"
          ]
        }
      ]
    },
    {
      "cell_type": "code",
      "source": [
        "print(y_test)\n"
      ],
      "metadata": {
        "colab": {
          "base_uri": "https://localhost:8080/"
        },
        "id": "9qPtExl2rArS",
        "outputId": "2dab9f8b-9112-4d9f-e6bb-bc08882de5cc"
      },
      "execution_count": 30,
      "outputs": [
        {
          "output_type": "stream",
          "name": "stdout",
          "text": [
            "1198    18076.269531\n",
            "526     13485.969727\n",
            "393     13170.190430\n",
            "1407    17792.750000\n",
            "433     12598.549805\n",
            "            ...     \n",
            "1769    21784.779297\n",
            "772     15401.379883\n",
            "522     13579.469727\n",
            "513     13254.290039\n",
            "81      11559.490234\n",
            "Name: Close, Length: 665, dtype: float64\n"
          ]
        }
      ]
    },
    {
      "cell_type": "code",
      "source": [
        "print(y_pred)"
      ],
      "metadata": {
        "colab": {
          "base_uri": "https://localhost:8080/"
        },
        "id": "QvcXpvayr_1P",
        "outputId": "721ce4b7-a241-44bc-9b56-5bb2e1e08e33"
      },
      "execution_count": 31,
      "outputs": [
        {
          "output_type": "stream",
          "name": "stdout",
          "text": [
            "[ 352.5230529   939.5454371   958.52676573  350.1981631  1045.69916202\n",
            " 1056.85846921  362.70593519  986.11986355 1306.90538947  952.75449626\n",
            "  990.92941456  354.02502773  350.06329077 1010.72188646  490.49724983\n",
            "  652.01493901  345.91957217 1066.48399055  351.09910559 1138.88552042\n",
            " 1753.65680927 1814.12957916  398.13585494  352.60864274  998.2885575\n",
            "  329.05039717  373.91618219 1596.08951036  970.86693737 1617.95792879\n",
            "  399.58444152 1361.04161097 1349.94056963  951.22906073  361.23007252\n",
            "  532.03766728  639.83716658 1137.43405469  908.61342915  429.11866894\n",
            "  716.00003792 1107.77806709 1158.98674631 1015.75260426 1077.79512785\n",
            " 1068.75648823  331.68116787  962.32202755 1274.00976117  530.04982986\n",
            " 2076.17525932 1135.46108101  347.61632123 1049.15011302  373.82877571\n",
            "  342.89222983 1228.34544227 1253.89522867  374.10629217  393.29340154\n",
            " 1192.01094999  964.95829599  840.65145994  345.778255    342.36200765\n",
            "  979.48036785  397.40696324 1033.28259576 1195.09766788  831.07182553\n",
            "  987.12882435  513.97514445  363.61013394 1515.17940527  345.77608199\n",
            "  362.68279473  408.92045104  364.36559971  849.31990852 1034.57403683\n",
            "  361.97252774  973.61166591  347.89105764  339.5145353   332.61382275\n",
            " 1329.44896785  342.13453868 1006.03690746  396.39129657  347.45195348\n",
            "  368.82259917 1635.75342477  898.96786872 1141.87550994 1706.3757042\n",
            "  545.37025026  333.37622961 1200.93702469  660.69595628  367.82036082\n",
            "  354.1319835   341.23679754  605.86896398  346.24262665 1649.00743921\n",
            "  390.34946261  993.36143331 1148.57284217  356.75400329 1698.53320283\n",
            "  350.81342985  418.84800278  381.87808177 1084.24844448 1170.81611121\n",
            "  335.92132503 1185.83119775 1185.43955089  370.47309639  341.96591766\n",
            " 1064.9839361  1674.06583794 1161.87033373  379.57967588 1676.96735572\n",
            " 1622.28719351 1191.45565746  399.32777499  568.00330871  392.94740316\n",
            "  355.81630221 1068.14881925 1102.42882516  343.00392131 1536.62024171\n",
            "  397.80312177  362.9986949   330.32623212  434.27569213  557.98249391\n",
            "  343.68020023 1070.24835992  423.90408593  350.18476958  362.43230384\n",
            " 1156.1351311   366.11604927 1363.73652317 1520.42479968  704.3127384\n",
            "  609.50102551  908.89662523  347.85410629  399.54286979  815.70394907\n",
            " 1133.72012118  417.95424807  374.31214117  602.12795376  611.93905224\n",
            "  706.46949149 1165.55798439  324.08576821 1019.55901381 1173.04569885\n",
            " 1758.96041411 1186.25552061  934.75704008  397.72776382 1160.59977817\n",
            "  815.9060007   426.53908843 2272.41841973  833.66988496  352.71611699\n",
            " 1528.18158928 1163.96628058 1034.20401892 1211.4527176   364.12378942\n",
            " 2205.10805107  989.90209918 1043.64807199  337.44709161  402.24788819\n",
            " 1134.98144143  349.81520843 1254.8356897   413.34841219  975.15055208\n",
            "  336.37984929  931.11570612  965.66513884 1572.69028366 1095.75152815\n",
            " 1046.92124847 1109.33439088 1925.79459724 1031.77005838  546.29219485\n",
            "  915.11922246  347.67856773 1152.26288747 1161.12194389  357.03465122\n",
            "  377.39709411  976.9695826   392.2738959   352.43228559  377.45719378\n",
            "  982.19467919 1207.81841775 1114.10605575 1019.72639981  801.45974344\n",
            "  375.51128013  598.91413083  769.80982017 1263.6337903   636.85823766\n",
            " 1475.70199044 1505.64943707 1082.34734945  617.77480994 1578.63702495\n",
            "  343.71162873  356.26154154 1683.56668384  351.52271656  987.89492717\n",
            " 1131.78003402 1076.92443571 1533.7399245   375.97825474 1081.42277582\n",
            " 1063.7566261  1136.04604014  886.93937923  343.37124503 1741.96877775\n",
            " 1077.65955071  970.87205439  341.8153879   646.63214009  370.57470009\n",
            "  866.8734228  1062.91083584  808.7263652   391.38632506  444.36443322\n",
            " 1004.9691793  1178.48872063  941.97759223 1055.44981371  559.99086647\n",
            "  883.60432421 1609.34087242  372.9796451  1031.97075967  886.89571556\n",
            "  742.43947252  831.55474927  396.32662019  402.37304518  870.02487552\n",
            "  503.46947787 1196.98361888  415.17806255  410.58112599 1048.1983151\n",
            "  803.26408008  985.34474157  800.33717084  342.96617932  339.86574252\n",
            "  407.79428907  426.79929825  370.65076551 1532.04751727 1083.58033089\n",
            " 1975.81157347  946.91737447  389.88375963 1076.03886388 1555.41355561\n",
            "  907.35122817  524.11481343 1017.55049861  643.86923062 1187.16744553\n",
            "  363.62281302 1071.86275496 1271.46305373 1110.47824388  401.38278864\n",
            "  340.70942909  336.65185311  356.87756961 1769.78919259  382.48204124\n",
            " 1323.08009833  394.93564317  347.96235735 1014.09588752  870.84807784\n",
            " 1184.5801912  1693.39295655  346.14413037  345.56878985  872.77805994\n",
            " 1081.69252907 1004.68292423  431.86082029 1414.01533368  370.08882151\n",
            "  337.75872216  398.45067758  335.18699231  366.491395    328.59657181\n",
            "  451.56599757  341.10255681  423.44924377  370.45522366 1337.40106991\n",
            " 1255.0807917  1081.04436884 1017.41896929 1145.1849941  1612.34197065\n",
            "  991.17472589 1596.48120624  819.88083878 1030.0431798   365.53652869\n",
            "  844.96414602 1119.94506376 1578.33794683  598.03299171  385.20681169\n",
            "  374.78894925  982.25414369 1070.46108166  652.5912167   340.35575613\n",
            "  349.52920174 1151.43605851  530.6608836  1160.0122252   444.36332607\n",
            "  854.64325149  468.3085005  1616.43632634  390.12016524  387.61518934\n",
            " 1056.46632453  346.22155439  540.84822129  832.90658951 1009.23255723\n",
            " 1043.59172782  333.28522046  637.01700654 1407.70911195  643.9722203\n",
            "  395.97966523 1217.72945801  341.40621118 1102.82460033  881.32548226\n",
            "  388.53079477 1704.08278496 1137.3483131   345.84782834  747.83526429\n",
            "  320.17138758  369.31090488 1174.56464369 1600.38137699 1446.48280064\n",
            "  658.929669    998.21510488 1064.52719337  339.66067987  603.45463701\n",
            "  962.26277647  326.61268053  995.42073023  976.84008305  332.80899231\n",
            " 1035.72724314 1111.85416202  407.65420174  911.57071553  340.40366024\n",
            " 1645.53590436  885.38310474  425.89131412 1323.75676572  359.21797146\n",
            "  418.89791388  334.88676238  396.84971618 1180.19770005  571.56419248\n",
            "  396.49044086  900.57413129 1014.31300846 1623.29547924  992.09664908\n",
            "  377.69967852 1006.93399397 1009.86290633  374.56516794 1275.5726373\n",
            "  922.37331905  588.3558713   385.78994587  965.02328037 1275.43925223\n",
            "  450.6508853  1266.18386243 1256.5069847  1096.8773033   342.03018451\n",
            "  695.24062314 1139.49800773  351.08956482  908.82998275 1120.82305763\n",
            "  343.2126254   396.16051505  394.32573284  437.23224973  564.57653692\n",
            " 1032.80205031  378.94521698 1197.89982224  952.62249167  422.44617905\n",
            " 1650.97621884  904.93867989  369.48093254  956.70345586  941.3098643\n",
            " 1085.72663201 1093.99458016  949.42828192  828.74820895 1159.83329043\n",
            "  849.79335584  414.64481282  486.11253201  329.07743927 1064.24921219\n",
            " 1176.21063484  364.61668027 1347.20509078  709.71704111 1850.96145192\n",
            "  376.42601503 1205.90935171  342.00080283  390.92152946  953.34329427\n",
            " 1243.10049172 1077.57150865  563.61718162 1022.500576   1102.85026466\n",
            " 1265.52128993 1002.66729885  399.88289447 1199.20445153  362.58377658\n",
            " 1180.2462785   951.6027015   448.75007485 1075.09492965  336.92889892\n",
            "  357.70170933  370.53624302  845.00406613 1202.34025503  534.95358609\n",
            "  932.17394072  345.60321824 1161.10139465 1015.47307196  839.43531576\n",
            "  352.57677439 1176.70085344 1153.16657792  590.264026   1071.49321018\n",
            " 1045.67986996 1006.16953836 1895.34402758  944.85335999  635.65354674\n",
            "  298.14094489  391.71960272 1052.27448168  906.81493918  793.25454936\n",
            " 1600.10452586  334.09324005  386.52613747  356.99956955  413.27606419\n",
            "  765.34338317 1591.0915272  1010.20994192  995.19571586 1603.39958147\n",
            "  890.50631575 1741.40019004 1033.91408499  394.15470066 1227.21272598\n",
            "  340.51191978  349.67327693  359.86076252 1020.92177409  946.19677146\n",
            "  408.11997396 1516.43263334  332.58015963  892.93572146 1125.52478694\n",
            "  872.46973271  373.81678588 1426.67365111  856.87571094 1397.83669826\n",
            "  358.77892402 1549.90997952  339.71699015  978.85277754  802.31220561\n",
            "  325.95078318 1063.43481759  366.21728424 1158.14855202  427.62314714\n",
            "  385.93631774 1578.32078328  339.34827575 1116.6588214   905.75235918\n",
            " 1126.50901115  351.56630248  368.99037764 1028.69744972 1315.57098059\n",
            " 1283.60318986 1725.86869812  999.80654621  333.22694761  587.21810456\n",
            "  363.87853413 1079.10349043  397.66062741  987.31727946 1772.21653195\n",
            "  449.37908944  358.95132786 1006.55698105  365.62034422  870.88863287\n",
            "  805.07409169  574.26678568 1244.77387315  356.27496749  369.86325236\n",
            "  331.23316868  346.32457353 1069.71594683  357.41397548 1049.02936877\n",
            "  650.90194251  352.0351391  1573.6191011   607.52208187  359.43234547\n",
            "  349.20500736 1138.16861571  449.66897977 1025.84205733 1503.98872399\n",
            "  345.12060175 1126.45518512  958.2370525  1058.02470242  392.23653083\n",
            "  955.8069532   493.12631731  357.89933048 1111.11291752  611.14046645\n",
            "  361.24967654  481.84188354  358.45853142  412.76643701  988.25205687\n",
            " 1014.62517129  638.74107849  350.34501073  393.03310253  346.88599556\n",
            "  931.25836293  393.84587696 1271.37619628  925.71159652  627.59513547\n",
            "  924.49920878  431.87721269  352.5648757   921.32986781 1412.28762122\n",
            "  392.0427371   354.46025356  505.19489938 1725.79308196  397.90678721\n",
            "  332.73045632  336.10497714  841.8185813  1284.69943803  346.90493627\n",
            "  363.14935786 1073.04923709 1046.5526115   349.51631692 1216.89532601\n",
            " 2107.46356906 1070.88253894  350.45900411  947.40815968 1044.51282144\n",
            " 1815.39730242  406.83492498  917.55337814  780.17626731  397.54648139\n",
            " 1290.25620875  822.18615827 1053.04337475 2178.36339534 1207.49965271\n",
            " 1070.71372707 1066.53183501  378.55763975  337.0347494   943.80095559\n",
            "  355.30647255  396.22656683 1996.04980791  346.12909486 1123.48106049\n",
            " 1182.43226257  593.83406592  347.90193041  955.22664336 1295.80914951]\n"
          ]
        }
      ]
    },
    {
      "cell_type": "code",
      "source": [
        "import matplotlib.pyplot as mtp\n",
        "mtp.scatter(y_test,y_pred)\n",
        "mtp.show()"
      ],
      "metadata": {
        "colab": {
          "base_uri": "https://localhost:8080/",
          "height": 265
        },
        "id": "sjm_2joIsiNj",
        "outputId": "2f64ef31-d02d-4bf7-9232-46556b8530f0"
      },
      "execution_count": 33,
      "outputs": [
        {
          "output_type": "display_data",
          "data": {
            "text/plain": [
              "<Figure size 432x288 with 1 Axes>"
            ],
            "image/png": "[encoded data removed]"
          },
          "metadata": {
            "needs_background": "light"
          }
        }
      ]
    },
    {
      "cell_type": "markdown",
      "source": [
        "### Q3. Build the neural network model with  Hidden Layers, Activation Function, Solver and Learning Rate hyperparameters and check the accuracy of the model."
      ],
      "metadata": {
        "id": "VbFzxcjUt3mW"
      }
    },
    {
      "cell_type": "code",
      "source": [
        "build=MLPRegressor(hidden_layer_sizes=(40,50,10),activation='relu',solver='lbfgs',learning_rate='adaptive')"
      ],
      "metadata": {
        "id": "z7jCl_Pptmex"
      },
      "execution_count": 40,
      "outputs": []
    },
    {
      "cell_type": "code",
      "source": [
        "build.fit(x_train,y_train)\n",
        "y_pred=build.predict(x_test)\n"
      ],
      "metadata": {
        "colab": {
          "base_uri": "https://localhost:8080/"
        },
        "id": "OudrS3WGuijP",
        "outputId": "9fe7b06d-a300-4229-8e58-8412bcd86c60"
      },
      "execution_count": 41,
      "outputs": [
        {
          "output_type": "stream",
          "name": "stderr",
          "text": [
            "/usr/local/lib/python3.7/dist-packages/sklearn/neural_network/_multilayer_perceptron.py:549: ConvergenceWarning: lbfgs failed to converge (status=1):\n",
            "STOP: TOTAL NO. of ITERATIONS REACHED LIMIT.\n",
            "\n",
            "Increase the number of iterations (max_iter) or scale the data as shown in:\n",
            "    https://scikit-learn.org/stable/modules/preprocessing.html\n",
            "  self.n_iter_ = _check_optimize_result(\"lbfgs\", opt_res, self.max_iter)\n"
          ]
        }
      ]
    },
    {
      "cell_type": "code",
      "source": [
        "print('mean_squared_error',end=\" \")\n",
        "print(math.sqrt(mean_squared_error(y_test,y_pred)))\n",
        "print('R2 accuracy score',end=\" \")\n",
        "print(r2_score(y_test,y_pred))"
      ],
      "metadata": {
        "colab": {
          "base_uri": "https://localhost:8080/"
        },
        "id": "EKKk30K5uxjJ",
        "outputId": "1ff181a9-5bb5-4040-91ff-784e0e1b5e81"
      },
      "execution_count": 42,
      "outputs": [
        {
          "output_type": "stream",
          "name": "stdout",
          "text": [
            "mean_squared_error 9.408333029583249\n",
            "R2 accuracy score 0.9999942450930343\n"
          ]
        }
      ]
    },
    {
      "cell_type": "code",
      "source": [
        "mtp.scatter(y_test,y_pred)\n",
        "mtp.show()"
      ],
      "metadata": {
        "colab": {
          "base_uri": "https://localhost:8080/",
          "height": 265
        },
        "id": "SD91ejGsva9f",
        "outputId": "bdd784f9-e2c0-4c05-ede5-b3bfbc1c887e"
      },
      "execution_count": 43,
      "outputs": [
        {
          "output_type": "display_data",
          "data": {
            "text/plain": [
              "<Figure size 432x288 with 1 Axes>"
            ],
            "image/png": "[encoded data removed]"
          },
          "metadata": {
            "needs_background": "light"
          }
        }
      ]
    },
    {
      "cell_type": "code",
      "source": [
        ""
      ],
      "metadata": {
        "id": "fPRHlDW_vlQu"
      },
      "execution_count": null,
      "outputs": []
    }
  ]
}