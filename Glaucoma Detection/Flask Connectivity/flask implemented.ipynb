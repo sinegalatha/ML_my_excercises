{
 "cells": [
  {
   "cell_type": "markdown",
   "metadata": {},
   "source": [
    "# Inserting the necessary packages"
   ]
  },
  {
   "cell_type": "code",
   "execution_count": 2,
   "metadata": {},
   "outputs": [],
   "source": [
    "import os\n",
    "import matplotlib.pyplot as plt      \n",
    "import numpy as np\n",
    "import PIL                      # to import image\n",
    "import tensorflow as tf\n",
    "import keras                    # to import resnet50 model\n",
    "from keras.layers import Dense,Flatten     # to add additional layers to resnet layer\n",
    "from keras.models import Sequential         # to sequentially add layers to model\n",
    "from tensorflow.keras.optimizers import Adam    # use adam optimizer while compiling\n",
    "from flask import Flask, request, redirect, render_template\n",
    "from werkzeug.utils import secure_filename\n"
   ]
  },
  {
   "cell_type": "markdown",
   "metadata": {},
   "source": [
    "# Loading the saved model and creating object for Flask Connectivity"
   ]
  },
  {
   "cell_type": "code",
   "execution_count": 3,
   "metadata": {},
   "outputs": [],
   "source": [
    "from PIL import Image\n",
    "import base64\n",
    "import matplotlib.pyplot as plt\n",
    "from io import BytesIO\n",
    "import matplotlib.pyplot as mtp\n",
    "allowed_exts = {'jpg', 'jpeg','png','JPG','JPEG','PNG'}\n",
    "\n",
    "reconstructed_model = keras.models.load_model(\"my_model_glucoma\")\n",
    "app = Flask(__name__)\n",
    "\n",
    "def check_allowed_file(filename):\n",
    "\treturn '.' in filename and filename.rsplit('.', 1)[1].lower() in allowed_exts"
   ]
  },
  {
   "cell_type": "markdown",
   "metadata": {},
   "source": [
    "# Loading the training dataset"
   ]
  },
  {
   "cell_type": "code",
   "execution_count": 4,
   "metadata": {},
   "outputs": [],
   "source": [
    "import pickle\n",
    "pickle_in = open(\"train_ds\",\"rb\")\n",
    "classnames = pickle.load(pickle_in)"
   ]
  },
  {
   "cell_type": "markdown",
   "metadata": {},
   "source": [
    "# accepting the image retina file and predicting the output using model"
   ]
  },
  {
   "cell_type": "code",
   "execution_count": 5,
   "metadata": {},
   "outputs": [],
   "source": [
    "\n",
    "import cv2\n",
    "@app.route(\"/\",methods=['GET', 'POST'])\n",
    "def index():\n",
    "\tif request.method == 'POST':\n",
    "\t\tif 'file' not in request.files:\n",
    "\t\t\tprint('No file attached in request')\n",
    "\t\t\treturn redirect(request.url)\n",
    "\t\tfile = request.files['file']\n",
    "\t\tif file.filename == '':\n",
    "\t\t\tprint('No file selected')\n",
    "\t\t\treturn redirect(request.url)\n",
    "\t\tif file and check_allowed_file(file.filename):\n",
    "\t\t\tfilename = secure_filename(file.filename)\n",
    "\t\t\tprint(filename)\n",
    "\t\t\timg = Image.open(file.stream)\n",
    "\t\t\timg_height,img_width=300,300\n",
    "\t\t\timage_path = \"C:/Users/Sinegalatha/Desktop/Imarticus Learning/GLAUCOMA/static/Images/\"+filename\n",
    "\t\t\tprint(image_path)\n",
    "\t\t\tmtp.imshow(img)\n",
    "\t\t\tmtp.show() \n",
    "\t\t\timg1=np.asarray(img)\n",
    "\t\t\tcv2.imwrite(image_path, img1)\n",
    "\t\t\tbad=cv2.imread(image_path)\n",
    "\t\t\tbad_resized= cv2.resize(bad, (img_height,img_width))\n",
    "\t\t\tbad=np.expand_dims(bad_resized,axis=0)\n",
    "\t\t\tpred_save=reconstructed_model.predict(bad)\n",
    "\t\t\tprint(pred_save)\n",
    "\t\t\toutput_class=classnames[np.argmax(pred_save)]\n",
    "\t\t\tprint(\"The predicted class is\", output_class)\n",
    "\t\t\t\n",
    "\t\t\twith BytesIO() as buf:\n",
    "\t\t\t\timg.save(buf, 'jpeg')\n",
    "\t\t\t\timage_bytes = buf.getvalue()\n",
    "\t\t\tencoded_string = base64.b64encode(image_bytes).decode()         \n",
    "\t\treturn render_template('index.html', img_data=encoded_string, answer=output_class), 200\n",
    "\telse:\n",
    "\t\treturn render_template('index.html', img_data=\"\"), 200\n"
   ]
  },
  {
   "cell_type": "code",
   "execution_count": null,
   "metadata": {},
   "outputs": [
    {
     "name": "stdout",
     "output_type": "stream",
     "text": [
      " * Serving Flask app \"__main__\" (lazy loading)\n",
      " * Environment: production\n",
      "   WARNING: This is a development server. Do not use it in a production deployment.\n",
      "   Use a production WSGI server instead.\n",
      " * Debug mode: off\n"
     ]
    },
    {
     "name": "stderr",
     "output_type": "stream",
     "text": [
      " * Running on http://127.0.0.1:5000/ (Press CTRL+C to quit)\n",
      "127.0.0.1 - - [13/Jul/2022 22:51:15] \"\u001b[37mGET / HTTP/1.1\u001b[0m\" 200 -\n",
      "127.0.0.1 - - [13/Jul/2022 22:51:17] \"\u001b[33mGET /favicon.ico HTTP/1.1\u001b[0m\" 404 -\n"
     ]
    }
   ],
   "source": [
    "if __name__ == \"__main__\":\n",
    "\tapp.debug=True\n",
    "\tapp.run(debug=False)"
   ]
  },
  {
   "cell_type": "code",
   "execution_count": null,
   "metadata": {},
   "outputs": [],
   "source": []
  }
 ],
 "metadata": {
  "kernelspec": {
   "display_name": "Python 3",
   "language": "python",
   "name": "python3"
  },
  "language_info": {
   "codemirror_mode": {
    "name": "ipython",
    "version": 3
   },
   "file_extension": ".py",
   "mimetype": "text/x-python",
   "name": "python",
   "nbconvert_exporter": "python",
   "pygments_lexer": "ipython3",
   "version": "3.8.3"
  }
 },
 "nbformat": 4,
 "nbformat_minor": 4
}
