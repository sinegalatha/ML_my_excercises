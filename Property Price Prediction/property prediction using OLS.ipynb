{
  "nbformat": 4,
  "nbformat_minor": 0,
  "metadata": {
    "colab": {
      "name": "Predicting meal price using OLS.ipynb",
      "provenance": [],
      "collapsed_sections": [],
      "toc_visible": true
    },
    "kernelspec": {
      "name": "python3",
      "display_name": "Python 3"
    },
    "language_info": {
      "name": "python"
    }
  },
  "cells": [
    {
      "cell_type": "code",
      "source": [
        "# mounting the drive"
      ],
      "metadata": {
        "id": "3Bw-Fa6YtNEF"
      },
      "execution_count": null,
      "outputs": []
    },
    {
      "cell_type": "code",
      "source": [
        "from google.colab import drive\n",
        "drive.mount('/content/drive')"
      ],
      "metadata": {
        "id": "NkS9Cva10Cu6",
        "colab": {
          "base_uri": "https://localhost:8080/"
        },
        "outputId": "219d015c-d92d-4ebc-be5c-0f63c24f82e2"
      },
      "execution_count": 2,
      "outputs": [
        {
          "output_type": "stream",
          "name": "stdout",
          "text": [
            "Drive already mounted at /content/drive; to attempt to forcibly remount, call drive.mount(\"/content/drive\", force_remount=True).\n"
          ]
        }
      ]
    },
    {
      "cell_type": "code",
      "source": [
        "#importing statsmodel to import OLS model"
      ],
      "metadata": {
        "id": "GZv6BXvCtPxu"
      },
      "execution_count": null,
      "outputs": []
    },
    {
      "cell_type": "code",
      "execution_count": 3,
      "metadata": {
        "id": "HppKbgDGzfwd",
        "colab": {
          "base_uri": "https://localhost:8080/"
        },
        "outputId": "fe863cea-b348-4e3f-ba65-374fde789d02"
      },
      "outputs": [
        {
          "output_type": "stream",
          "name": "stderr",
          "text": [
            "/usr/local/lib/python3.7/dist-packages/statsmodels/tools/_testing.py:19: FutureWarning: pandas.util.testing is deprecated. Use the functions in the public API at pandas.testing instead.\n",
            "  import pandas.util.testing as tm\n"
          ]
        }
      ],
      "source": [
        "import pandas as pd\n",
        "import statsmodels.api as sm"
      ]
    },
    {
      "cell_type": "code",
      "source": [
        "#reading the csv file"
      ],
      "metadata": {
        "id": "hKRwaAsytV5l"
      },
      "execution_count": null,
      "outputs": []
    },
    {
      "cell_type": "code",
      "source": [
        "df = pd.read_csv(\"/content/drive/MyDrive/0.MKCE/Datasets/restaurants.csv\")"
      ],
      "metadata": {
        "id": "jAMppgDxz_1B"
      },
      "execution_count": 4,
      "outputs": []
    },
    {
      "cell_type": "code",
      "source": [
        "df"
      ],
      "metadata": {
        "id": "LgsNAx2xrcaW",
        "outputId": "5a70e619-3a97-481d-da01-0222785d6eb2",
        "colab": {
          "base_uri": "https://localhost:8080/",
          "height": 1000
        }
      },
      "execution_count": 5,
      "outputs": [
        {
          "output_type": "execute_result",
          "data": {
            "text/plain": [
              "   Restaurant_ID  Food_Quality  Service_Quality  Price\n",
              "0            ADS            22               20     43\n",
              "1            BLG            20               19     32\n",
              "2            CMK            21               18     34\n",
              "3            KLS            20               17     41\n",
              "4            IOS            24               21     54\n",
              "5            UWO            22               21     52\n",
              "6            USL            22               21     34\n",
              "7            UKS            20               21     34\n",
              "8            PLE            22               22     39\n",
              "9            HEL            21               19     44\n",
              "10           HQP            19               20     45\n",
              "11           QUS            21               21     47\n",
              "12           PLE            21               20     52\n",
              "13           YWL            19               19     35\n",
              "14           GQL            20               21     47\n",
              "15           PEL            21               21     37\n",
              "16           TLS            22               23     45\n",
              "17           NSL            24               22     57\n",
              "18           NBS            19               18     38\n",
              "19           ORL            22               22     51\n",
              "20           PLE            23               23     54\n",
              "21           QIO            23               21     51\n",
              "22           LEP            20               18     38\n",
              "23           TLD            22               21     49\n",
              "24           FPL            22               22     45\n",
              "25           UID            19               19     37\n",
              "26           PLQ            22               22     50\n",
              "27           ALP            20               18     43\n",
              "28           SLR            22               20     49\n",
              "29           ULA            21               20     65\n",
              "30           UEP            20               18     34\n",
              "31           MLA            21               18     51\n",
              "32           LMD            20               19     49\n",
              "33           UWL            23               23     51"
            ],
            "text/html": [
              "\n",
              "  <div id=\"df-539a7912-380e-4cbd-a500-b8180f232e09\">\n",
              "    <div class=\"colab-df-container\">\n",
              "      <div>\n",
              "<style scoped>\n",
              "    .dataframe tbody tr th:only-of-type {\n",
              "        vertical-align: middle;\n",
              "    }\n",
              "\n",
              "    .dataframe tbody tr th {\n",
              "        vertical-align: top;\n",
              "    }\n",
              "\n",
              "    .dataframe thead th {\n",
              "        text-align: right;\n",
              "    }\n",
              "</style>\n",
              "<table border=\"1\" class=\"dataframe\">\n",
              "  <thead>\n",
              "    <tr style=\"text-align: right;\">\n",
              "      <th></th>\n",
              "      <th>Restaurant_ID</th>\n",
              "      <th>Food_Quality</th>\n",
              "      <th>Service_Quality</th>\n",
              "      <th>Price</th>\n",
              "    </tr>\n",
              "  </thead>\n",
              "  <tbody>\n",
              "    <tr>\n",
              "      <th>0</th>\n",
              "      <td>ADS</td>\n",
              "      <td>22</td>\n",
              "      <td>20</td>\n",
              "      <td>43</td>\n",
              "    </tr>\n",
              "    <tr>\n",
              "      <th>1</th>\n",
              "      <td>BLG</td>\n",
              "      <td>20</td>\n",
              "      <td>19</td>\n",
              "      <td>32</td>\n",
              "    </tr>\n",
              "    <tr>\n",
              "      <th>2</th>\n",
              "      <td>CMK</td>\n",
              "      <td>21</td>\n",
              "      <td>18</td>\n",
              "      <td>34</td>\n",
              "    </tr>\n",
              "    <tr>\n",
              "      <th>3</th>\n",
              "      <td>KLS</td>\n",
              "      <td>20</td>\n",
              "      <td>17</td>\n",
              "      <td>41</td>\n",
              "    </tr>\n",
              "    <tr>\n",
              "      <th>4</th>\n",
              "      <td>IOS</td>\n",
              "      <td>24</td>\n",
              "      <td>21</td>\n",
              "      <td>54</td>\n",
              "    </tr>\n",
              "    <tr>\n",
              "      <th>5</th>\n",
              "      <td>UWO</td>\n",
              "      <td>22</td>\n",
              "      <td>21</td>\n",
              "      <td>52</td>\n",
              "    </tr>\n",
              "    <tr>\n",
              "      <th>6</th>\n",
              "      <td>USL</td>\n",
              "      <td>22</td>\n",
              "      <td>21</td>\n",
              "      <td>34</td>\n",
              "    </tr>\n",
              "    <tr>\n",
              "      <th>7</th>\n",
              "      <td>UKS</td>\n",
              "      <td>20</td>\n",
              "      <td>21</td>\n",
              "      <td>34</td>\n",
              "    </tr>\n",
              "    <tr>\n",
              "      <th>8</th>\n",
              "      <td>PLE</td>\n",
              "      <td>22</td>\n",
              "      <td>22</td>\n",
              "      <td>39</td>\n",
              "    </tr>\n",
              "    <tr>\n",
              "      <th>9</th>\n",
              "      <td>HEL</td>\n",
              "      <td>21</td>\n",
              "      <td>19</td>\n",
              "      <td>44</td>\n",
              "    </tr>\n",
              "    <tr>\n",
              "      <th>10</th>\n",
              "      <td>HQP</td>\n",
              "      <td>19</td>\n",
              "      <td>20</td>\n",
              "      <td>45</td>\n",
              "    </tr>\n",
              "    <tr>\n",
              "      <th>11</th>\n",
              "      <td>QUS</td>\n",
              "      <td>21</td>\n",
              "      <td>21</td>\n",
              "      <td>47</td>\n",
              "    </tr>\n",
              "    <tr>\n",
              "      <th>12</th>\n",
              "      <td>PLE</td>\n",
              "      <td>21</td>\n",
              "      <td>20</td>\n",
              "      <td>52</td>\n",
              "    </tr>\n",
              "    <tr>\n",
              "      <th>13</th>\n",
              "      <td>YWL</td>\n",
              "      <td>19</td>\n",
              "      <td>19</td>\n",
              "      <td>35</td>\n",
              "    </tr>\n",
              "    <tr>\n",
              "      <th>14</th>\n",
              "      <td>GQL</td>\n",
              "      <td>20</td>\n",
              "      <td>21</td>\n",
              "      <td>47</td>\n",
              "    </tr>\n",
              "    <tr>\n",
              "      <th>15</th>\n",
              "      <td>PEL</td>\n",
              "      <td>21</td>\n",
              "      <td>21</td>\n",
              "      <td>37</td>\n",
              "    </tr>\n",
              "    <tr>\n",
              "      <th>16</th>\n",
              "      <td>TLS</td>\n",
              "      <td>22</td>\n",
              "      <td>23</td>\n",
              "      <td>45</td>\n",
              "    </tr>\n",
              "    <tr>\n",
              "      <th>17</th>\n",
              "      <td>NSL</td>\n",
              "      <td>24</td>\n",
              "      <td>22</td>\n",
              "      <td>57</td>\n",
              "    </tr>\n",
              "    <tr>\n",
              "      <th>18</th>\n",
              "      <td>NBS</td>\n",
              "      <td>19</td>\n",
              "      <td>18</td>\n",
              "      <td>38</td>\n",
              "    </tr>\n",
              "    <tr>\n",
              "      <th>19</th>\n",
              "      <td>ORL</td>\n",
              "      <td>22</td>\n",
              "      <td>22</td>\n",
              "      <td>51</td>\n",
              "    </tr>\n",
              "    <tr>\n",
              "      <th>20</th>\n",
              "      <td>PLE</td>\n",
              "      <td>23</td>\n",
              "      <td>23</td>\n",
              "      <td>54</td>\n",
              "    </tr>\n",
              "    <tr>\n",
              "      <th>21</th>\n",
              "      <td>QIO</td>\n",
              "      <td>23</td>\n",
              "      <td>21</td>\n",
              "      <td>51</td>\n",
              "    </tr>\n",
              "    <tr>\n",
              "      <th>22</th>\n",
              "      <td>LEP</td>\n",
              "      <td>20</td>\n",
              "      <td>18</td>\n",
              "      <td>38</td>\n",
              "    </tr>\n",
              "    <tr>\n",
              "      <th>23</th>\n",
              "      <td>TLD</td>\n",
              "      <td>22</td>\n",
              "      <td>21</td>\n",
              "      <td>49</td>\n",
              "    </tr>\n",
              "    <tr>\n",
              "      <th>24</th>\n",
              "      <td>FPL</td>\n",
              "      <td>22</td>\n",
              "      <td>22</td>\n",
              "      <td>45</td>\n",
              "    </tr>\n",
              "    <tr>\n",
              "      <th>25</th>\n",
              "      <td>UID</td>\n",
              "      <td>19</td>\n",
              "      <td>19</td>\n",
              "      <td>37</td>\n",
              "    </tr>\n",
              "    <tr>\n",
              "      <th>26</th>\n",
              "      <td>PLQ</td>\n",
              "      <td>22</td>\n",
              "      <td>22</td>\n",
              "      <td>50</td>\n",
              "    </tr>\n",
              "    <tr>\n",
              "      <th>27</th>\n",
              "      <td>ALP</td>\n",
              "      <td>20</td>\n",
              "      <td>18</td>\n",
              "      <td>43</td>\n",
              "    </tr>\n",
              "    <tr>\n",
              "      <th>28</th>\n",
              "      <td>SLR</td>\n",
              "      <td>22</td>\n",
              "      <td>20</td>\n",
              "      <td>49</td>\n",
              "    </tr>\n",
              "    <tr>\n",
              "      <th>29</th>\n",
              "      <td>ULA</td>\n",
              "      <td>21</td>\n",
              "      <td>20</td>\n",
              "      <td>65</td>\n",
              "    </tr>\n",
              "    <tr>\n",
              "      <th>30</th>\n",
              "      <td>UEP</td>\n",
              "      <td>20</td>\n",
              "      <td>18</td>\n",
              "      <td>34</td>\n",
              "    </tr>\n",
              "    <tr>\n",
              "      <th>31</th>\n",
              "      <td>MLA</td>\n",
              "      <td>21</td>\n",
              "      <td>18</td>\n",
              "      <td>51</td>\n",
              "    </tr>\n",
              "    <tr>\n",
              "      <th>32</th>\n",
              "      <td>LMD</td>\n",
              "      <td>20</td>\n",
              "      <td>19</td>\n",
              "      <td>49</td>\n",
              "    </tr>\n",
              "    <tr>\n",
              "      <th>33</th>\n",
              "      <td>UWL</td>\n",
              "      <td>23</td>\n",
              "      <td>23</td>\n",
              "      <td>51</td>\n",
              "    </tr>\n",
              "  </tbody>\n",
              "</table>\n",
              "</div>\n",
              "      <button class=\"colab-df-convert\" onclick=\"convertToInteractive('df-539a7912-380e-4cbd-a500-b8180f232e09')\"\n",
              "              title=\"Convert this dataframe to an interactive table.\"\n",
              "              style=\"display:none;\">\n",
              "        \n",
              "  <svg xmlns=\"http://www.w3.org/2000/svg\" height=\"24px\"viewBox=\"0 0 24 24\"\n",
              "       width=\"24px\">\n",
              "    <path d=\"M0 0h24v24H0V0z\" fill=\"none\"/>\n",
              "    <path d=\"M18.56 5.44l.94 2.06.94-2.06 2.06-.94-2.06-.94-.94-2.06-.94 2.06-2.06.94zm-11 1L8.5 8.5l.94-2.06 2.06-.94-2.06-.94L8.5 2.5l-.94 2.06-2.06.94zm10 10l.94 2.06.94-2.06 2.06-.94-2.06-.94-.94-2.06-.94 2.06-2.06.94z\"/><path d=\"M17.41 7.96l-1.37-1.37c-.4-.4-.92-.59-1.43-.59-.52 0-1.04.2-1.43.59L10.3 9.45l-7.72 7.72c-.78.78-.78 2.05 0 2.83L4 21.41c.39.39.9.59 1.41.59.51 0 1.02-.2 1.41-.59l7.78-7.78 2.81-2.81c.8-.78.8-2.07 0-2.86zM5.41 20L4 18.59l7.72-7.72 1.47 1.35L5.41 20z\"/>\n",
              "  </svg>\n",
              "      </button>\n",
              "      \n",
              "  <style>\n",
              "    .colab-df-container {\n",
              "      display:flex;\n",
              "      flex-wrap:wrap;\n",
              "      gap: 12px;\n",
              "    }\n",
              "\n",
              "    .colab-df-convert {\n",
              "      background-color: #E8F0FE;\n",
              "      border: none;\n",
              "      border-radius: 50%;\n",
              "      cursor: pointer;\n",
              "      display: none;\n",
              "      fill: #1967D2;\n",
              "      height: 32px;\n",
              "      padding: 0 0 0 0;\n",
              "      width: 32px;\n",
              "    }\n",
              "\n",
              "    .colab-df-convert:hover {\n",
              "      background-color: #E2EBFA;\n",
              "      box-shadow: 0px 1px 2px rgba(60, 64, 67, 0.3), 0px 1px 3px 1px rgba(60, 64, 67, 0.15);\n",
              "      fill: #174EA6;\n",
              "    }\n",
              "\n",
              "    [theme=dark] .colab-df-convert {\n",
              "      background-color: #3B4455;\n",
              "      fill: #D2E3FC;\n",
              "    }\n",
              "\n",
              "    [theme=dark] .colab-df-convert:hover {\n",
              "      background-color: #434B5C;\n",
              "      box-shadow: 0px 1px 3px 1px rgba(0, 0, 0, 0.15);\n",
              "      filter: drop-shadow(0px 1px 2px rgba(0, 0, 0, 0.3));\n",
              "      fill: #FFFFFF;\n",
              "    }\n",
              "  </style>\n",
              "\n",
              "      <script>\n",
              "        const buttonEl =\n",
              "          document.querySelector('#df-539a7912-380e-4cbd-a500-b8180f232e09 button.colab-df-convert');\n",
              "        buttonEl.style.display =\n",
              "          google.colab.kernel.accessAllowed ? 'block' : 'none';\n",
              "\n",
              "        async function convertToInteractive(key) {\n",
              "          const element = document.querySelector('#df-539a7912-380e-4cbd-a500-b8180f232e09');\n",
              "          const dataTable =\n",
              "            await google.colab.kernel.invokeFunction('convertToInteractive',\n",
              "                                                     [key], {});\n",
              "          if (!dataTable) return;\n",
              "\n",
              "          const docLinkHtml = 'Like what you see? Visit the ' +\n",
              "            '<a target=\"_blank\" href=https://colab.research.google.com/notebooks/data_table.ipynb>data table notebook</a>'\n",
              "            + ' to learn more about interactive tables.';\n",
              "          element.innerHTML = '';\n",
              "          dataTable['output_type'] = 'display_data';\n",
              "          await google.colab.output.renderOutput(dataTable, element);\n",
              "          const docLink = document.createElement('div');\n",
              "          docLink.innerHTML = docLinkHtml;\n",
              "          element.appendChild(docLink);\n",
              "        }\n",
              "      </script>\n",
              "    </div>\n",
              "  </div>\n",
              "  "
            ]
          },
          "metadata": {},
          "execution_count": 5
        }
      ]
    },
    {
      "cell_type": "code",
      "source": [
        "# taking product quality and service quality as independent variable\n",
        "# taking price as target"
      ],
      "metadata": {
        "id": "9r9mEHWqtp4M"
      },
      "execution_count": 14,
      "outputs": []
    },
    {
      "cell_type": "code",
      "source": [
        "X = df.iloc[:,1:3]\n",
        "print(X)\n",
        "Y = df['Price']\n",
        "print(Y)"
      ],
      "metadata": {
        "id": "GRkSyC570bta",
        "outputId": "1c1da7d0-af17-4136-8233-7614e82b02e8",
        "colab": {
          "base_uri": "https://localhost:8080/"
        }
      },
      "execution_count": 36,
      "outputs": [
        {
          "output_type": "stream",
          "name": "stdout",
          "text": [
            "    Food_Quality  Service_Quality\n",
            "0             22               20\n",
            "1             20               19\n",
            "2             21               18\n",
            "3             20               17\n",
            "4             24               21\n",
            "5             22               21\n",
            "6             22               21\n",
            "7             20               21\n",
            "8             22               22\n",
            "9             21               19\n",
            "10            19               20\n",
            "11            21               21\n",
            "12            21               20\n",
            "13            19               19\n",
            "14            20               21\n",
            "15            21               21\n",
            "16            22               23\n",
            "17            24               22\n",
            "18            19               18\n",
            "19            22               22\n",
            "20            23               23\n",
            "21            23               21\n",
            "22            20               18\n",
            "23            22               21\n",
            "24            22               22\n",
            "25            19               19\n",
            "26            22               22\n",
            "27            20               18\n",
            "28            22               20\n",
            "29            21               20\n",
            "30            20               18\n",
            "31            21               18\n",
            "32            20               19\n",
            "33            23               23\n",
            "0     43\n",
            "1     32\n",
            "2     34\n",
            "3     41\n",
            "4     54\n",
            "5     52\n",
            "6     34\n",
            "7     34\n",
            "8     39\n",
            "9     44\n",
            "10    45\n",
            "11    47\n",
            "12    52\n",
            "13    35\n",
            "14    47\n",
            "15    37\n",
            "16    45\n",
            "17    57\n",
            "18    38\n",
            "19    51\n",
            "20    54\n",
            "21    51\n",
            "22    38\n",
            "23    49\n",
            "24    45\n",
            "25    37\n",
            "26    50\n",
            "27    43\n",
            "28    49\n",
            "29    65\n",
            "30    34\n",
            "31    51\n",
            "32    49\n",
            "33    51\n",
            "Name: Price, dtype: int64\n"
          ]
        }
      ]
    },
    {
      "cell_type": "code",
      "source": [
        "# adding constant to the independent variable by using add_constant\n",
        "# fitting the ols model from statsmodels to y and x"
      ],
      "metadata": {
        "id": "7QpjCn9zt_gQ"
      },
      "execution_count": 37,
      "outputs": []
    },
    {
      "cell_type": "code",
      "source": [
        "X = sm.add_constant(X)\n",
        "\n",
        "model = sm.OLS(Y, X).fit()"
      ],
      "metadata": {
        "id": "OlGa0d-X0gSZ",
        "outputId": "e62ec20e-2f2a-4d96-8e91-6269e1f61f0b",
        "colab": {
          "base_uri": "https://localhost:8080/"
        }
      },
      "execution_count": 38,
      "outputs": [
        {
          "output_type": "stream",
          "name": "stderr",
          "text": [
            "/usr/local/lib/python3.7/dist-packages/statsmodels/tsa/tsatools.py:117: FutureWarning: In a future version of pandas all arguments of concat except for the argument 'objs' will be keyword-only\n",
            "  x = pd.concat(x[::order], 1)\n"
          ]
        }
      ]
    },
    {
      "cell_type": "code",
      "source": [
        "# getting the total summary of model\n",
        "# from below we can understand that the regression equation will be\n",
        "# y=0.2661(service_quality)+3.0272(food_quality)-24.5782"
      ],
      "metadata": {
        "id": "-DqgbN2Cvbz8"
      },
      "execution_count": 39,
      "outputs": []
    },
    {
      "cell_type": "code",
      "source": [
        "summary = model.summary()\n",
        "print(summary)"
      ],
      "metadata": {
        "id": "JZQ2HhWX0kv_",
        "outputId": "4e498435-683a-411d-9a59-1bcf19b853ae",
        "colab": {
          "base_uri": "https://localhost:8080/"
        }
      },
      "execution_count": 40,
      "outputs": [
        {
          "output_type": "stream",
          "name": "stdout",
          "text": [
            "                            OLS Regression Results                            \n",
            "==============================================================================\n",
            "Dep. Variable:                  Price   R-squared:                       0.323\n",
            "Model:                            OLS   Adj. R-squared:                  0.279\n",
            "Method:                 Least Squares   F-statistic:                     7.392\n",
            "Date:                Fri, 27 May 2022   Prob (F-statistic):            0.00237\n",
            "Time:                        18:21:20   Log-Likelihood:                -111.46\n",
            "No. Observations:                  34   AIC:                             228.9\n",
            "Df Residuals:                      31   BIC:                             233.5\n",
            "Df Model:                           2                                         \n",
            "Covariance Type:            nonrobust                                         \n",
            "===================================================================================\n",
            "                      coef    std err          t      P>|t|      [0.025      0.975]\n",
            "-----------------------------------------------------------------------------------\n",
            "const             -24.5782     18.147     -1.354      0.185     -61.589      12.433\n",
            "Food_Quality        3.0272      1.172      2.584      0.015       0.638       5.417\n",
            "Service_Quality     0.2661      0.968      0.275      0.785      -1.709       2.241\n",
            "==============================================================================\n",
            "Omnibus:                        5.779   Durbin-Watson:                   1.820\n",
            "Prob(Omnibus):                  0.056   Jarque-Bera (JB):                4.898\n",
            "Skew:                           0.513   Prob(JB):                       0.0864\n",
            "Kurtosis:                       4.550   Cond. No.                         463.\n",
            "==============================================================================\n",
            "\n",
            "Warnings:\n",
            "[1] Standard Errors assume that the covariance matrix of the errors is correctly specified.\n"
          ]
        }
      ]
    },
    {
      "cell_type": "code",
      "source": [
        "sm.stats.linear_rainbow(model)"
      ],
      "metadata": {
        "id": "JXlijrfQ0pz8",
        "outputId": "8f631413-f2aa-402a-b3a6-d005c3fd0bcc",
        "colab": {
          "base_uri": "https://localhost:8080/"
        }
      },
      "execution_count": 41,
      "outputs": [
        {
          "output_type": "execute_result",
          "data": {
            "text/plain": [
              "(3.7866971952540425, 0.0077876182464610465)"
            ]
          },
          "metadata": {},
          "execution_count": 41
        }
      ]
    },
    {
      "cell_type": "code",
      "source": [
        "# gives the parameters in regression equation"
      ],
      "metadata": {
        "id": "LUAKRoPkwYwl"
      },
      "execution_count": null,
      "outputs": []
    },
    {
      "cell_type": "code",
      "source": [
        "model.params"
      ],
      "metadata": {
        "id": "9DUwkVTU1jvE",
        "outputId": "977f8e31-f76e-412e-b071-e45569708029",
        "colab": {
          "base_uri": "https://localhost:8080/"
        }
      },
      "execution_count": 42,
      "outputs": [
        {
          "output_type": "execute_result",
          "data": {
            "text/plain": [
              "const             -24.578212\n",
              "Food_Quality        3.027235\n",
              "Service_Quality     0.266061\n",
              "dtype: float64"
            ]
          },
          "metadata": {},
          "execution_count": 42
        }
      ]
    },
    {
      "cell_type": "code",
      "source": [
        "# rsquared used to show how the predicted target variable is varies form original target"
      ],
      "metadata": {
        "id": "M_JZo1w0wIup"
      },
      "execution_count": 44,
      "outputs": []
    },
    {
      "cell_type": "code",
      "source": [
        "model.rsquared"
      ],
      "metadata": {
        "id": "Y2vljdgL2Xol",
        "outputId": "dd6404d9-9b42-4abf-f8f4-64ed9ec91a42",
        "colab": {
          "base_uri": "https://localhost:8080/"
        }
      },
      "execution_count": 45,
      "outputs": [
        {
          "output_type": "execute_result",
          "data": {
            "text/plain": [
              "0.322919793241206"
            ]
          },
          "metadata": {},
          "execution_count": 45
        }
      ]
    },
    {
      "cell_type": "code",
      "source": [
        ""
      ],
      "metadata": {
        "id": "LlF8F2sv2lK3"
      },
      "execution_count": null,
      "outputs": []
    }
  ]
}