{
  "cells": [
    {
      "cell_type": "markdown",
      "metadata": {
        "id": "Pyco4m2RzZ3C"
      },
      "source": [
        "<a id='import_lib'></a>\n",
        "# 1. Import Libraries"
      ]
    },
    {
      "cell_type": "code",
      "execution_count": null,
      "metadata": {
        "collapsed": true,
        "id": "ngoEEPXzzZ3E"
      },
      "outputs": [],
      "source": [
        "# suppress warnings \n",
        "from warnings import filterwarnings\n",
        "filterwarnings('ignore')\n",
        "\n",
        "# 'Os' module provides functions for interacting with the operating system \n",
        "import os\n",
        "\n",
        "# 'Pandas' is used for data manipulation and analysis\n",
        "import pandas as pd \n",
        "\n",
        "# 'Numpy' is used for mathematical operations on large, multi-dimensional arrays and matrices\n",
        "import numpy as np\n",
        "\n",
        "# 'Matplotlib' is a data visualization library for 2D and 3D plots, built on numpy\n",
        "import matplotlib.pyplot as plt\n",
        "%matplotlib inline\n",
        "\n",
        "# 'Seaborn' is based on matplotlib; used for plotting statistical graphics\n",
        "import seaborn as sns\n",
        "\n",
        "from math import radians, cos, sin, sqrt, asin\n",
        "\n",
        "# 'Scikit-learn' (sklearn) emphasizes various regression, classification and clustering algorithms\n",
        "from sklearn.model_selection import train_test_split\n",
        "from sklearn import metrics\n",
        "from sklearn import preprocessing\n",
        "from sklearn.model_selection import GridSearchCV\n",
        "from sklearn.ensemble import RandomForestRegressor"
      ]
    },
    {
      "cell_type": "code",
      "execution_count": null,
      "metadata": {
        "collapsed": true,
        "id": "glGEUnCrzZ3G"
      },
      "outputs": [],
      "source": [
        "# set the plot size using 'rcParams'\n",
        "# once the plot size is set using 'rcParams', it sets the size of all the forthcoming plots in the file\n",
        "# pass width and height in inches to 'figure.figsize' \n",
        "plt.rcParams['figure.figsize'] = [15,8]"
      ]
    },
    {
      "cell_type": "markdown",
      "metadata": {
        "id": "A2JdOhrzzZ3G"
      },
      "source": [
        "<a id='set_options'></a>\n",
        "# 2. Set Options"
      ]
    },
    {
      "cell_type": "code",
      "execution_count": null,
      "metadata": {
        "collapsed": true,
        "id": "HuE61EzYzZ3H"
      },
      "outputs": [],
      "source": [
        "# display all columns of the dataframe\n",
        "pd.options.display.max_columns = None\n",
        "\n",
        "# display all rows of the dataframe\n",
        "pd.options.display.max_rows = None\n",
        "\n",
        "# returns an output value upto 6 decimals\n",
        "pd.options.display.float_format = '{:.6f}'.format"
      ]
    },
    {
      "cell_type": "markdown",
      "metadata": {
        "id": "2a-qBuyszZ3I"
      },
      "source": [
        "<a id='Read_Data'></a>\n",
        "# 3. Read Data"
      ]
    },
    {
      "cell_type": "code",
      "execution_count": null,
      "metadata": {
        "colab": {
          "base_uri": "https://localhost:8080/"
        },
        "id": "6niAzyuHzicb",
        "outputId": "bae8b4ed-d791-4ef3-b5d0-842d0c96111e"
      },
      "outputs": [
        {
          "name": "stdout",
          "output_type": "stream",
          "text": [
            "Drive already mounted at /content/drive; to attempt to forcibly remount, call drive.mount(\"/content/drive\", force_remount=True).\n"
          ]
        }
      ],
      "source": [
        "from google.colab import drive\n",
        "drive.mount('/content/drive')"
      ]
    },
    {
      "cell_type": "code",
      "execution_count": null,
      "metadata": {
        "colab": {
          "base_uri": "https://localhost:8080/"
        },
        "id": "ZRyf5PXVzZ3J",
        "outputId": "2a1f3827-4401-45f7-a51a-318d0f02a049"
      },
      "outputs": [
        {
          "data": {
            "text/html": [
              "\n",
              "  <div id=\"df-6b54afc8-39e7-4fd2-89ec-242c3684cd0f\">\n",
              "    <div class=\"colab-df-container\">\n",
              "      <div>\n",
              "<style scoped>\n",
              "    .dataframe tbody tr th:only-of-type {\n",
              "        vertical-align: middle;\n",
              "    }\n",
              "\n",
              "    .dataframe tbody tr th {\n",
              "        vertical-align: top;\n",
              "    }\n",
              "\n",
              "    .dataframe thead th {\n",
              "        text-align: right;\n",
              "    }\n",
              "</style>\n",
              "<table border=\"1\" class=\"dataframe\">\n",
              "  <thead>\n",
              "    <tr style=\"text-align: right;\">\n",
              "      <th></th>\n",
              "      <th>unique_id</th>\n",
              "      <th>amount</th>\n",
              "      <th>date_time_of_pickup</th>\n",
              "      <th>longitude_of_pickup</th>\n",
              "      <th>latitude_of_pickup</th>\n",
              "      <th>longitude_of_dropoff</th>\n",
              "      <th>latitude_of_dropoff</th>\n",
              "      <th>no_of_passenger</th>\n",
              "    </tr>\n",
              "  </thead>\n",
              "  <tbody>\n",
              "    <tr>\n",
              "      <th>0</th>\n",
              "      <td>26:21.0</td>\n",
              "      <td>4.500000</td>\n",
              "      <td>2009-06-15 17:26:21 UTC</td>\n",
              "      <td>-73.844311</td>\n",
              "      <td>40.721319</td>\n",
              "      <td>-73.841610</td>\n",
              "      <td>40.712278</td>\n",
              "      <td>1</td>\n",
              "    </tr>\n",
              "    <tr>\n",
              "      <th>1</th>\n",
              "      <td>52:16.0</td>\n",
              "      <td>16.900000</td>\n",
              "      <td>2010-01-05 16:52:16 UTC</td>\n",
              "      <td>-74.016048</td>\n",
              "      <td>40.711303</td>\n",
              "      <td>-73.979268</td>\n",
              "      <td>40.782004</td>\n",
              "      <td>1</td>\n",
              "    </tr>\n",
              "    <tr>\n",
              "      <th>2</th>\n",
              "      <td>35:00.0</td>\n",
              "      <td>5.700000</td>\n",
              "      <td>2011-08-18 00:35:00 UTC</td>\n",
              "      <td>-73.982738</td>\n",
              "      <td>40.761270</td>\n",
              "      <td>-73.991242</td>\n",
              "      <td>40.750562</td>\n",
              "      <td>2</td>\n",
              "    </tr>\n",
              "    <tr>\n",
              "      <th>3</th>\n",
              "      <td>30:42.0</td>\n",
              "      <td>7.700000</td>\n",
              "      <td>2012-04-21 04:30:42 UTC</td>\n",
              "      <td>-73.987130</td>\n",
              "      <td>40.733143</td>\n",
              "      <td>-73.991567</td>\n",
              "      <td>40.758092</td>\n",
              "      <td>1</td>\n",
              "    </tr>\n",
              "    <tr>\n",
              "      <th>4</th>\n",
              "      <td>51:00.0</td>\n",
              "      <td>5.300000</td>\n",
              "      <td>2010-03-09 07:51:00 UTC</td>\n",
              "      <td>-73.968095</td>\n",
              "      <td>40.768008</td>\n",
              "      <td>-73.956655</td>\n",
              "      <td>40.783762</td>\n",
              "      <td>1</td>\n",
              "    </tr>\n",
              "  </tbody>\n",
              "</table>\n",
              "</div>\n",
              "      <button class=\"colab-df-convert\" onclick=\"convertToInteractive('df-6b54afc8-39e7-4fd2-89ec-242c3684cd0f')\"\n",
              "              title=\"Convert this dataframe to an interactive table.\"\n",
              "              style=\"display:none;\">\n",
              "        \n",
              "  <svg xmlns=\"http://www.w3.org/2000/svg\" height=\"24px\"viewBox=\"0 0 24 24\"\n",
              "       width=\"24px\">\n",
              "    <path d=\"M0 0h24v24H0V0z\" fill=\"none\"/>\n",
              "    <path d=\"M18.56 5.44l.94 2.06.94-2.06 2.06-.94-2.06-.94-.94-2.06-.94 2.06-2.06.94zm-11 1L8.5 8.5l.94-2.06 2.06-.94-2.06-.94L8.5 2.5l-.94 2.06-2.06.94zm10 10l.94 2.06.94-2.06 2.06-.94-2.06-.94-.94-2.06-.94 2.06-2.06.94z\"/><path d=\"M17.41 7.96l-1.37-1.37c-.4-.4-.92-.59-1.43-.59-.52 0-1.04.2-1.43.59L10.3 9.45l-7.72 7.72c-.78.78-.78 2.05 0 2.83L4 21.41c.39.39.9.59 1.41.59.51 0 1.02-.2 1.41-.59l7.78-7.78 2.81-2.81c.8-.78.8-2.07 0-2.86zM5.41 20L4 18.59l7.72-7.72 1.47 1.35L5.41 20z\"/>\n",
              "  </svg>\n",
              "      </button>\n",
              "      \n",
              "  <style>\n",
              "    .colab-df-container {\n",
              "      display:flex;\n",
              "      flex-wrap:wrap;\n",
              "      gap: 12px;\n",
              "    }\n",
              "\n",
              "    .colab-df-convert {\n",
              "      background-color: #E8F0FE;\n",
              "      border: none;\n",
              "      border-radius: 50%;\n",
              "      cursor: pointer;\n",
              "      display: none;\n",
              "      fill: #1967D2;\n",
              "      height: 32px;\n",
              "      padding: 0 0 0 0;\n",
              "      width: 32px;\n",
              "    }\n",
              "\n",
              "    .colab-df-convert:hover {\n",
              "      background-color: #E2EBFA;\n",
              "      box-shadow: 0px 1px 2px rgba(60, 64, 67, 0.3), 0px 1px 3px 1px rgba(60, 64, 67, 0.15);\n",
              "      fill: #174EA6;\n",
              "    }\n",
              "\n",
              "    [theme=dark] .colab-df-convert {\n",
              "      background-color: #3B4455;\n",
              "      fill: #D2E3FC;\n",
              "    }\n",
              "\n",
              "    [theme=dark] .colab-df-convert:hover {\n",
              "      background-color: #434B5C;\n",
              "      box-shadow: 0px 1px 3px 1px rgba(0, 0, 0, 0.15);\n",
              "      filter: drop-shadow(0px 1px 2px rgba(0, 0, 0, 0.3));\n",
              "      fill: #FFFFFF;\n",
              "    }\n",
              "  </style>\n",
              "\n",
              "      <script>\n",
              "        const buttonEl =\n",
              "          document.querySelector('#df-6b54afc8-39e7-4fd2-89ec-242c3684cd0f button.colab-df-convert');\n",
              "        buttonEl.style.display =\n",
              "          google.colab.kernel.accessAllowed ? 'block' : 'none';\n",
              "\n",
              "        async function convertToInteractive(key) {\n",
              "          const element = document.querySelector('#df-6b54afc8-39e7-4fd2-89ec-242c3684cd0f');\n",
              "          const dataTable =\n",
              "            await google.colab.kernel.invokeFunction('convertToInteractive',\n",
              "                                                     [key], {});\n",
              "          if (!dataTable) return;\n",
              "\n",
              "          const docLinkHtml = 'Like what you see? Visit the ' +\n",
              "            '<a target=\"_blank\" href=https://colab.research.google.com/notebooks/data_table.ipynb>data table notebook</a>'\n",
              "            + ' to learn more about interactive tables.';\n",
              "          element.innerHTML = '';\n",
              "          dataTable['output_type'] = 'display_data';\n",
              "          await google.colab.output.renderOutput(dataTable, element);\n",
              "          const docLink = document.createElement('div');\n",
              "          docLink.innerHTML = docLinkHtml;\n",
              "          element.appendChild(docLink);\n",
              "        }\n",
              "      </script>\n",
              "    </div>\n",
              "  </div>\n",
              "  "
            ],
            "text/plain": [
              "  unique_id    amount      date_time_of_pickup  longitude_of_pickup  \\\n",
              "0   26:21.0  4.500000  2009-06-15 17:26:21 UTC           -73.844311   \n",
              "1   52:16.0 16.900000  2010-01-05 16:52:16 UTC           -74.016048   \n",
              "2   35:00.0  5.700000  2011-08-18 00:35:00 UTC           -73.982738   \n",
              "3   30:42.0  7.700000  2012-04-21 04:30:42 UTC           -73.987130   \n",
              "4   51:00.0  5.300000  2010-03-09 07:51:00 UTC           -73.968095   \n",
              "\n",
              "   latitude_of_pickup  longitude_of_dropoff  latitude_of_dropoff  \\\n",
              "0           40.721319            -73.841610            40.712278   \n",
              "1           40.711303            -73.979268            40.782004   \n",
              "2           40.761270            -73.991242            40.750562   \n",
              "3           40.733143            -73.991567            40.758092   \n",
              "4           40.768008            -73.956655            40.783762   \n",
              "\n",
              "   no_of_passenger  \n",
              "0                1  \n",
              "1                1  \n",
              "2                2  \n",
              "3                1  \n",
              "4                1  "
            ]
          },
          "execution_count": 9,
          "metadata": {},
          "output_type": "execute_result"
        }
      ],
      "source": [
        "# read csv file using pandas\n",
        "df_taxi = pd.read_csv('/content/drive/MyDrive/0.MKCE/5.Random Forest/2 Project/Taxi Fare Prediction/Dataset/TaxiFare.csv')\n",
        "\n",
        "# display the top 5 rows of the dataframe\n",
        "df_taxi.head()\n",
        "\n",
        "# Note: To display more rows, example 10, use head(10)"
      ]
    },
    {
      "cell_type": "markdown",
      "metadata": {
        "id": "tMaTnyS8zZ3K"
      },
      "source": [
        "The column `unique_id` contains the unique identifier for each observation, which is redundant for further analysis. Thus, we drop this column."
      ]
    },
    {
      "cell_type": "code",
      "execution_count": null,
      "metadata": {
        "collapsed": true,
        "id": "nijM_EeizZ3K"
      },
      "outputs": [],
      "source": [
        "# drop the column 'Id' using drop()\n",
        "# 'axis = 1' drops the specified column\n",
        "df_taxi = df_taxi.drop('unique_id', axis = 1)"
      ]
    },
    {
      "cell_type": "markdown",
      "metadata": {
        "id": "RFaIoBuOzZ3K"
      },
      "source": [
        "<a id='data_preparation'></a>\n",
        "# 4. Prepare and Analyze the Data"
      ]
    },
    {
      "cell_type": "markdown",
      "metadata": {
        "id": "5PNiZR8EzZ3L"
      },
      "source": [
        "<a id='Data_Understanding'></a>\n",
        "## 4.1 Understand the Data"
      ]
    },
    {
      "cell_type": "markdown",
      "metadata": {
        "id": "nHWjW2j-zZ3L"
      },
      "source": [
        "**Let us now see the number of variables and observations in the data.**"
      ]
    },
    {
      "cell_type": "code",
      "execution_count": null,
      "metadata": {
        "colab": {
          "base_uri": "https://localhost:8080/"
        },
        "id": "fCrjWKCPzZ3M",
        "outputId": "543729fb-92e6-452f-88b4-a1b808085ccd"
      },
      "outputs": [
        {
          "data": {
            "text/plain": [
              "(50000, 7)"
            ]
          },
          "execution_count": 11,
          "metadata": {},
          "output_type": "execute_result"
        }
      ],
      "source": [
        "# 'shape' returns the dimensions of the data\n",
        "df_taxi.shape"
      ]
    },
    {
      "cell_type": "markdown",
      "metadata": {
        "id": "tSuQITJwzZ3M"
      },
      "source": [
        "We see the dataframe has 7 columns and 50000 rows. It means there are 7 variables and 50000 observations."
      ]
    },
    {
      "cell_type": "markdown",
      "metadata": {
        "id": "VNB2J9TnzZ3N"
      },
      "source": [
        "**1. Check the data type.**"
      ]
    },
    {
      "cell_type": "code",
      "execution_count": null,
      "metadata": {
        "colab": {
          "base_uri": "https://localhost:8080/"
        },
        "id": "uKB5vrV7zZ3N",
        "outputId": "dbdd258d-9275-4ac5-e2ba-d6c3a58acf82"
      },
      "outputs": [
        {
          "data": {
            "text/plain": [
              "amount                  float64\n",
              "date_time_of_pickup      object\n",
              "longitude_of_pickup     float64\n",
              "latitude_of_pickup      float64\n",
              "longitude_of_dropoff    float64\n",
              "latitude_of_dropoff     float64\n",
              "no_of_passenger           int64\n",
              "dtype: object"
            ]
          },
          "execution_count": 12,
          "metadata": {},
          "output_type": "execute_result"
        }
      ],
      "source": [
        "# use 'dtypes' to check the data type of each variable\n",
        "df_taxi.dtypes"
      ]
    },
    {
      "cell_type": "markdown",
      "metadata": {
        "id": "gk388r2TzZ3O"
      },
      "source": [
        "**2. Change the incorrect data type.**"
      ]
    },
    {
      "cell_type": "code",
      "execution_count": null,
      "metadata": {
        "collapsed": true,
        "id": "fqv1x3VhzZ3O"
      },
      "outputs": [],
      "source": [
        "# convert object to datetime using to_datetime method from pandas\n",
        "#if error is set to'coerce', then invalid parsing will be set as NaT.\n",
        "df_taxi.date_time_of_pickup = pd.to_datetime(df_taxi.date_time_of_pickup)"
      ]
    },
    {
      "cell_type": "markdown",
      "metadata": {
        "id": "QVshTmiFzZ3O"
      },
      "source": [
        "**3. Recheck the data type after the conversion.**"
      ]
    },
    {
      "cell_type": "code",
      "execution_count": null,
      "metadata": {
        "colab": {
          "base_uri": "https://localhost:8080/"
        },
        "id": "HbE7j_21zZ3O",
        "outputId": "713c5f60-99ae-4dcc-e82d-a3bb08ece915"
      },
      "outputs": [
        {
          "data": {
            "text/plain": [
              "amount                              float64\n",
              "date_time_of_pickup     datetime64[ns, UTC]\n",
              "longitude_of_pickup                 float64\n",
              "latitude_of_pickup                  float64\n",
              "longitude_of_dropoff                float64\n",
              "latitude_of_dropoff                 float64\n",
              "no_of_passenger                       int64\n",
              "dtype: object"
            ]
          },
          "execution_count": 14,
          "metadata": {},
          "output_type": "execute_result"
        }
      ],
      "source": [
        "# recheck the data type of each column\n",
        "df_taxi.dtypes"
      ]
    },
    {
      "cell_type": "markdown",
      "metadata": {
        "id": "KVEYF0bXzZ3P"
      },
      "source": [
        "<a id='Feature_Eng'></a>\n",
        "### 4.1.2 Feature Engineering\n",
        "\n",
        "We will extract date time features from the variable 'date_time_of_pickup'."
      ]
    },
    {
      "cell_type": "code",
      "execution_count": null,
      "metadata": {
        "collapsed": true,
        "id": "drNfJU5XzZ3Q"
      },
      "outputs": [],
      "source": [
        "# extract various date time components as seperate variables\n",
        "df_taxi = df_taxi.assign(hour = df_taxi.date_time_of_pickup.dt.hour, \n",
        "                         day = df_taxi.date_time_of_pickup.dt.day,\n",
        "                        month = df_taxi.date_time_of_pickup.dt.month, \n",
        "                        year = df_taxi.date_time_of_pickup.dt.year, \n",
        "                        dayofweek = df_taxi.date_time_of_pickup.dt.dayofweek)"
      ]
    },
    {
      "cell_type": "markdown",
      "metadata": {
        "id": "wf-pT_VrzZ3Q"
      },
      "source": [
        "We will add a new variable which measures the distance between the pickup and dropoff point. We will use the Haversine formula to compute the distance between two points of the journey, using the logitude and latitude values. "
      ]
    },
    {
      "cell_type": "code",
      "execution_count": null,
      "metadata": {
        "collapsed": true,
        "id": "DmKQN9-kzZ3R"
      },
      "outputs": [],
      "source": [
        "# function to calculate the travel distance from the longitudes and latitudes\n",
        "def distance_transform(longitude1, latitude1, longitude2, latitude2):\n",
        "    travel_dist = []\n",
        "    \n",
        "    for pos in range(len(longitude1)):\n",
        "        long1,lati1,long2,lati2 = map(radians,[longitude1[pos],latitude1[pos],longitude2[pos],latitude2[pos]])\n",
        "        dist_long = long2 - long1\n",
        "        dist_lati = lati2 - lati1\n",
        "        a = sin(dist_lati/2)**2 + cos(lati1) * cos(lati2) * sin(dist_long/2)**2\n",
        "        c = 2 * asin(sqrt(a))*6371\n",
        "        travel_dist.append(c)\n",
        "       \n",
        "    return travel_dist"
      ]
    },
    {
      "cell_type": "code",
      "execution_count": null,
      "metadata": {
        "collapsed": true,
        "id": "TIhF29ISzZ3R"
      },
      "outputs": [],
      "source": [
        "#Add a new variable travel distance\n",
        "\n",
        "df_taxi['travel_dist_km'] = distance_transform(df_taxi['longitude_of_pickup'].to_numpy(),\n",
        "                                                df_taxi['latitude_of_pickup'].to_numpy(),\n",
        "                                                df_taxi['longitude_of_dropoff'].to_numpy(),\n",
        "                                                df_taxi['latitude_of_dropoff'].to_numpy()\n",
        "                                              )"
      ]
    },
    {
      "cell_type": "code",
      "execution_count": null,
      "metadata": {
        "colab": {
          "base_uri": "https://localhost:8080/"
        },
        "id": "m1dnbqh4zZ3R",
        "outputId": "c908b93e-5e74-43a6-8eb8-855a40ce18df",
        "scrolled": true
      },
      "outputs": [
        {
          "data": {
            "text/html": [
              "\n",
              "  <div id=\"df-36850c44-d200-4082-9746-29e582938f75\">\n",
              "    <div class=\"colab-df-container\">\n",
              "      <div>\n",
              "<style scoped>\n",
              "    .dataframe tbody tr th:only-of-type {\n",
              "        vertical-align: middle;\n",
              "    }\n",
              "\n",
              "    .dataframe tbody tr th {\n",
              "        vertical-align: top;\n",
              "    }\n",
              "\n",
              "    .dataframe thead th {\n",
              "        text-align: right;\n",
              "    }\n",
              "</style>\n",
              "<table border=\"1\" class=\"dataframe\">\n",
              "  <thead>\n",
              "    <tr style=\"text-align: right;\">\n",
              "      <th></th>\n",
              "      <th>amount</th>\n",
              "      <th>date_time_of_pickup</th>\n",
              "      <th>longitude_of_pickup</th>\n",
              "      <th>latitude_of_pickup</th>\n",
              "      <th>longitude_of_dropoff</th>\n",
              "      <th>latitude_of_dropoff</th>\n",
              "      <th>no_of_passenger</th>\n",
              "      <th>hour</th>\n",
              "      <th>day</th>\n",
              "      <th>month</th>\n",
              "      <th>year</th>\n",
              "      <th>dayofweek</th>\n",
              "      <th>travel_dist_km</th>\n",
              "    </tr>\n",
              "  </thead>\n",
              "  <tbody>\n",
              "    <tr>\n",
              "      <th>0</th>\n",
              "      <td>4.500000</td>\n",
              "      <td>2009-06-15 17:26:21+00:00</td>\n",
              "      <td>-73.844311</td>\n",
              "      <td>40.721319</td>\n",
              "      <td>-73.841610</td>\n",
              "      <td>40.712278</td>\n",
              "      <td>1</td>\n",
              "      <td>17</td>\n",
              "      <td>15</td>\n",
              "      <td>6</td>\n",
              "      <td>2009</td>\n",
              "      <td>0</td>\n",
              "      <td>1.030764</td>\n",
              "    </tr>\n",
              "    <tr>\n",
              "      <th>1</th>\n",
              "      <td>16.900000</td>\n",
              "      <td>2010-01-05 16:52:16+00:00</td>\n",
              "      <td>-74.016048</td>\n",
              "      <td>40.711303</td>\n",
              "      <td>-73.979268</td>\n",
              "      <td>40.782004</td>\n",
              "      <td>1</td>\n",
              "      <td>16</td>\n",
              "      <td>5</td>\n",
              "      <td>1</td>\n",
              "      <td>2010</td>\n",
              "      <td>1</td>\n",
              "      <td>8.450134</td>\n",
              "    </tr>\n",
              "    <tr>\n",
              "      <th>2</th>\n",
              "      <td>5.700000</td>\n",
              "      <td>2011-08-18 00:35:00+00:00</td>\n",
              "      <td>-73.982738</td>\n",
              "      <td>40.761270</td>\n",
              "      <td>-73.991242</td>\n",
              "      <td>40.750562</td>\n",
              "      <td>2</td>\n",
              "      <td>0</td>\n",
              "      <td>18</td>\n",
              "      <td>8</td>\n",
              "      <td>2011</td>\n",
              "      <td>3</td>\n",
              "      <td>1.389525</td>\n",
              "    </tr>\n",
              "    <tr>\n",
              "      <th>3</th>\n",
              "      <td>7.700000</td>\n",
              "      <td>2012-04-21 04:30:42+00:00</td>\n",
              "      <td>-73.987130</td>\n",
              "      <td>40.733143</td>\n",
              "      <td>-73.991567</td>\n",
              "      <td>40.758092</td>\n",
              "      <td>1</td>\n",
              "      <td>4</td>\n",
              "      <td>21</td>\n",
              "      <td>4</td>\n",
              "      <td>2012</td>\n",
              "      <td>5</td>\n",
              "      <td>2.799270</td>\n",
              "    </tr>\n",
              "    <tr>\n",
              "      <th>4</th>\n",
              "      <td>5.300000</td>\n",
              "      <td>2010-03-09 07:51:00+00:00</td>\n",
              "      <td>-73.968095</td>\n",
              "      <td>40.768008</td>\n",
              "      <td>-73.956655</td>\n",
              "      <td>40.783762</td>\n",
              "      <td>1</td>\n",
              "      <td>7</td>\n",
              "      <td>9</td>\n",
              "      <td>3</td>\n",
              "      <td>2010</td>\n",
              "      <td>1</td>\n",
              "      <td>1.999157</td>\n",
              "    </tr>\n",
              "  </tbody>\n",
              "</table>\n",
              "</div>\n",
              "      <button class=\"colab-df-convert\" onclick=\"convertToInteractive('df-36850c44-d200-4082-9746-29e582938f75')\"\n",
              "              title=\"Convert this dataframe to an interactive table.\"\n",
              "              style=\"display:none;\">\n",
              "        \n",
              "  <svg xmlns=\"http://www.w3.org/2000/svg\" height=\"24px\"viewBox=\"0 0 24 24\"\n",
              "       width=\"24px\">\n",
              "    <path d=\"M0 0h24v24H0V0z\" fill=\"none\"/>\n",
              "    <path d=\"M18.56 5.44l.94 2.06.94-2.06 2.06-.94-2.06-.94-.94-2.06-.94 2.06-2.06.94zm-11 1L8.5 8.5l.94-2.06 2.06-.94-2.06-.94L8.5 2.5l-.94 2.06-2.06.94zm10 10l.94 2.06.94-2.06 2.06-.94-2.06-.94-.94-2.06-.94 2.06-2.06.94z\"/><path d=\"M17.41 7.96l-1.37-1.37c-.4-.4-.92-.59-1.43-.59-.52 0-1.04.2-1.43.59L10.3 9.45l-7.72 7.72c-.78.78-.78 2.05 0 2.83L4 21.41c.39.39.9.59 1.41.59.51 0 1.02-.2 1.41-.59l7.78-7.78 2.81-2.81c.8-.78.8-2.07 0-2.86zM5.41 20L4 18.59l7.72-7.72 1.47 1.35L5.41 20z\"/>\n",
              "  </svg>\n",
              "      </button>\n",
              "      \n",
              "  <style>\n",
              "    .colab-df-container {\n",
              "      display:flex;\n",
              "      flex-wrap:wrap;\n",
              "      gap: 12px;\n",
              "    }\n",
              "\n",
              "    .colab-df-convert {\n",
              "      background-color: #E8F0FE;\n",
              "      border: none;\n",
              "      border-radius: 50%;\n",
              "      cursor: pointer;\n",
              "      display: none;\n",
              "      fill: #1967D2;\n",
              "      height: 32px;\n",
              "      padding: 0 0 0 0;\n",
              "      width: 32px;\n",
              "    }\n",
              "\n",
              "    .colab-df-convert:hover {\n",
              "      background-color: #E2EBFA;\n",
              "      box-shadow: 0px 1px 2px rgba(60, 64, 67, 0.3), 0px 1px 3px 1px rgba(60, 64, 67, 0.15);\n",
              "      fill: #174EA6;\n",
              "    }\n",
              "\n",
              "    [theme=dark] .colab-df-convert {\n",
              "      background-color: #3B4455;\n",
              "      fill: #D2E3FC;\n",
              "    }\n",
              "\n",
              "    [theme=dark] .colab-df-convert:hover {\n",
              "      background-color: #434B5C;\n",
              "      box-shadow: 0px 1px 3px 1px rgba(0, 0, 0, 0.15);\n",
              "      filter: drop-shadow(0px 1px 2px rgba(0, 0, 0, 0.3));\n",
              "      fill: #FFFFFF;\n",
              "    }\n",
              "  </style>\n",
              "\n",
              "      <script>\n",
              "        const buttonEl =\n",
              "          document.querySelector('#df-36850c44-d200-4082-9746-29e582938f75 button.colab-df-convert');\n",
              "        buttonEl.style.display =\n",
              "          google.colab.kernel.accessAllowed ? 'block' : 'none';\n",
              "\n",
              "        async function convertToInteractive(key) {\n",
              "          const element = document.querySelector('#df-36850c44-d200-4082-9746-29e582938f75');\n",
              "          const dataTable =\n",
              "            await google.colab.kernel.invokeFunction('convertToInteractive',\n",
              "                                                     [key], {});\n",
              "          if (!dataTable) return;\n",
              "\n",
              "          const docLinkHtml = 'Like what you see? Visit the ' +\n",
              "            '<a target=\"_blank\" href=https://colab.research.google.com/notebooks/data_table.ipynb>data table notebook</a>'\n",
              "            + ' to learn more about interactive tables.';\n",
              "          element.innerHTML = '';\n",
              "          dataTable['output_type'] = 'display_data';\n",
              "          await google.colab.output.renderOutput(dataTable, element);\n",
              "          const docLink = document.createElement('div');\n",
              "          docLink.innerHTML = docLinkHtml;\n",
              "          element.appendChild(docLink);\n",
              "        }\n",
              "      </script>\n",
              "    </div>\n",
              "  </div>\n",
              "  "
            ],
            "text/plain": [
              "     amount       date_time_of_pickup  longitude_of_pickup  \\\n",
              "0  4.500000 2009-06-15 17:26:21+00:00           -73.844311   \n",
              "1 16.900000 2010-01-05 16:52:16+00:00           -74.016048   \n",
              "2  5.700000 2011-08-18 00:35:00+00:00           -73.982738   \n",
              "3  7.700000 2012-04-21 04:30:42+00:00           -73.987130   \n",
              "4  5.300000 2010-03-09 07:51:00+00:00           -73.968095   \n",
              "\n",
              "   latitude_of_pickup  longitude_of_dropoff  latitude_of_dropoff  \\\n",
              "0           40.721319            -73.841610            40.712278   \n",
              "1           40.711303            -73.979268            40.782004   \n",
              "2           40.761270            -73.991242            40.750562   \n",
              "3           40.733143            -73.991567            40.758092   \n",
              "4           40.768008            -73.956655            40.783762   \n",
              "\n",
              "   no_of_passenger  hour  day  month  year  dayofweek  travel_dist_km  \n",
              "0                1    17   15      6  2009          0        1.030764  \n",
              "1                1    16    5      1  2010          1        8.450134  \n",
              "2                2     0   18      8  2011          3        1.389525  \n",
              "3                1     4   21      4  2012          5        2.799270  \n",
              "4                1     7    9      3  2010          1        1.999157  "
            ]
          },
          "execution_count": 18,
          "metadata": {},
          "output_type": "execute_result"
        }
      ],
      "source": [
        "#Check the newly added vaiarbles\n",
        "df_taxi.head(5)"
      ]
    },
    {
      "cell_type": "markdown",
      "metadata": {
        "id": "4rTSvGG8zZ3S"
      },
      "source": [
        "**2. Drop the redundant variable.**"
      ]
    },
    {
      "cell_type": "markdown",
      "metadata": {
        "id": "Sq1NW6CwzZ3S"
      },
      "source": [
        "As we have extracted new features from variable `date_time_of_pickup` this variable is redundant for further analysis. Hence we drop this variable."
      ]
    },
    {
      "cell_type": "code",
      "execution_count": null,
      "metadata": {
        "collapsed": true,
        "id": "QFFTVqzYzZ3S"
      },
      "outputs": [],
      "source": [
        "# drop the column 'date_time_of_pickup' using drop()\n",
        "# 'axis = 1' drops the specified column\n",
        "\n",
        "df_taxi = df_taxi.drop('date_time_of_pickup',axis=1)"
      ]
    },
    {
      "cell_type": "code",
      "execution_count": null,
      "metadata": {
        "colab": {
          "base_uri": "https://localhost:8080/"
        },
        "id": "vAE9tGBZzZ3S",
        "outputId": "0fe85d0b-9663-49ff-f038-9793cbf07f7a"
      },
      "outputs": [
        {
          "name": "stdout",
          "output_type": "stream",
          "text": [
            "<class 'pandas.core.frame.DataFrame'>\n",
            "RangeIndex: 50000 entries, 0 to 49999\n",
            "Data columns (total 12 columns):\n",
            " #   Column                Non-Null Count  Dtype  \n",
            "---  ------                --------------  -----  \n",
            " 0   amount                50000 non-null  float64\n",
            " 1   longitude_of_pickup   50000 non-null  float64\n",
            " 2   latitude_of_pickup    50000 non-null  float64\n",
            " 3   longitude_of_dropoff  50000 non-null  float64\n",
            " 4   latitude_of_dropoff   50000 non-null  float64\n",
            " 5   no_of_passenger       50000 non-null  int64  \n",
            " 6   hour                  50000 non-null  int64  \n",
            " 7   day                   50000 non-null  int64  \n",
            " 8   month                 50000 non-null  int64  \n",
            " 9   year                  50000 non-null  int64  \n",
            " 10  dayofweek             50000 non-null  int64  \n",
            " 11  travel_dist_km        50000 non-null  float64\n",
            "dtypes: float64(6), int64(6)\n",
            "memory usage: 4.6 MB\n"
          ]
        }
      ],
      "source": [
        "df_taxi.info()"
      ]
    },
    {
      "cell_type": "markdown",
      "metadata": {
        "id": "38vP9UMQzZ3S"
      },
      "source": [
        "As now have the required features, after having extracted new ones and dropping the redundant variables."
      ]
    },
    {
      "cell_type": "markdown",
      "metadata": {
        "id": "HDUw-iLfzZ3T"
      },
      "source": [
        "<a id='Summary_Statistics'></a>\n",
        "### 4.1.3 Summary Statistics\n",
        "\n",
        "Here we take a look at the summary of each attribute. This includes the count, mean, the minimum and maximum values as well as some percentiles for numeric variables and count, unique, top, frequency for other variable types."
      ]
    },
    {
      "cell_type": "markdown",
      "metadata": {
        "id": "IiKxhBZAzZ3T"
      },
      "source": [
        "**1. For numerical variables, use the describe()**"
      ]
    },
    {
      "cell_type": "code",
      "execution_count": null,
      "metadata": {
        "colab": {
          "base_uri": "https://localhost:8080/",
          "height": 470
        },
        "id": "51G7Goz6zZ3T",
        "outputId": "e115c06a-664b-4aec-b11a-304b922b40d9"
      },
      "outputs": [
        {
          "data": {
            "text/html": [
              "\n",
              "  <div id=\"df-b330a1e6-5c08-438f-a730-543b801bbecd\">\n",
              "    <div class=\"colab-df-container\">\n",
              "      <div>\n",
              "<style scoped>\n",
              "    .dataframe tbody tr th:only-of-type {\n",
              "        vertical-align: middle;\n",
              "    }\n",
              "\n",
              "    .dataframe tbody tr th {\n",
              "        vertical-align: top;\n",
              "    }\n",
              "\n",
              "    .dataframe thead th {\n",
              "        text-align: right;\n",
              "    }\n",
              "</style>\n",
              "<table border=\"1\" class=\"dataframe\">\n",
              "  <thead>\n",
              "    <tr style=\"text-align: right;\">\n",
              "      <th></th>\n",
              "      <th>count</th>\n",
              "      <th>mean</th>\n",
              "      <th>std</th>\n",
              "      <th>min</th>\n",
              "      <th>25%</th>\n",
              "      <th>50%</th>\n",
              "      <th>75%</th>\n",
              "      <th>max</th>\n",
              "    </tr>\n",
              "  </thead>\n",
              "  <tbody>\n",
              "    <tr>\n",
              "      <th>amount</th>\n",
              "      <td>50000.000000</td>\n",
              "      <td>11.364171</td>\n",
              "      <td>9.685557</td>\n",
              "      <td>-5.000000</td>\n",
              "      <td>6.000000</td>\n",
              "      <td>8.500000</td>\n",
              "      <td>12.500000</td>\n",
              "      <td>200.000000</td>\n",
              "    </tr>\n",
              "    <tr>\n",
              "      <th>longitude_of_pickup</th>\n",
              "      <td>50000.000000</td>\n",
              "      <td>-72.509756</td>\n",
              "      <td>10.393860</td>\n",
              "      <td>-75.423848</td>\n",
              "      <td>-73.992062</td>\n",
              "      <td>-73.981840</td>\n",
              "      <td>-73.967148</td>\n",
              "      <td>40.783472</td>\n",
              "    </tr>\n",
              "    <tr>\n",
              "      <th>latitude_of_pickup</th>\n",
              "      <td>50000.000000</td>\n",
              "      <td>39.933759</td>\n",
              "      <td>6.224857</td>\n",
              "      <td>-74.006893</td>\n",
              "      <td>40.734880</td>\n",
              "      <td>40.752678</td>\n",
              "      <td>40.767360</td>\n",
              "      <td>401.083332</td>\n",
              "    </tr>\n",
              "    <tr>\n",
              "      <th>longitude_of_dropoff</th>\n",
              "      <td>50000.000000</td>\n",
              "      <td>-72.504616</td>\n",
              "      <td>10.407570</td>\n",
              "      <td>-84.654241</td>\n",
              "      <td>-73.991152</td>\n",
              "      <td>-73.980082</td>\n",
              "      <td>-73.963584</td>\n",
              "      <td>40.851027</td>\n",
              "    </tr>\n",
              "    <tr>\n",
              "      <th>latitude_of_dropoff</th>\n",
              "      <td>50000.000000</td>\n",
              "      <td>39.926251</td>\n",
              "      <td>6.014737</td>\n",
              "      <td>-74.006377</td>\n",
              "      <td>40.734372</td>\n",
              "      <td>40.753372</td>\n",
              "      <td>40.768167</td>\n",
              "      <td>43.415190</td>\n",
              "    </tr>\n",
              "    <tr>\n",
              "      <th>no_of_passenger</th>\n",
              "      <td>50000.000000</td>\n",
              "      <td>1.667840</td>\n",
              "      <td>1.289195</td>\n",
              "      <td>0.000000</td>\n",
              "      <td>1.000000</td>\n",
              "      <td>1.000000</td>\n",
              "      <td>2.000000</td>\n",
              "      <td>6.000000</td>\n",
              "    </tr>\n",
              "    <tr>\n",
              "      <th>hour</th>\n",
              "      <td>50000.000000</td>\n",
              "      <td>13.489080</td>\n",
              "      <td>6.506935</td>\n",
              "      <td>0.000000</td>\n",
              "      <td>9.000000</td>\n",
              "      <td>14.000000</td>\n",
              "      <td>19.000000</td>\n",
              "      <td>23.000000</td>\n",
              "    </tr>\n",
              "    <tr>\n",
              "      <th>day</th>\n",
              "      <td>50000.000000</td>\n",
              "      <td>15.672040</td>\n",
              "      <td>8.660789</td>\n",
              "      <td>1.000000</td>\n",
              "      <td>8.000000</td>\n",
              "      <td>16.000000</td>\n",
              "      <td>23.000000</td>\n",
              "      <td>31.000000</td>\n",
              "    </tr>\n",
              "    <tr>\n",
              "      <th>month</th>\n",
              "      <td>50000.000000</td>\n",
              "      <td>6.273300</td>\n",
              "      <td>3.461157</td>\n",
              "      <td>1.000000</td>\n",
              "      <td>3.000000</td>\n",
              "      <td>6.000000</td>\n",
              "      <td>9.000000</td>\n",
              "      <td>12.000000</td>\n",
              "    </tr>\n",
              "    <tr>\n",
              "      <th>year</th>\n",
              "      <td>50000.000000</td>\n",
              "      <td>2011.739260</td>\n",
              "      <td>1.862639</td>\n",
              "      <td>2009.000000</td>\n",
              "      <td>2010.000000</td>\n",
              "      <td>2012.000000</td>\n",
              "      <td>2013.000000</td>\n",
              "      <td>2015.000000</td>\n",
              "    </tr>\n",
              "    <tr>\n",
              "      <th>dayofweek</th>\n",
              "      <td>50000.000000</td>\n",
              "      <td>3.029980</td>\n",
              "      <td>1.956936</td>\n",
              "      <td>0.000000</td>\n",
              "      <td>1.000000</td>\n",
              "      <td>3.000000</td>\n",
              "      <td>5.000000</td>\n",
              "      <td>6.000000</td>\n",
              "    </tr>\n",
              "    <tr>\n",
              "      <th>travel_dist_km</th>\n",
              "      <td>50000.000000</td>\n",
              "      <td>18.508946</td>\n",
              "      <td>355.564309</td>\n",
              "      <td>0.000000</td>\n",
              "      <td>1.223146</td>\n",
              "      <td>2.120114</td>\n",
              "      <td>3.895570</td>\n",
              "      <td>8667.818812</td>\n",
              "    </tr>\n",
              "  </tbody>\n",
              "</table>\n",
              "</div>\n",
              "      <button class=\"colab-df-convert\" onclick=\"convertToInteractive('df-b330a1e6-5c08-438f-a730-543b801bbecd')\"\n",
              "              title=\"Convert this dataframe to an interactive table.\"\n",
              "              style=\"display:none;\">\n",
              "        \n",
              "  <svg xmlns=\"http://www.w3.org/2000/svg\" height=\"24px\"viewBox=\"0 0 24 24\"\n",
              "       width=\"24px\">\n",
              "    <path d=\"M0 0h24v24H0V0z\" fill=\"none\"/>\n",
              "    <path d=\"M18.56 5.44l.94 2.06.94-2.06 2.06-.94-2.06-.94-.94-2.06-.94 2.06-2.06.94zm-11 1L8.5 8.5l.94-2.06 2.06-.94-2.06-.94L8.5 2.5l-.94 2.06-2.06.94zm10 10l.94 2.06.94-2.06 2.06-.94-2.06-.94-.94-2.06-.94 2.06-2.06.94z\"/><path d=\"M17.41 7.96l-1.37-1.37c-.4-.4-.92-.59-1.43-.59-.52 0-1.04.2-1.43.59L10.3 9.45l-7.72 7.72c-.78.78-.78 2.05 0 2.83L4 21.41c.39.39.9.59 1.41.59.51 0 1.02-.2 1.41-.59l7.78-7.78 2.81-2.81c.8-.78.8-2.07 0-2.86zM5.41 20L4 18.59l7.72-7.72 1.47 1.35L5.41 20z\"/>\n",
              "  </svg>\n",
              "      </button>\n",
              "      \n",
              "  <style>\n",
              "    .colab-df-container {\n",
              "      display:flex;\n",
              "      flex-wrap:wrap;\n",
              "      gap: 12px;\n",
              "    }\n",
              "\n",
              "    .colab-df-convert {\n",
              "      background-color: #E8F0FE;\n",
              "      border: none;\n",
              "      border-radius: 50%;\n",
              "      cursor: pointer;\n",
              "      display: none;\n",
              "      fill: #1967D2;\n",
              "      height: 32px;\n",
              "      padding: 0 0 0 0;\n",
              "      width: 32px;\n",
              "    }\n",
              "\n",
              "    .colab-df-convert:hover {\n",
              "      background-color: #E2EBFA;\n",
              "      box-shadow: 0px 1px 2px rgba(60, 64, 67, 0.3), 0px 1px 3px 1px rgba(60, 64, 67, 0.15);\n",
              "      fill: #174EA6;\n",
              "    }\n",
              "\n",
              "    [theme=dark] .colab-df-convert {\n",
              "      background-color: #3B4455;\n",
              "      fill: #D2E3FC;\n",
              "    }\n",
              "\n",
              "    [theme=dark] .colab-df-convert:hover {\n",
              "      background-color: #434B5C;\n",
              "      box-shadow: 0px 1px 3px 1px rgba(0, 0, 0, 0.15);\n",
              "      filter: drop-shadow(0px 1px 2px rgba(0, 0, 0, 0.3));\n",
              "      fill: #FFFFFF;\n",
              "    }\n",
              "  </style>\n",
              "\n",
              "      <script>\n",
              "        const buttonEl =\n",
              "          document.querySelector('#df-b330a1e6-5c08-438f-a730-543b801bbecd button.colab-df-convert');\n",
              "        buttonEl.style.display =\n",
              "          google.colab.kernel.accessAllowed ? 'block' : 'none';\n",
              "\n",
              "        async function convertToInteractive(key) {\n",
              "          const element = document.querySelector('#df-b330a1e6-5c08-438f-a730-543b801bbecd');\n",
              "          const dataTable =\n",
              "            await google.colab.kernel.invokeFunction('convertToInteractive',\n",
              "                                                     [key], {});\n",
              "          if (!dataTable) return;\n",
              "\n",
              "          const docLinkHtml = 'Like what you see? Visit the ' +\n",
              "            '<a target=\"_blank\" href=https://colab.research.google.com/notebooks/data_table.ipynb>data table notebook</a>'\n",
              "            + ' to learn more about interactive tables.';\n",
              "          element.innerHTML = '';\n",
              "          dataTable['output_type'] = 'display_data';\n",
              "          await google.colab.output.renderOutput(dataTable, element);\n",
              "          const docLink = document.createElement('div');\n",
              "          docLink.innerHTML = docLinkHtml;\n",
              "          element.appendChild(docLink);\n",
              "        }\n",
              "      </script>\n",
              "    </div>\n",
              "  </div>\n",
              "  "
            ],
            "text/plain": [
              "                            count        mean        std         min  \\\n",
              "amount               50000.000000   11.364171   9.685557   -5.000000   \n",
              "longitude_of_pickup  50000.000000  -72.509756  10.393860  -75.423848   \n",
              "latitude_of_pickup   50000.000000   39.933759   6.224857  -74.006893   \n",
              "longitude_of_dropoff 50000.000000  -72.504616  10.407570  -84.654241   \n",
              "latitude_of_dropoff  50000.000000   39.926251   6.014737  -74.006377   \n",
              "no_of_passenger      50000.000000    1.667840   1.289195    0.000000   \n",
              "hour                 50000.000000   13.489080   6.506935    0.000000   \n",
              "day                  50000.000000   15.672040   8.660789    1.000000   \n",
              "month                50000.000000    6.273300   3.461157    1.000000   \n",
              "year                 50000.000000 2011.739260   1.862639 2009.000000   \n",
              "dayofweek            50000.000000    3.029980   1.956936    0.000000   \n",
              "travel_dist_km       50000.000000   18.508946 355.564309    0.000000   \n",
              "\n",
              "                             25%         50%         75%         max  \n",
              "amount                  6.000000    8.500000   12.500000  200.000000  \n",
              "longitude_of_pickup   -73.992062  -73.981840  -73.967148   40.783472  \n",
              "latitude_of_pickup     40.734880   40.752678   40.767360  401.083332  \n",
              "longitude_of_dropoff  -73.991152  -73.980082  -73.963584   40.851027  \n",
              "latitude_of_dropoff    40.734372   40.753372   40.768167   43.415190  \n",
              "no_of_passenger         1.000000    1.000000    2.000000    6.000000  \n",
              "hour                    9.000000   14.000000   19.000000   23.000000  \n",
              "day                     8.000000   16.000000   23.000000   31.000000  \n",
              "month                   3.000000    6.000000    9.000000   12.000000  \n",
              "year                 2010.000000 2012.000000 2013.000000 2015.000000  \n",
              "dayofweek               1.000000    3.000000    5.000000    6.000000  \n",
              "travel_dist_km          1.223146    2.120114    3.895570 8667.818812  "
            ]
          },
          "execution_count": 21,
          "metadata": {},
          "output_type": "execute_result"
        }
      ],
      "source": [
        "\n",
        "df_taxi.describe().transpose()"
      ]
    },
    {
      "cell_type": "markdown",
      "metadata": {
        "id": "FzJ-O765zZ3U"
      },
      "source": [
        "**2. For categorical variables, use the describe(include='object').**"
      ]
    },
    {
      "cell_type": "markdown",
      "metadata": {
        "id": "8nh0CG9IzZ3U"
      },
      "source": [
        "As, there are no categorical varaibles, we skip this step."
      ]
    },
    {
      "cell_type": "markdown",
      "metadata": {
        "id": "ZPe2O6etzZ3U"
      },
      "source": [
        "<a id='outlier'></a>\n",
        "### 4.1.4 Discover Outliers"
      ]
    },
    {
      "cell_type": "markdown",
      "metadata": {
        "id": "rv_JBRXxeboi"
      },
      "source": [
        "#### Importance of detecting an outlier\n",
        "An outlier is an observation that appears to deviate distinctly from other observations in the data. If the outliers are not removed, the model accuracy may decrease.\n",
        "Let us detect the extreme values in the data. \n",
        "\n",
        "\n",
        "The following can be considered as outliers in this case study:\n",
        "1. Amount < 2.5\n",
        "2. Trips with travel distance less than or equal to 0, and more than 130Kms\n",
        "3. Trips where 90< latitude <-90, 180 < longitude < -180                     "
      ]
    },
    {
      "cell_type": "markdown",
      "metadata": {
        "id": "qcH3PDBNzZ3V"
      },
      "source": [
        "1. We have seen that there are instances of amount less that 0 as well in the data set, where as the minimum fare for any trip in NYC is 2.5 dollars, hence we will remove such observations. We have already seen that the max fare is 200 in the data set."
      ]
    },
    {
      "cell_type": "code",
      "execution_count": null,
      "metadata": {
        "collapsed": true,
        "id": "8db_9MY8zZ3V"
      },
      "outputs": [],
      "source": [
        "#We will only keep the observation where fare is between 2.5\n",
        "df_taxi = df_taxi.loc[(df_taxi.amount >= 2.5)]"
      ]
    },
    {
      "cell_type": "code",
      "execution_count": null,
      "metadata": {
        "colab": {
          "base_uri": "https://localhost:8080/"
        },
        "id": "JvoftLI3zZ3V",
        "outputId": "7ea08a6c-a48e-46ad-ae46-a97a524764c2"
      },
      "outputs": [
        {
          "name": "stdout",
          "output_type": "stream",
          "text": [
            "Remaining observastions in the dataset: (49990, 12)\n"
          ]
        }
      ],
      "source": [
        "print(\"Remaining observastions in the dataset:\", df_taxi.shape)"
      ]
    },
    {
      "cell_type": "markdown",
      "metadata": {
        "id": "c5UY8gVbzZ3V"
      },
      "source": [
        "2. Remove the observations with travel distance more than 130 kms.As seen from descriptive stats there are obs with tarvel distance more than 130 km, as that is the limit for trips in and around NYC"
      ]
    },
    {
      "cell_type": "code",
      "execution_count": null,
      "metadata": {
        "colab": {
          "base_uri": "https://localhost:8080/"
        },
        "id": "dVp7_C5azZ3V",
        "outputId": "7df2e3e9-40df-4289-d49a-ed37ff0fbd47"
      },
      "outputs": [
        {
          "name": "stdout",
          "output_type": "stream",
          "text": [
            "Remaining observastions in the dataset: (49990, 12)\n"
          ]
        }
      ],
      "source": [
        "#We will only keep the observation where travel distance is less than or equal to 130\n",
        "df_taxi = df_taxi.loc[(df_taxi.travel_dist_km >= 1) | (df_taxi.travel_dist_km <= 130)]\n",
        "print(\"Remaining observastions in the dataset:\", df_taxi.shape)"
      ]
    },
    {
      "cell_type": "markdown",
      "metadata": {
        "id": "RzK_k-_SzZ3W"
      },
      "source": [
        "3. Remove the observations with unreal longitude and latitude values , that is , 90< latitude <-90, 180 < longitude < -180."
      ]
    },
    {
      "cell_type": "code",
      "execution_count": null,
      "metadata": {
        "collapsed": true,
        "id": "dUz4zloSzZ3W"
      },
      "outputs": [],
      "source": [
        "incorrect_coordinates = df_taxi.loc[(df_taxi.latitude_of_pickup > 90) |(df_taxi.latitude_of_pickup < -90) |\n",
        "                                   (df_taxi.latitude_of_dropoff > 90) |(df_taxi.latitude_of_dropoff < -90) |\n",
        "                                   (df_taxi.longitude_of_pickup > 180) |(df_taxi.longitude_of_pickup < -180) |\n",
        "                                   (df_taxi.longitude_of_dropoff > 90) |(df_taxi.longitude_of_dropoff < -90)\n",
        "                                    ].index"
      ]
    },
    {
      "cell_type": "code",
      "execution_count": null,
      "metadata": {
        "collapsed": true,
        "id": "XipibDiozZ3W"
      },
      "outputs": [],
      "source": [
        "df_taxi.drop(incorrect_coordinates, inplace = True, errors = 'ignore')"
      ]
    },
    {
      "cell_type": "code",
      "execution_count": null,
      "metadata": {
        "colab": {
          "base_uri": "https://localhost:8080/"
        },
        "id": "46iHQiRGzZ3W",
        "outputId": "8e54d3aa-c2ac-4fa7-e272-93779de0ec46"
      },
      "outputs": [
        {
          "name": "stdout",
          "output_type": "stream",
          "text": [
            "Remaining observastions in the dataset: (49989, 12)\n"
          ]
        }
      ],
      "source": [
        "print(\"Remaining observastions in the dataset:\", df_taxi.shape)"
      ]
    },
    {
      "cell_type": "markdown",
      "metadata": {
        "id": "lAOwq52hzZ3X"
      },
      "source": [
        "<a id='Missing_Values'></a>\n",
        "### 4.1.5 Missing Values\n",
        "\n",
        "If the missing values are not handled properly we may end up drawing an inaccurate inference about the data."
      ]
    },
    {
      "cell_type": "markdown",
      "metadata": {
        "id": "wyCyljdezZ3Y"
      },
      "source": [
        "**1. Check the missing values**"
      ]
    },
    {
      "cell_type": "code",
      "execution_count": null,
      "metadata": {
        "colab": {
          "base_uri": "https://localhost:8080/",
          "height": 426
        },
        "id": "CsPM1cBRzZ3Y",
        "outputId": "6dd0252f-d41e-4888-bced-14e48759ad1d"
      },
      "outputs": [
        {
          "data": {
            "text/html": [
              "\n",
              "  <div id=\"df-06d126d9-c020-4454-81ff-4a3be39a30a3\">\n",
              "    <div class=\"colab-df-container\">\n",
              "      <div>\n",
              "<style scoped>\n",
              "    .dataframe tbody tr th:only-of-type {\n",
              "        vertical-align: middle;\n",
              "    }\n",
              "\n",
              "    .dataframe tbody tr th {\n",
              "        vertical-align: top;\n",
              "    }\n",
              "\n",
              "    .dataframe thead th {\n",
              "        text-align: right;\n",
              "    }\n",
              "</style>\n",
              "<table border=\"1\" class=\"dataframe\">\n",
              "  <thead>\n",
              "    <tr style=\"text-align: right;\">\n",
              "      <th></th>\n",
              "      <th>Total</th>\n",
              "      <th>Percentage of Missing Values</th>\n",
              "      <th>Type</th>\n",
              "    </tr>\n",
              "  </thead>\n",
              "  <tbody>\n",
              "    <tr>\n",
              "      <th>amount</th>\n",
              "      <td>0</td>\n",
              "      <td>0.000000</td>\n",
              "      <td>float64</td>\n",
              "    </tr>\n",
              "    <tr>\n",
              "      <th>longitude_of_pickup</th>\n",
              "      <td>0</td>\n",
              "      <td>0.000000</td>\n",
              "      <td>float64</td>\n",
              "    </tr>\n",
              "    <tr>\n",
              "      <th>latitude_of_pickup</th>\n",
              "      <td>0</td>\n",
              "      <td>0.000000</td>\n",
              "      <td>float64</td>\n",
              "    </tr>\n",
              "    <tr>\n",
              "      <th>longitude_of_dropoff</th>\n",
              "      <td>0</td>\n",
              "      <td>0.000000</td>\n",
              "      <td>float64</td>\n",
              "    </tr>\n",
              "    <tr>\n",
              "      <th>latitude_of_dropoff</th>\n",
              "      <td>0</td>\n",
              "      <td>0.000000</td>\n",
              "      <td>float64</td>\n",
              "    </tr>\n",
              "    <tr>\n",
              "      <th>no_of_passenger</th>\n",
              "      <td>0</td>\n",
              "      <td>0.000000</td>\n",
              "      <td>int64</td>\n",
              "    </tr>\n",
              "    <tr>\n",
              "      <th>hour</th>\n",
              "      <td>0</td>\n",
              "      <td>0.000000</td>\n",
              "      <td>int64</td>\n",
              "    </tr>\n",
              "    <tr>\n",
              "      <th>day</th>\n",
              "      <td>0</td>\n",
              "      <td>0.000000</td>\n",
              "      <td>int64</td>\n",
              "    </tr>\n",
              "    <tr>\n",
              "      <th>month</th>\n",
              "      <td>0</td>\n",
              "      <td>0.000000</td>\n",
              "      <td>int64</td>\n",
              "    </tr>\n",
              "    <tr>\n",
              "      <th>year</th>\n",
              "      <td>0</td>\n",
              "      <td>0.000000</td>\n",
              "      <td>int64</td>\n",
              "    </tr>\n",
              "    <tr>\n",
              "      <th>dayofweek</th>\n",
              "      <td>0</td>\n",
              "      <td>0.000000</td>\n",
              "      <td>int64</td>\n",
              "    </tr>\n",
              "    <tr>\n",
              "      <th>travel_dist_km</th>\n",
              "      <td>0</td>\n",
              "      <td>0.000000</td>\n",
              "      <td>float64</td>\n",
              "    </tr>\n",
              "  </tbody>\n",
              "</table>\n",
              "</div>\n",
              "      <button class=\"colab-df-convert\" onclick=\"convertToInteractive('df-06d126d9-c020-4454-81ff-4a3be39a30a3')\"\n",
              "              title=\"Convert this dataframe to an interactive table.\"\n",
              "              style=\"display:none;\">\n",
              "        \n",
              "  <svg xmlns=\"http://www.w3.org/2000/svg\" height=\"24px\"viewBox=\"0 0 24 24\"\n",
              "       width=\"24px\">\n",
              "    <path d=\"M0 0h24v24H0V0z\" fill=\"none\"/>\n",
              "    <path d=\"M18.56 5.44l.94 2.06.94-2.06 2.06-.94-2.06-.94-.94-2.06-.94 2.06-2.06.94zm-11 1L8.5 8.5l.94-2.06 2.06-.94-2.06-.94L8.5 2.5l-.94 2.06-2.06.94zm10 10l.94 2.06.94-2.06 2.06-.94-2.06-.94-.94-2.06-.94 2.06-2.06.94z\"/><path d=\"M17.41 7.96l-1.37-1.37c-.4-.4-.92-.59-1.43-.59-.52 0-1.04.2-1.43.59L10.3 9.45l-7.72 7.72c-.78.78-.78 2.05 0 2.83L4 21.41c.39.39.9.59 1.41.59.51 0 1.02-.2 1.41-.59l7.78-7.78 2.81-2.81c.8-.78.8-2.07 0-2.86zM5.41 20L4 18.59l7.72-7.72 1.47 1.35L5.41 20z\"/>\n",
              "  </svg>\n",
              "      </button>\n",
              "      \n",
              "  <style>\n",
              "    .colab-df-container {\n",
              "      display:flex;\n",
              "      flex-wrap:wrap;\n",
              "      gap: 12px;\n",
              "    }\n",
              "\n",
              "    .colab-df-convert {\n",
              "      background-color: #E8F0FE;\n",
              "      border: none;\n",
              "      border-radius: 50%;\n",
              "      cursor: pointer;\n",
              "      display: none;\n",
              "      fill: #1967D2;\n",
              "      height: 32px;\n",
              "      padding: 0 0 0 0;\n",
              "      width: 32px;\n",
              "    }\n",
              "\n",
              "    .colab-df-convert:hover {\n",
              "      background-color: #E2EBFA;\n",
              "      box-shadow: 0px 1px 2px rgba(60, 64, 67, 0.3), 0px 1px 3px 1px rgba(60, 64, 67, 0.15);\n",
              "      fill: #174EA6;\n",
              "    }\n",
              "\n",
              "    [theme=dark] .colab-df-convert {\n",
              "      background-color: #3B4455;\n",
              "      fill: #D2E3FC;\n",
              "    }\n",
              "\n",
              "    [theme=dark] .colab-df-convert:hover {\n",
              "      background-color: #434B5C;\n",
              "      box-shadow: 0px 1px 3px 1px rgba(0, 0, 0, 0.15);\n",
              "      filter: drop-shadow(0px 1px 2px rgba(0, 0, 0, 0.3));\n",
              "      fill: #FFFFFF;\n",
              "    }\n",
              "  </style>\n",
              "\n",
              "      <script>\n",
              "        const buttonEl =\n",
              "          document.querySelector('#df-06d126d9-c020-4454-81ff-4a3be39a30a3 button.colab-df-convert');\n",
              "        buttonEl.style.display =\n",
              "          google.colab.kernel.accessAllowed ? 'block' : 'none';\n",
              "\n",
              "        async function convertToInteractive(key) {\n",
              "          const element = document.querySelector('#df-06d126d9-c020-4454-81ff-4a3be39a30a3');\n",
              "          const dataTable =\n",
              "            await google.colab.kernel.invokeFunction('convertToInteractive',\n",
              "                                                     [key], {});\n",
              "          if (!dataTable) return;\n",
              "\n",
              "          const docLinkHtml = 'Like what you see? Visit the ' +\n",
              "            '<a target=\"_blank\" href=https://colab.research.google.com/notebooks/data_table.ipynb>data table notebook</a>'\n",
              "            + ' to learn more about interactive tables.';\n",
              "          element.innerHTML = '';\n",
              "          dataTable['output_type'] = 'display_data';\n",
              "          await google.colab.output.renderOutput(dataTable, element);\n",
              "          const docLink = document.createElement('div');\n",
              "          docLink.innerHTML = docLinkHtml;\n",
              "          element.appendChild(docLink);\n",
              "        }\n",
              "      </script>\n",
              "    </div>\n",
              "  </div>\n",
              "  "
            ],
            "text/plain": [
              "                      Total  Percentage of Missing Values     Type\n",
              "amount                    0                      0.000000  float64\n",
              "longitude_of_pickup       0                      0.000000  float64\n",
              "latitude_of_pickup        0                      0.000000  float64\n",
              "longitude_of_dropoff      0                      0.000000  float64\n",
              "latitude_of_dropoff       0                      0.000000  float64\n",
              "no_of_passenger           0                      0.000000    int64\n",
              "hour                      0                      0.000000    int64\n",
              "day                       0                      0.000000    int64\n",
              "month                     0                      0.000000    int64\n",
              "year                      0                      0.000000    int64\n",
              "dayofweek                 0                      0.000000    int64\n",
              "travel_dist_km            0                      0.000000  float64"
            ]
          },
          "execution_count": 28,
          "metadata": {},
          "output_type": "execute_result"
        }
      ],
      "source": [
        "# sort the variables on the basis of total null values in the variable\n",
        "# 'isnull().sum()' returns the number of missing values in each variable\n",
        "# 'ascending = False' sorts values in the descending order\n",
        "# the variable with highest number of missing values will appear first\n",
        "Total = df_taxi.isnull().sum().sort_values(ascending = False)          \n",
        "\n",
        "# calculate the percentage of missing values\n",
        "# 'ascending = False' sorts values in the descending order\n",
        "# the variable with highest percentage of missing values will appear first\n",
        "Percent = (df_taxi.isnull().sum()*100/df_taxi.isnull().count()).sort_values(ascending = False)   \n",
        "\n",
        "# concat the 'Total' and 'Percent' columns using 'concat' function\n",
        "# 'keys' is the list of column names\n",
        "# 'axis = 1' concats along the columns\n",
        "missing_data = pd.concat([Total, Percent], axis = 1, keys = ['Total', 'Percentage of Missing Values'])    \n",
        "\n",
        "# add the column containing data type of each variable\n",
        "missing_data['Type'] = df_taxi[missing_data.index].dtypes\n",
        "missing_data"
      ]
    },
    {
      "cell_type": "markdown",
      "metadata": {
        "id": "PIEi_D7hzZ3Y"
      },
      "source": [
        "<table align=\"left\">\n",
        "    <tr>\n",
        "        <td width=\"8%\">\n",
        "            <img src=\"infer.png\">\n",
        "        </td>\n",
        "        <td>\n",
        "            <div align=\"left\", style=\"font-size:120%\">\n",
        "                <font color=\"#21618C\">\n",
        "                    <b>None of the variables contain missing values.</b>\n",
        "                </font>\n",
        "            </div>\n",
        "        </td>\n",
        "    </tr>\n",
        "</table>"
      ]
    },
    {
      "cell_type": "markdown",
      "metadata": {
        "id": "nDePZwUbzZ3Y"
      },
      "source": [
        "**2. Visualize missing values using heatmap**"
      ]
    },
    {
      "cell_type": "markdown",
      "metadata": {
        "id": "sOp-RiL8zZ3Z"
      },
      "source": [
        "If there are missing values in a dataset then the horizontal lines in the heatmap correspond to the missing values. Since there are no missing values here there are no horizontal lines corresponding to them."
      ]
    },
    {
      "cell_type": "markdown",
      "metadata": {
        "id": "Dogz55FZeboP"
      },
      "source": [
        "<table align=\"left\">\n",
        "    <tr>\n",
        "        <td width=\"8%\">\n",
        "            <img src=\"infer.png\">\n",
        "        </td>\n",
        "        <td>\n",
        "            <div align=\"left\", style=\"font-size:120%\">\n",
        "                <font color=\"#21618C\">\n",
        "                    <b> The above plot shows that there are no missing values in the data.</b>\n",
        "                </font>\n",
        "            </div>\n",
        "        </td>\n",
        "    </tr>\n",
        "</table>"
      ]
    },
    {
      "cell_type": "markdown",
      "metadata": {
        "id": "Q_5HKjl_zZ3Z"
      },
      "source": [
        "<a id='correlation'></a>\n",
        "### 4.1.6 Study correlation"
      ]
    },
    {
      "cell_type": "markdown",
      "metadata": {
        "id": "K_oo8YEAeboS"
      },
      "source": [
        "Correlation is a statistic that measures the degree to which two variables move with each other. A correlation coefficient near  1  indicates the strong relationship between them; a weak correlation indicates the extent to which one variable increases as the other decreases. Correlation among multiple variables can be represented in the form of a matrix. This allows us to see which variables are correlated."
      ]
    },
    {
      "cell_type": "markdown",
      "metadata": {
        "id": "TjY60dBezZ3Z"
      },
      "source": [
        "**1. Compute a correlation matrix**"
      ]
    },
    {
      "cell_type": "code",
      "execution_count": null,
      "metadata": {
        "colab": {
          "base_uri": "https://localhost:8080/",
          "height": 490
        },
        "id": "kydgRUB-zZ3a",
        "outputId": "82de9322-8b56-40f2-d414-3a2ceded27bf"
      },
      "outputs": [
        {
          "data": {
            "text/html": [
              "\n",
              "  <div id=\"df-6691a07f-8eed-4031-840a-e8855ca3493b\">\n",
              "    <div class=\"colab-df-container\">\n",
              "      <div>\n",
              "<style scoped>\n",
              "    .dataframe tbody tr th:only-of-type {\n",
              "        vertical-align: middle;\n",
              "    }\n",
              "\n",
              "    .dataframe tbody tr th {\n",
              "        vertical-align: top;\n",
              "    }\n",
              "\n",
              "    .dataframe thead th {\n",
              "        text-align: right;\n",
              "    }\n",
              "</style>\n",
              "<table border=\"1\" class=\"dataframe\">\n",
              "  <thead>\n",
              "    <tr style=\"text-align: right;\">\n",
              "      <th></th>\n",
              "      <th>amount</th>\n",
              "      <th>longitude_of_pickup</th>\n",
              "      <th>latitude_of_pickup</th>\n",
              "      <th>longitude_of_dropoff</th>\n",
              "      <th>latitude_of_dropoff</th>\n",
              "      <th>no_of_passenger</th>\n",
              "      <th>hour</th>\n",
              "      <th>day</th>\n",
              "      <th>month</th>\n",
              "      <th>year</th>\n",
              "      <th>dayofweek</th>\n",
              "      <th>travel_dist_km</th>\n",
              "    </tr>\n",
              "  </thead>\n",
              "  <tbody>\n",
              "    <tr>\n",
              "      <th>amount</th>\n",
              "      <td>1.000000</td>\n",
              "      <td>0.005905</td>\n",
              "      <td>-0.006563</td>\n",
              "      <td>0.004452</td>\n",
              "      <td>-0.005600</td>\n",
              "      <td>0.016506</td>\n",
              "      <td>-0.022009</td>\n",
              "      <td>-0.001417</td>\n",
              "      <td>0.026742</td>\n",
              "      <td>0.121081</td>\n",
              "      <td>0.000542</td>\n",
              "      <td>0.016451</td>\n",
              "    </tr>\n",
              "    <tr>\n",
              "      <th>longitude_of_pickup</th>\n",
              "      <td>0.005905</td>\n",
              "      <td>1.000000</td>\n",
              "      <td>-0.984132</td>\n",
              "      <td>0.956613</td>\n",
              "      <td>-0.947401</td>\n",
              "      <td>-0.005614</td>\n",
              "      <td>0.004913</td>\n",
              "      <td>0.006008</td>\n",
              "      <td>0.000402</td>\n",
              "      <td>-0.001264</td>\n",
              "      <td>-0.003224</td>\n",
              "      <td>0.143712</td>\n",
              "    </tr>\n",
              "    <tr>\n",
              "      <th>latitude_of_pickup</th>\n",
              "      <td>-0.006563</td>\n",
              "      <td>-0.984132</td>\n",
              "      <td>1.000000</td>\n",
              "      <td>-0.943741</td>\n",
              "      <td>0.961374</td>\n",
              "      <td>0.003982</td>\n",
              "      <td>-0.004313</td>\n",
              "      <td>-0.008884</td>\n",
              "      <td>0.000498</td>\n",
              "      <td>-0.000925</td>\n",
              "      <td>0.001911</td>\n",
              "      <td>-0.130943</td>\n",
              "    </tr>\n",
              "    <tr>\n",
              "      <th>longitude_of_dropoff</th>\n",
              "      <td>0.004452</td>\n",
              "      <td>0.956613</td>\n",
              "      <td>-0.943741</td>\n",
              "      <td>1.000000</td>\n",
              "      <td>-0.982102</td>\n",
              "      <td>-0.004874</td>\n",
              "      <td>0.005506</td>\n",
              "      <td>0.005221</td>\n",
              "      <td>0.001322</td>\n",
              "      <td>-0.000327</td>\n",
              "      <td>-0.002441</td>\n",
              "      <td>0.143172</td>\n",
              "    </tr>\n",
              "    <tr>\n",
              "      <th>latitude_of_dropoff</th>\n",
              "      <td>-0.005600</td>\n",
              "      <td>-0.947401</td>\n",
              "      <td>0.961374</td>\n",
              "      <td>-0.982102</td>\n",
              "      <td>1.000000</td>\n",
              "      <td>0.002898</td>\n",
              "      <td>-0.004530</td>\n",
              "      <td>-0.008012</td>\n",
              "      <td>-0.000341</td>\n",
              "      <td>-0.001817</td>\n",
              "      <td>0.001626</td>\n",
              "      <td>-0.124844</td>\n",
              "    </tr>\n",
              "    <tr>\n",
              "      <th>no_of_passenger</th>\n",
              "      <td>0.016506</td>\n",
              "      <td>-0.005614</td>\n",
              "      <td>0.003982</td>\n",
              "      <td>-0.004874</td>\n",
              "      <td>0.002898</td>\n",
              "      <td>1.000000</td>\n",
              "      <td>0.011400</td>\n",
              "      <td>0.006787</td>\n",
              "      <td>0.009099</td>\n",
              "      <td>0.006385</td>\n",
              "      <td>0.038581</td>\n",
              "      <td>-0.005371</td>\n",
              "    </tr>\n",
              "    <tr>\n",
              "      <th>hour</th>\n",
              "      <td>-0.022009</td>\n",
              "      <td>0.004913</td>\n",
              "      <td>-0.004313</td>\n",
              "      <td>0.005506</td>\n",
              "      <td>-0.004530</td>\n",
              "      <td>0.011400</td>\n",
              "      <td>1.000000</td>\n",
              "      <td>-0.008192</td>\n",
              "      <td>-0.001916</td>\n",
              "      <td>0.004167</td>\n",
              "      <td>-0.091267</td>\n",
              "      <td>0.000644</td>\n",
              "    </tr>\n",
              "    <tr>\n",
              "      <th>day</th>\n",
              "      <td>-0.001417</td>\n",
              "      <td>0.006008</td>\n",
              "      <td>-0.008884</td>\n",
              "      <td>0.005221</td>\n",
              "      <td>-0.008012</td>\n",
              "      <td>0.006787</td>\n",
              "      <td>-0.008192</td>\n",
              "      <td>1.000000</td>\n",
              "      <td>-0.017266</td>\n",
              "      <td>-0.011155</td>\n",
              "      <td>0.008422</td>\n",
              "      <td>0.010610</td>\n",
              "    </tr>\n",
              "    <tr>\n",
              "      <th>month</th>\n",
              "      <td>0.026742</td>\n",
              "      <td>0.000402</td>\n",
              "      <td>0.000498</td>\n",
              "      <td>0.001322</td>\n",
              "      <td>-0.000341</td>\n",
              "      <td>0.009099</td>\n",
              "      <td>-0.001916</td>\n",
              "      <td>-0.017266</td>\n",
              "      <td>1.000000</td>\n",
              "      <td>-0.115726</td>\n",
              "      <td>-0.010004</td>\n",
              "      <td>-0.009217</td>\n",
              "    </tr>\n",
              "    <tr>\n",
              "      <th>year</th>\n",
              "      <td>0.121081</td>\n",
              "      <td>-0.001264</td>\n",
              "      <td>-0.000925</td>\n",
              "      <td>-0.000327</td>\n",
              "      <td>-0.001817</td>\n",
              "      <td>0.006385</td>\n",
              "      <td>0.004167</td>\n",
              "      <td>-0.011155</td>\n",
              "      <td>-0.115726</td>\n",
              "      <td>1.000000</td>\n",
              "      <td>0.006808</td>\n",
              "      <td>0.022136</td>\n",
              "    </tr>\n",
              "    <tr>\n",
              "      <th>dayofweek</th>\n",
              "      <td>0.000542</td>\n",
              "      <td>-0.003224</td>\n",
              "      <td>0.001911</td>\n",
              "      <td>-0.002441</td>\n",
              "      <td>0.001626</td>\n",
              "      <td>0.038581</td>\n",
              "      <td>-0.091267</td>\n",
              "      <td>0.008422</td>\n",
              "      <td>-0.010004</td>\n",
              "      <td>0.006808</td>\n",
              "      <td>1.000000</td>\n",
              "      <td>-0.000518</td>\n",
              "    </tr>\n",
              "    <tr>\n",
              "      <th>travel_dist_km</th>\n",
              "      <td>0.016451</td>\n",
              "      <td>0.143712</td>\n",
              "      <td>-0.130943</td>\n",
              "      <td>0.143172</td>\n",
              "      <td>-0.124844</td>\n",
              "      <td>-0.005371</td>\n",
              "      <td>0.000644</td>\n",
              "      <td>0.010610</td>\n",
              "      <td>-0.009217</td>\n",
              "      <td>0.022136</td>\n",
              "      <td>-0.000518</td>\n",
              "      <td>1.000000</td>\n",
              "    </tr>\n",
              "  </tbody>\n",
              "</table>\n",
              "</div>\n",
              "      <button class=\"colab-df-convert\" onclick=\"convertToInteractive('df-6691a07f-8eed-4031-840a-e8855ca3493b')\"\n",
              "              title=\"Convert this dataframe to an interactive table.\"\n",
              "              style=\"display:none;\">\n",
              "        \n",
              "  <svg xmlns=\"http://www.w3.org/2000/svg\" height=\"24px\"viewBox=\"0 0 24 24\"\n",
              "       width=\"24px\">\n",
              "    <path d=\"M0 0h24v24H0V0z\" fill=\"none\"/>\n",
              "    <path d=\"M18.56 5.44l.94 2.06.94-2.06 2.06-.94-2.06-.94-.94-2.06-.94 2.06-2.06.94zm-11 1L8.5 8.5l.94-2.06 2.06-.94-2.06-.94L8.5 2.5l-.94 2.06-2.06.94zm10 10l.94 2.06.94-2.06 2.06-.94-2.06-.94-.94-2.06-.94 2.06-2.06.94z\"/><path d=\"M17.41 7.96l-1.37-1.37c-.4-.4-.92-.59-1.43-.59-.52 0-1.04.2-1.43.59L10.3 9.45l-7.72 7.72c-.78.78-.78 2.05 0 2.83L4 21.41c.39.39.9.59 1.41.59.51 0 1.02-.2 1.41-.59l7.78-7.78 2.81-2.81c.8-.78.8-2.07 0-2.86zM5.41 20L4 18.59l7.72-7.72 1.47 1.35L5.41 20z\"/>\n",
              "  </svg>\n",
              "      </button>\n",
              "      \n",
              "  <style>\n",
              "    .colab-df-container {\n",
              "      display:flex;\n",
              "      flex-wrap:wrap;\n",
              "      gap: 12px;\n",
              "    }\n",
              "\n",
              "    .colab-df-convert {\n",
              "      background-color: #E8F0FE;\n",
              "      border: none;\n",
              "      border-radius: 50%;\n",
              "      cursor: pointer;\n",
              "      display: none;\n",
              "      fill: #1967D2;\n",
              "      height: 32px;\n",
              "      padding: 0 0 0 0;\n",
              "      width: 32px;\n",
              "    }\n",
              "\n",
              "    .colab-df-convert:hover {\n",
              "      background-color: #E2EBFA;\n",
              "      box-shadow: 0px 1px 2px rgba(60, 64, 67, 0.3), 0px 1px 3px 1px rgba(60, 64, 67, 0.15);\n",
              "      fill: #174EA6;\n",
              "    }\n",
              "\n",
              "    [theme=dark] .colab-df-convert {\n",
              "      background-color: #3B4455;\n",
              "      fill: #D2E3FC;\n",
              "    }\n",
              "\n",
              "    [theme=dark] .colab-df-convert:hover {\n",
              "      background-color: #434B5C;\n",
              "      box-shadow: 0px 1px 3px 1px rgba(0, 0, 0, 0.15);\n",
              "      filter: drop-shadow(0px 1px 2px rgba(0, 0, 0, 0.3));\n",
              "      fill: #FFFFFF;\n",
              "    }\n",
              "  </style>\n",
              "\n",
              "      <script>\n",
              "        const buttonEl =\n",
              "          document.querySelector('#df-6691a07f-8eed-4031-840a-e8855ca3493b button.colab-df-convert');\n",
              "        buttonEl.style.display =\n",
              "          google.colab.kernel.accessAllowed ? 'block' : 'none';\n",
              "\n",
              "        async function convertToInteractive(key) {\n",
              "          const element = document.querySelector('#df-6691a07f-8eed-4031-840a-e8855ca3493b');\n",
              "          const dataTable =\n",
              "            await google.colab.kernel.invokeFunction('convertToInteractive',\n",
              "                                                     [key], {});\n",
              "          if (!dataTable) return;\n",
              "\n",
              "          const docLinkHtml = 'Like what you see? Visit the ' +\n",
              "            '<a target=\"_blank\" href=https://colab.research.google.com/notebooks/data_table.ipynb>data table notebook</a>'\n",
              "            + ' to learn more about interactive tables.';\n",
              "          element.innerHTML = '';\n",
              "          dataTable['output_type'] = 'display_data';\n",
              "          await google.colab.output.renderOutput(dataTable, element);\n",
              "          const docLink = document.createElement('div');\n",
              "          docLink.innerHTML = docLinkHtml;\n",
              "          element.appendChild(docLink);\n",
              "        }\n",
              "      </script>\n",
              "    </div>\n",
              "  </div>\n",
              "  "
            ],
            "text/plain": [
              "                        amount  longitude_of_pickup  latitude_of_pickup  \\\n",
              "amount                1.000000             0.005905           -0.006563   \n",
              "longitude_of_pickup   0.005905             1.000000           -0.984132   \n",
              "latitude_of_pickup   -0.006563            -0.984132            1.000000   \n",
              "longitude_of_dropoff  0.004452             0.956613           -0.943741   \n",
              "latitude_of_dropoff  -0.005600            -0.947401            0.961374   \n",
              "no_of_passenger       0.016506            -0.005614            0.003982   \n",
              "hour                 -0.022009             0.004913           -0.004313   \n",
              "day                  -0.001417             0.006008           -0.008884   \n",
              "month                 0.026742             0.000402            0.000498   \n",
              "year                  0.121081            -0.001264           -0.000925   \n",
              "dayofweek             0.000542            -0.003224            0.001911   \n",
              "travel_dist_km        0.016451             0.143712           -0.130943   \n",
              "\n",
              "                      longitude_of_dropoff  latitude_of_dropoff  \\\n",
              "amount                            0.004452            -0.005600   \n",
              "longitude_of_pickup               0.956613            -0.947401   \n",
              "latitude_of_pickup               -0.943741             0.961374   \n",
              "longitude_of_dropoff              1.000000            -0.982102   \n",
              "latitude_of_dropoff              -0.982102             1.000000   \n",
              "no_of_passenger                  -0.004874             0.002898   \n",
              "hour                              0.005506            -0.004530   \n",
              "day                               0.005221            -0.008012   \n",
              "month                             0.001322            -0.000341   \n",
              "year                             -0.000327            -0.001817   \n",
              "dayofweek                        -0.002441             0.001626   \n",
              "travel_dist_km                    0.143172            -0.124844   \n",
              "\n",
              "                      no_of_passenger      hour       day     month      year  \\\n",
              "amount                       0.016506 -0.022009 -0.001417  0.026742  0.121081   \n",
              "longitude_of_pickup         -0.005614  0.004913  0.006008  0.000402 -0.001264   \n",
              "latitude_of_pickup           0.003982 -0.004313 -0.008884  0.000498 -0.000925   \n",
              "longitude_of_dropoff        -0.004874  0.005506  0.005221  0.001322 -0.000327   \n",
              "latitude_of_dropoff          0.002898 -0.004530 -0.008012 -0.000341 -0.001817   \n",
              "no_of_passenger              1.000000  0.011400  0.006787  0.009099  0.006385   \n",
              "hour                         0.011400  1.000000 -0.008192 -0.001916  0.004167   \n",
              "day                          0.006787 -0.008192  1.000000 -0.017266 -0.011155   \n",
              "month                        0.009099 -0.001916 -0.017266  1.000000 -0.115726   \n",
              "year                         0.006385  0.004167 -0.011155 -0.115726  1.000000   \n",
              "dayofweek                    0.038581 -0.091267  0.008422 -0.010004  0.006808   \n",
              "travel_dist_km              -0.005371  0.000644  0.010610 -0.009217  0.022136   \n",
              "\n",
              "                      dayofweek  travel_dist_km  \n",
              "amount                 0.000542        0.016451  \n",
              "longitude_of_pickup   -0.003224        0.143712  \n",
              "latitude_of_pickup     0.001911       -0.130943  \n",
              "longitude_of_dropoff  -0.002441        0.143172  \n",
              "latitude_of_dropoff    0.001626       -0.124844  \n",
              "no_of_passenger        0.038581       -0.005371  \n",
              "hour                  -0.091267        0.000644  \n",
              "day                    0.008422        0.010610  \n",
              "month                 -0.010004       -0.009217  \n",
              "year                   0.006808        0.022136  \n",
              "dayofweek              1.000000       -0.000518  \n",
              "travel_dist_km        -0.000518        1.000000  "
            ]
          },
          "execution_count": 29,
          "metadata": {},
          "output_type": "execute_result"
        }
      ],
      "source": [
        "# use the corr() function to generate the correlation matrix of the numeric variables\n",
        "corr = df_taxi.corr()\n",
        "\n",
        "# print the correlation matrix\n",
        "corr"
      ]
    },
    {
      "cell_type": "markdown",
      "metadata": {
        "id": "ucVEZ25tzZ3a"
      },
      "source": [
        "**2. Plot the heatmap for the diagonal correlation matrix**"
      ]
    },
    {
      "cell_type": "markdown",
      "metadata": {
        "id": "H3__lG1nzZ3a"
      },
      "source": [
        "A correlation matrix is a symmetric matrix. Plot only the upper triangular entries using a heatmap."
      ]
    },
    {
      "cell_type": "markdown",
      "metadata": {
        "id": "JZnl4RlHzZ3b"
      },
      "source": [
        "<table align=\"left\">\n",
        "    <tr>\n",
        "        <td width=\"8%\">\n",
        "            <img src=\"infer.png\">\n",
        "        </td>\n",
        "        <td>\n",
        "            <div align=\"left\", style=\"font-size:120%\">\n",
        "                <font color=\"#21618C\">\n",
        "                    <b>The diagonal entries are all '1' which represents the correlation of the variable with itself. The dark green squares represent the variables with strong positive correlation. The dark red squares represent the variables with strong negative correlation. \n",
        "                    </b>\n",
        "                </font>\n",
        "            </div>\n",
        "        </td>\n",
        "    </tr>\n",
        "</table>\n"
      ]
    },
    {
      "cell_type": "markdown",
      "metadata": {
        "id": "wGSfdiCczZ3b"
      },
      "source": [
        "As the above correlation map is difficult to study. Create a heatmap that consider the variables with strong correlation."
      ]
    },
    {
      "cell_type": "markdown",
      "metadata": {
        "id": "7sAG1s6GzZ3c"
      },
      "source": [
        "<a id='EDA'></a>\n",
        "## 4.2 Exploratory Data Analysis"
      ]
    },
    {
      "cell_type": "markdown",
      "metadata": {
        "id": "OmUnviXrzZ3c"
      },
      "source": [
        "<a id='Peak'></a>\n",
        "### 4.2.1 Peak hours"
      ]
    },
    {
      "cell_type": "markdown",
      "metadata": {
        "id": "VSpr4Nd6zZ3c"
      },
      "source": [
        "We will check for the business during the weekdays and weekends."
      ]
    },
    {
      "cell_type": "markdown",
      "metadata": {
        "id": "5zEkJyZ2zZ3d"
      },
      "source": [
        "**1. Plot a countplot to check the peak hours during weekdays**"
      ]
    },
    {
      "cell_type": "markdown",
      "metadata": {
        "id": "U2K-8O4izZ3d"
      },
      "source": [
        "To plot a countplot, we use the `countplot()` from the seaborn library."
      ]
    },
    {
      "cell_type": "code",
      "execution_count": null,
      "metadata": {
        "colab": {
          "base_uri": "https://localhost:8080/"
        },
        "id": "OXRXoLcozZ3d",
        "outputId": "4de96a34-d04d-45f9-da16-9083c018127e"
      },
      "outputs": [
        {
          "data": {
            "text/plain": [
              "<matplotlib.axes._subplots.AxesSubplot at 0x7f7dbe84fe50>"
            ]
          },
          "execution_count": 30,
          "metadata": {},
          "output_type": "execute_result"
        },
        {
          "data": {
            "image/png": "[encoded data removed]",
            "text/plain": [
              "<Figure size 1440x360 with 1 Axes>"
            ]
          },
          "metadata": {},
          "output_type": "display_data"
        }
      ],
      "source": [
        "# Set the figure size, grid type and color palette along with appropraite titel for the plot\n",
        "plt.figure(figsize=(20,5))\n",
        "plt.title('Taxi trips count during week days')\n",
        "sns.set_style(\"white\")\n",
        "#plot the countplot for weekdays\n",
        "sns.countplot(x='hour', data=df_taxi.loc[(df_taxi.dayofweek >= 0) & (df_taxi.dayofweek <=4)], palette='Set2')"
      ]
    },
    {
      "cell_type": "markdown",
      "metadata": {
        "id": "UmnUkE31zZ3d"
      },
      "source": [
        "We see that during the weekdays the count of trips start to peak from 8 am and is highest at 9am. In the evening the peak is at 6pm and 7pm."
      ]
    },
    {
      "cell_type": "markdown",
      "metadata": {
        "id": "XwZUIjS7zZ3d"
      },
      "source": [
        "**2. Plot a countplot to check the peak hours during weekends**"
      ]
    },
    {
      "cell_type": "code",
      "execution_count": null,
      "metadata": {
        "colab": {
          "base_uri": "https://localhost:8080/"
        },
        "id": "pnMDT6_6zZ3d",
        "outputId": "ec93f487-63ff-4511-8a4a-84e9cdf5ac26"
      },
      "outputs": [
        {
          "data": {
            "text/plain": [
              "<matplotlib.axes._subplots.AxesSubplot at 0x7f7dbe807fd0>"
            ]
          },
          "execution_count": 31,
          "metadata": {},
          "output_type": "execute_result"
        },
        {
          "data": {
            "image/png": "[encoded data removed]",
            "text/plain": [
              "<Figure size 1440x360 with 1 Axes>"
            ]
          },
          "metadata": {},
          "output_type": "display_data"
        }
      ],
      "source": [
        "# Set the figure size, grid type and color palette along with appropraite titel for the plot\n",
        "plt.figure(figsize=(20,5))\n",
        "plt.title('Taxi trips count during week ends')\n",
        "sns.set_style(\"white\")\n",
        "#plot the countplot for weekends\n",
        "sns.countplot(x='hour', data=df_taxi.loc[(df_taxi.dayofweek >= 5) & (df_taxi.dayofweek <=6)], palette='Set2')"
      ]
    },
    {
      "cell_type": "markdown",
      "metadata": {
        "id": "7pECEbb9zZ3e"
      },
      "source": [
        "We see that during the weekends the count of trips is high after 12 midnight to 3am to 4am. This pattern is different from the weekdays. In the evening the demand is almost evenly high after 6pm till late night except."
      ]
    },
    {
      "cell_type": "markdown",
      "metadata": {
        "id": "RNxFmNlgzZ3e"
      },
      "source": [
        "<a id='Mean_Fare'></a>\n",
        "### 4.2.2 Mean fare for each hour during weekdays and weekends"
      ]
    },
    {
      "cell_type": "markdown",
      "metadata": {
        "id": "59zI4IcEzZ3e"
      },
      "source": [
        "We will check the mean fares for each hour during the weekdays and weekends."
      ]
    },
    {
      "cell_type": "markdown",
      "metadata": {
        "id": "SKLSmQmlzZ3f"
      },
      "source": [
        "**1. Compute the hourly mean fare for weekdays and weekends**"
      ]
    },
    {
      "cell_type": "code",
      "execution_count": null,
      "metadata": {
        "collapsed": true,
        "id": "WZ3gI8utzZ3f"
      },
      "outputs": [],
      "source": [
        "# Set the days in the dataset as week days and week ends\n",
        "week_days = df_taxi.loc[(df_taxi.dayofweek >= 0) & (df_taxi.dayofweek <= 4)]\n",
        "week_ends = df_taxi.loc[(df_taxi.dayofweek >= 5) & (df_taxi.dayofweek <= 6)]\n",
        "# compute the mean fare amount over the week day and week end.\n",
        "# use groupby('hour') to get the mean fare for each hour\n",
        "week_days_fare = week_days.groupby(['hour']).amount.mean().to_frame().reset_index()\n",
        "week_ends_fare = week_ends.groupby(['hour']).amount.mean().to_frame().reset_index()"
      ]
    },
    {
      "cell_type": "markdown",
      "metadata": {
        "id": "-JX9xlkSzZ3f"
      },
      "source": [
        "**2. Plot the mean fare**"
      ]
    },
    {
      "cell_type": "code",
      "execution_count": null,
      "metadata": {
        "colab": {
          "base_uri": "https://localhost:8080/"
        },
        "id": "KtCK6ppQzZ3f",
        "outputId": "4c5b5d37-947a-4bd3-b71a-c1bd3abdd3bf"
      },
      "outputs": [
        {
          "data": {
            "image/png": "[encoded data removed]",
            "text/plain": [
              "<Figure size 1440x720 with 1 Axes>"
            ]
          },
          "metadata": {},
          "output_type": "display_data"
        }
      ],
      "source": [
        "# hours\n",
        "x = np.array(week_days_fare.hour)\n",
        "# an array of week day fare \n",
        "y = np.array(week_days_fare.amount)\n",
        "# an array of week end fare\n",
        "z = np.array(week_ends_fare.amount)\n",
        "\n",
        "# Set the figure size, title, x and y labels\n",
        "plt.figure(figsize = (20,10))\n",
        "plt.title('Mean Fare Amont For Each Hour - Weekdays Vs Weekends')\n",
        "plt.xlabel('Hours')\n",
        "plt.ylabel('Mean Fare')\n",
        "# Pass the three integers. The value of these integer should be less that 10\n",
        "ax=plt.subplot(1,1,1)\n",
        "ax.bar(x-0.2, y, width=0.2, color='red', align='center', label = 'Week days')\n",
        "ax.bar(x, z, width=0.2, color='blue', align='center', label = 'Week ends')\n",
        "plt.xticks(range(0,24))\n",
        "plt.legend()\n",
        "plt.show()\n"
      ]
    },
    {
      "cell_type": "markdown",
      "metadata": {
        "id": "i6gQ_Zc-zZ3f"
      },
      "source": [
        "We notice that the mean fares for each hour are different for week days and week ends. Mean fare for weekdays during morning hours 6,7 and 8 is lmuch ess compared to weekends."
      ]
    },
    {
      "cell_type": "markdown",
      "metadata": {
        "id": "gzfAy2dPzZ3g"
      },
      "source": [
        "<a id='Distribution'></a>\n",
        "### 4.2.3 Distribution of key numerical vairables"
      ]
    },
    {
      "cell_type": "markdown",
      "metadata": {
        "id": "UDIgEzR5zZ3g"
      },
      "source": [
        "**1. Distribution of fare 'amount'**"
      ]
    },
    {
      "cell_type": "code",
      "execution_count": null,
      "metadata": {
        "colab": {
          "base_uri": "https://localhost:8080/",
          "height": 498
        },
        "id": "N50Gs-YAzZ3g",
        "outputId": "5d3e0ef2-7460-4728-b4fa-226acd9533a2"
      },
      "outputs": [
        {
          "data": {
            "image/png": "[encoded data removed]",
            "text/plain": [
              "<Figure size 1440x720 with 1 Axes>"
            ]
          },
          "metadata": {},
          "output_type": "display_data"
        }
      ],
      "source": [
        "plt.figure(figsize=(20,10))\n",
        "sns.set_style(\"darkgrid\")\n",
        "plt.title(\"Distribution of the fare amount\")\n",
        "plt.xlabel(\"Fare Amount\")\n",
        "plt.ylabel(\"Frequency\")\n",
        "plt.xlim(-10,20)\n",
        "plt.xticks(range(0,200,5))\n",
        "\n",
        "snsplot = sns.kdeplot(df_taxi.amount, shade=True)\n"
      ]
    },
    {
      "cell_type": "markdown",
      "metadata": {
        "id": "p12XCM0EzZ3g"
      },
      "source": [
        "We can see that most the trips have a fare amount of 2 to 20 dollars. There are a few small peaks around 50 and 58 dollars as well."
      ]
    },
    {
      "cell_type": "markdown",
      "metadata": {
        "id": "M-1BX5dhzZ3h"
      },
      "source": [
        "**2. Distribustion of the travel distance in km**"
      ]
    },
    {
      "cell_type": "code",
      "execution_count": null,
      "metadata": {
        "colab": {
          "base_uri": "https://localhost:8080/",
          "height": 503
        },
        "id": "3jyOtRnfzZ3h",
        "outputId": "48c08206-5b90-463d-ea7a-f9df0e3ff6ea"
      },
      "outputs": [
        {
          "data": {
            "image/png": "[encoded data removed]",
            "text/plain": [
              "<Figure size 1440x720 with 1 Axes>"
            ]
          },
          "metadata": {},
          "output_type": "display_data"
        }
      ],
      "source": [
        "plt.figure(figsize = (20,10))\n",
        "sns.style = ('darkgrid')\n",
        "plt.title(\"Distribution of the trip distance\")\n",
        "plt.xlabel(\"Distance(Km)\")\n",
        "plt.ylabel(\"Frequency\")\n",
        "plt.xlim(-10, 200)\n",
        "plt.xticks(range(0,200,5))\n",
        "\n",
        "sns.plot = sns.kdeplot(df_taxi[df_taxi.travel_dist_km<600].travel_dist_km, shade=True)"
      ]
    },
    {
      "cell_type": "markdown",
      "metadata": {
        "id": "FyuQ-9FSzZ3h"
      },
      "source": [
        "We can see that most the trips have a travel distance of 2.5 km to 25 km. There are a few instances of 0 km as well."
      ]
    },
    {
      "cell_type": "markdown",
      "metadata": {
        "id": "QeVQIcAfzZ3i"
      },
      "source": [
        "<a id='Random_Forest'></a>\n",
        "# 5.  Random Forest"
      ]
    },
    {
      "cell_type": "markdown",
      "metadata": {
        "id": "sl4lZls5zZ3i"
      },
      "source": [
        "It is an example of the `Bagging` technique. It constructs multiple decision trees on randomly selected data samples. We can use the bootstrap sampling method to select the random samples of the same size from the dataset to construct multiple trees."
      ]
    },
    {
      "cell_type": "markdown",
      "metadata": {
        "id": "ro-BNxarzZ3i"
      },
      "source": [
        "<a id='RF_Model'></a>\n",
        "## 5.1 Random Forest Model"
      ]
    },
    {
      "cell_type": "markdown",
      "metadata": {
        "id": "XfA4Ey-yzZ3i"
      },
      "source": [
        "In this section we build a model using random forest regressor."
      ]
    },
    {
      "cell_type": "markdown",
      "metadata": {
        "id": "OdaMf-UnzZ3j"
      },
      "source": [
        "**1. Split the data into features and target dataframes**"
      ]
    },
    {
      "cell_type": "markdown",
      "metadata": {
        "id": "01GE0E9nzZ3j"
      },
      "source": [
        "Store the amount variable which is the target variable, into y."
      ]
    },
    {
      "cell_type": "code",
      "execution_count": null,
      "metadata": {
        "collapsed": true,
        "id": "7x1Zip3-zZ3j"
      },
      "outputs": [],
      "source": [
        "# select only the target variable 'amount' and store it in dataframe 'y'\n",
        "y = pd.DataFrame(df_taxi['amount'])"
      ]
    },
    {
      "cell_type": "markdown",
      "metadata": {
        "id": "ZUYhJIVNzZ3k"
      },
      "source": [
        "Now, use this 'y' as a target variable to build the classification models."
      ]
    },
    {
      "cell_type": "code",
      "execution_count": null,
      "metadata": {
        "collapsed": true,
        "id": "2jnAnYn1zZ3k"
      },
      "outputs": [],
      "source": [
        "# use 'drop()' to remove the variable 'amount' from df_taxi\n",
        "# 'axis = 1' drops the corresponding column(s)\n",
        "X = df_taxi.drop('amount',axis = 1)"
      ]
    },
    {
      "cell_type": "code",
      "execution_count": null,
      "metadata": {
        "colab": {
          "base_uri": "https://localhost:8080/",
          "height": 270
        },
        "id": "MyqHJhXdzZ3k",
        "outputId": "32ee0b2f-0404-4d18-a923-261afd2ae1c2",
        "scrolled": true
      },
      "outputs": [
        {
          "data": {
            "text/html": [
              "\n",
              "  <div id=\"df-e3eede5e-3719-44fa-bc32-5b857bc31955\">\n",
              "    <div class=\"colab-df-container\">\n",
              "      <div>\n",
              "<style scoped>\n",
              "    .dataframe tbody tr th:only-of-type {\n",
              "        vertical-align: middle;\n",
              "    }\n",
              "\n",
              "    .dataframe tbody tr th {\n",
              "        vertical-align: top;\n",
              "    }\n",
              "\n",
              "    .dataframe thead th {\n",
              "        text-align: right;\n",
              "    }\n",
              "</style>\n",
              "<table border=\"1\" class=\"dataframe\">\n",
              "  <thead>\n",
              "    <tr style=\"text-align: right;\">\n",
              "      <th></th>\n",
              "      <th>longitude_of_pickup</th>\n",
              "      <th>latitude_of_pickup</th>\n",
              "      <th>longitude_of_dropoff</th>\n",
              "      <th>latitude_of_dropoff</th>\n",
              "      <th>no_of_passenger</th>\n",
              "      <th>hour</th>\n",
              "      <th>day</th>\n",
              "      <th>month</th>\n",
              "      <th>year</th>\n",
              "      <th>dayofweek</th>\n",
              "      <th>travel_dist_km</th>\n",
              "    </tr>\n",
              "  </thead>\n",
              "  <tbody>\n",
              "    <tr>\n",
              "      <th>0</th>\n",
              "      <td>-73.844311</td>\n",
              "      <td>40.721319</td>\n",
              "      <td>-73.841610</td>\n",
              "      <td>40.712278</td>\n",
              "      <td>1</td>\n",
              "      <td>17</td>\n",
              "      <td>15</td>\n",
              "      <td>6</td>\n",
              "      <td>2009</td>\n",
              "      <td>0</td>\n",
              "      <td>1.030764</td>\n",
              "    </tr>\n",
              "    <tr>\n",
              "      <th>1</th>\n",
              "      <td>-74.016048</td>\n",
              "      <td>40.711303</td>\n",
              "      <td>-73.979268</td>\n",
              "      <td>40.782004</td>\n",
              "      <td>1</td>\n",
              "      <td>16</td>\n",
              "      <td>5</td>\n",
              "      <td>1</td>\n",
              "      <td>2010</td>\n",
              "      <td>1</td>\n",
              "      <td>8.450134</td>\n",
              "    </tr>\n",
              "    <tr>\n",
              "      <th>2</th>\n",
              "      <td>-73.982738</td>\n",
              "      <td>40.761270</td>\n",
              "      <td>-73.991242</td>\n",
              "      <td>40.750562</td>\n",
              "      <td>2</td>\n",
              "      <td>0</td>\n",
              "      <td>18</td>\n",
              "      <td>8</td>\n",
              "      <td>2011</td>\n",
              "      <td>3</td>\n",
              "      <td>1.389525</td>\n",
              "    </tr>\n",
              "    <tr>\n",
              "      <th>3</th>\n",
              "      <td>-73.987130</td>\n",
              "      <td>40.733143</td>\n",
              "      <td>-73.991567</td>\n",
              "      <td>40.758092</td>\n",
              "      <td>1</td>\n",
              "      <td>4</td>\n",
              "      <td>21</td>\n",
              "      <td>4</td>\n",
              "      <td>2012</td>\n",
              "      <td>5</td>\n",
              "      <td>2.799270</td>\n",
              "    </tr>\n",
              "    <tr>\n",
              "      <th>4</th>\n",
              "      <td>-73.968095</td>\n",
              "      <td>40.768008</td>\n",
              "      <td>-73.956655</td>\n",
              "      <td>40.783762</td>\n",
              "      <td>1</td>\n",
              "      <td>7</td>\n",
              "      <td>9</td>\n",
              "      <td>3</td>\n",
              "      <td>2010</td>\n",
              "      <td>1</td>\n",
              "      <td>1.999157</td>\n",
              "    </tr>\n",
              "  </tbody>\n",
              "</table>\n",
              "</div>\n",
              "      <button class=\"colab-df-convert\" onclick=\"convertToInteractive('df-e3eede5e-3719-44fa-bc32-5b857bc31955')\"\n",
              "              title=\"Convert this dataframe to an interactive table.\"\n",
              "              style=\"display:none;\">\n",
              "        \n",
              "  <svg xmlns=\"http://www.w3.org/2000/svg\" height=\"24px\"viewBox=\"0 0 24 24\"\n",
              "       width=\"24px\">\n",
              "    <path d=\"M0 0h24v24H0V0z\" fill=\"none\"/>\n",
              "    <path d=\"M18.56 5.44l.94 2.06.94-2.06 2.06-.94-2.06-.94-.94-2.06-.94 2.06-2.06.94zm-11 1L8.5 8.5l.94-2.06 2.06-.94-2.06-.94L8.5 2.5l-.94 2.06-2.06.94zm10 10l.94 2.06.94-2.06 2.06-.94-2.06-.94-.94-2.06-.94 2.06-2.06.94z\"/><path d=\"M17.41 7.96l-1.37-1.37c-.4-.4-.92-.59-1.43-.59-.52 0-1.04.2-1.43.59L10.3 9.45l-7.72 7.72c-.78.78-.78 2.05 0 2.83L4 21.41c.39.39.9.59 1.41.59.51 0 1.02-.2 1.41-.59l7.78-7.78 2.81-2.81c.8-.78.8-2.07 0-2.86zM5.41 20L4 18.59l7.72-7.72 1.47 1.35L5.41 20z\"/>\n",
              "  </svg>\n",
              "      </button>\n",
              "      \n",
              "  <style>\n",
              "    .colab-df-container {\n",
              "      display:flex;\n",
              "      flex-wrap:wrap;\n",
              "      gap: 12px;\n",
              "    }\n",
              "\n",
              "    .colab-df-convert {\n",
              "      background-color: #E8F0FE;\n",
              "      border: none;\n",
              "      border-radius: 50%;\n",
              "      cursor: pointer;\n",
              "      display: none;\n",
              "      fill: #1967D2;\n",
              "      height: 32px;\n",
              "      padding: 0 0 0 0;\n",
              "      width: 32px;\n",
              "    }\n",
              "\n",
              "    .colab-df-convert:hover {\n",
              "      background-color: #E2EBFA;\n",
              "      box-shadow: 0px 1px 2px rgba(60, 64, 67, 0.3), 0px 1px 3px 1px rgba(60, 64, 67, 0.15);\n",
              "      fill: #174EA6;\n",
              "    }\n",
              "\n",
              "    [theme=dark] .colab-df-convert {\n",
              "      background-color: #3B4455;\n",
              "      fill: #D2E3FC;\n",
              "    }\n",
              "\n",
              "    [theme=dark] .colab-df-convert:hover {\n",
              "      background-color: #434B5C;\n",
              "      box-shadow: 0px 1px 3px 1px rgba(0, 0, 0, 0.15);\n",
              "      filter: drop-shadow(0px 1px 2px rgba(0, 0, 0, 0.3));\n",
              "      fill: #FFFFFF;\n",
              "    }\n",
              "  </style>\n",
              "\n",
              "      <script>\n",
              "        const buttonEl =\n",
              "          document.querySelector('#df-e3eede5e-3719-44fa-bc32-5b857bc31955 button.colab-df-convert');\n",
              "        buttonEl.style.display =\n",
              "          google.colab.kernel.accessAllowed ? 'block' : 'none';\n",
              "\n",
              "        async function convertToInteractive(key) {\n",
              "          const element = document.querySelector('#df-e3eede5e-3719-44fa-bc32-5b857bc31955');\n",
              "          const dataTable =\n",
              "            await google.colab.kernel.invokeFunction('convertToInteractive',\n",
              "                                                     [key], {});\n",
              "          if (!dataTable) return;\n",
              "\n",
              "          const docLinkHtml = 'Like what you see? Visit the ' +\n",
              "            '<a target=\"_blank\" href=https://colab.research.google.com/notebooks/data_table.ipynb>data table notebook</a>'\n",
              "            + ' to learn more about interactive tables.';\n",
              "          element.innerHTML = '';\n",
              "          dataTable['output_type'] = 'display_data';\n",
              "          await google.colab.output.renderOutput(dataTable, element);\n",
              "          const docLink = document.createElement('div');\n",
              "          docLink.innerHTML = docLinkHtml;\n",
              "          element.appendChild(docLink);\n",
              "        }\n",
              "      </script>\n",
              "    </div>\n",
              "  </div>\n",
              "  "
            ],
            "text/plain": [
              "   longitude_of_pickup  latitude_of_pickup  longitude_of_dropoff  \\\n",
              "0           -73.844311           40.721319            -73.841610   \n",
              "1           -74.016048           40.711303            -73.979268   \n",
              "2           -73.982738           40.761270            -73.991242   \n",
              "3           -73.987130           40.733143            -73.991567   \n",
              "4           -73.968095           40.768008            -73.956655   \n",
              "\n",
              "   latitude_of_dropoff  no_of_passenger  hour  day  month  year  dayofweek  \\\n",
              "0            40.712278                1    17   15      6  2009          0   \n",
              "1            40.782004                1    16    5      1  2010          1   \n",
              "2            40.750562                2     0   18      8  2011          3   \n",
              "3            40.758092                1     4   21      4  2012          5   \n",
              "4            40.783762                1     7    9      3  2010          1   \n",
              "\n",
              "   travel_dist_km  \n",
              "0        1.030764  \n",
              "1        8.450134  \n",
              "2        1.389525  \n",
              "3        2.799270  \n",
              "4        1.999157  "
            ]
          },
          "execution_count": 38,
          "metadata": {},
          "output_type": "execute_result"
        }
      ],
      "source": [
        "X.head()"
      ]
    },
    {
      "cell_type": "markdown",
      "metadata": {
        "id": "S-6YhZ_vzZ3l"
      },
      "source": [
        "Use this 'X' as a set of predictors to build the model."
      ]
    },
    {
      "cell_type": "markdown",
      "metadata": {
        "id": "-CPFZCH5zZ3l"
      },
      "source": [
        "**2. Split the data into training and test sets**"
      ]
    },
    {
      "cell_type": "code",
      "execution_count": null,
      "metadata": {
        "colab": {
          "base_uri": "https://localhost:8080/"
        },
        "id": "x-fjZQaDzZ3l",
        "outputId": "cd6c10af-af9d-4d11-a996-51e9a56c0a1e"
      },
      "outputs": [
        {
          "name": "stdout",
          "output_type": "stream",
          "text": [
            "The shape of X_train is: (34992, 11)\n",
            "The shape of X_test is: (14997, 11)\n",
            "The shape of y_train is: (34992, 1)\n",
            "The shape of y_test is: (14997, 1)\n"
          ]
        }
      ],
      "source": [
        "\n",
        "# split data into train subset and test subset for predictor and target variables\n",
        "# 'test_size' returns the proportion of data to be included in the test set\n",
        "# set 'random_state' to generate the same dataset each time you run the code \n",
        "X_train, X_test, y_train, y_test = train_test_split(X, y, test_size = 0.3, random_state = 1)\n",
        "\n",
        "# check the dimensions of the train & test subset for \n",
        "# print dimension of predictors train set\n",
        "print(\"The shape of X_train is:\",X_train.shape)\n",
        "\n",
        "# print dimension of predictors test set\n",
        "print(\"The shape of X_test is:\",X_test.shape)\n",
        "\n",
        "# print dimension of target train set\n",
        "print(\"The shape of y_train is:\",y_train.shape)\n",
        "\n",
        "# print dimension of target test set\n",
        "print(\"The shape of y_test is:\",y_test.shape)"
      ]
    },
    {
      "cell_type": "markdown",
      "metadata": {
        "id": "7ZAAzv0GzZ3m"
      },
      "source": [
        "**2. Build model using RandomForestRegressor**"
      ]
    },
    {
      "cell_type": "code",
      "execution_count": null,
      "metadata": {
        "colab": {
          "base_uri": "https://localhost:8080/"
        },
        "id": "lJZzUhLnzZ3m",
        "outputId": "533eda39-c98d-4b97-ced9-d8fd2fbbeae7",
        "scrolled": true
      },
      "outputs": [
        {
          "data": {
            "text/plain": [
              "RandomForestRegressor(random_state=10)"
            ]
          },
          "execution_count": 40,
          "metadata": {},
          "output_type": "execute_result"
        }
      ],
      "source": [
        "#intantiate the regressor\n",
        "rf_reg = RandomForestRegressor(n_estimators=100, random_state=10)\n",
        "\n",
        "# fit the regressor with training dataset\n",
        "rf_reg.fit(X_train, y_train)"
      ]
    },
    {
      "cell_type": "markdown",
      "metadata": {
        "id": "EzApMLM6zZ3m"
      },
      "source": [
        "**3. Predict the values using test set**"
      ]
    },
    {
      "cell_type": "code",
      "execution_count": null,
      "metadata": {
        "collapsed": true,
        "id": "o8qG3NtJzZ3m"
      },
      "outputs": [],
      "source": [
        "# predict the values on test dataset using predict()\n",
        "y_pred = rf_reg.predict(X_test)"
      ]
    },
    {
      "cell_type": "markdown",
      "metadata": {
        "id": "uRgqmFDCzZ3m"
      },
      "source": [
        "**4. Compute accuracy measures**\n",
        "\n",
        "Now we calculate accuray measures Root-mean-square-error (RMSE), R-squared and Adjusted R-squared."
      ]
    },
    {
      "cell_type": "code",
      "execution_count": null,
      "metadata": {
        "colab": {
          "base_uri": "https://localhost:8080/"
        },
        "id": "tR8dc5_0zZ3n",
        "outputId": "4aab379c-b740-42c6-d799-0512f95f222d"
      },
      "outputs": [
        {
          "name": "stdout",
          "output_type": "stream",
          "text": [
            "Mean Squared Error (MSE): 19.630229608323198\n",
            "Root Mean Squared Error (RMSE): 4.430601495093324\n"
          ]
        }
      ],
      "source": [
        "\n",
        "\n",
        "# Calculate MSE\n",
        "rf_reg_MSE = metrics.mean_squared_error(y_test, y_pred)\n",
        "print('Mean Squared Error (MSE):', rf_reg_MSE)\n",
        "\n",
        "# Calculate RMSE\n",
        "rf_reg_RMSE = np.sqrt(metrics.mean_squared_error(y_test, y_pred))\n",
        "print('Root Mean Squared Error (RMSE):', rf_reg_RMSE)"
      ]
    },
    {
      "cell_type": "markdown",
      "metadata": {
        "id": "0xNtqZghzZ3n"
      },
      "source": [
        "**5. Tabulate the results**"
      ]
    },
    {
      "cell_type": "code",
      "execution_count": null,
      "metadata": {
        "colab": {
          "base_uri": "https://localhost:8080/"
        },
        "id": "I4sPMfL7zZ3n",
        "outputId": "ce6902bf-8326-423d-cdf2-06a8c39fcfb5"
      },
      "outputs": [
        {
          "data": {
            "text/html": [
              "\n",
              "  <div id=\"df-41a4fe39-4a9b-456c-ab76-7d80de4479e8\">\n",
              "    <div class=\"colab-df-container\">\n",
              "      <div>\n",
              "<style scoped>\n",
              "    .dataframe tbody tr th:only-of-type {\n",
              "        vertical-align: middle;\n",
              "    }\n",
              "\n",
              "    .dataframe tbody tr th {\n",
              "        vertical-align: top;\n",
              "    }\n",
              "\n",
              "    .dataframe thead th {\n",
              "        text-align: right;\n",
              "    }\n",
              "</style>\n",
              "<table border=\"1\" class=\"dataframe\">\n",
              "  <thead>\n",
              "    <tr style=\"text-align: right;\">\n",
              "      <th></th>\n",
              "      <th>Model</th>\n",
              "      <th>MSE</th>\n",
              "      <th>RMSE</th>\n",
              "    </tr>\n",
              "  </thead>\n",
              "  <tbody>\n",
              "    <tr>\n",
              "      <th>0</th>\n",
              "      <td>Random Forest</td>\n",
              "      <td>19.630230</td>\n",
              "      <td>4.430601</td>\n",
              "    </tr>\n",
              "  </tbody>\n",
              "</table>\n",
              "</div>\n",
              "      <button class=\"colab-df-convert\" onclick=\"convertToInteractive('df-41a4fe39-4a9b-456c-ab76-7d80de4479e8')\"\n",
              "              title=\"Convert this dataframe to an interactive table.\"\n",
              "              style=\"display:none;\">\n",
              "        \n",
              "  <svg xmlns=\"http://www.w3.org/2000/svg\" height=\"24px\"viewBox=\"0 0 24 24\"\n",
              "       width=\"24px\">\n",
              "    <path d=\"M0 0h24v24H0V0z\" fill=\"none\"/>\n",
              "    <path d=\"M18.56 5.44l.94 2.06.94-2.06 2.06-.94-2.06-.94-.94-2.06-.94 2.06-2.06.94zm-11 1L8.5 8.5l.94-2.06 2.06-.94-2.06-.94L8.5 2.5l-.94 2.06-2.06.94zm10 10l.94 2.06.94-2.06 2.06-.94-2.06-.94-.94-2.06-.94 2.06-2.06.94z\"/><path d=\"M17.41 7.96l-1.37-1.37c-.4-.4-.92-.59-1.43-.59-.52 0-1.04.2-1.43.59L10.3 9.45l-7.72 7.72c-.78.78-.78 2.05 0 2.83L4 21.41c.39.39.9.59 1.41.59.51 0 1.02-.2 1.41-.59l7.78-7.78 2.81-2.81c.8-.78.8-2.07 0-2.86zM5.41 20L4 18.59l7.72-7.72 1.47 1.35L5.41 20z\"/>\n",
              "  </svg>\n",
              "      </button>\n",
              "      \n",
              "  <style>\n",
              "    .colab-df-container {\n",
              "      display:flex;\n",
              "      flex-wrap:wrap;\n",
              "      gap: 12px;\n",
              "    }\n",
              "\n",
              "    .colab-df-convert {\n",
              "      background-color: #E8F0FE;\n",
              "      border: none;\n",
              "      border-radius: 50%;\n",
              "      cursor: pointer;\n",
              "      display: none;\n",
              "      fill: #1967D2;\n",
              "      height: 32px;\n",
              "      padding: 0 0 0 0;\n",
              "      width: 32px;\n",
              "    }\n",
              "\n",
              "    .colab-df-convert:hover {\n",
              "      background-color: #E2EBFA;\n",
              "      box-shadow: 0px 1px 2px rgba(60, 64, 67, 0.3), 0px 1px 3px 1px rgba(60, 64, 67, 0.15);\n",
              "      fill: #174EA6;\n",
              "    }\n",
              "\n",
              "    [theme=dark] .colab-df-convert {\n",
              "      background-color: #3B4455;\n",
              "      fill: #D2E3FC;\n",
              "    }\n",
              "\n",
              "    [theme=dark] .colab-df-convert:hover {\n",
              "      background-color: #434B5C;\n",
              "      box-shadow: 0px 1px 3px 1px rgba(0, 0, 0, 0.15);\n",
              "      filter: drop-shadow(0px 1px 2px rgba(0, 0, 0, 0.3));\n",
              "      fill: #FFFFFF;\n",
              "    }\n",
              "  </style>\n",
              "\n",
              "      <script>\n",
              "        const buttonEl =\n",
              "          document.querySelector('#df-41a4fe39-4a9b-456c-ab76-7d80de4479e8 button.colab-df-convert');\n",
              "        buttonEl.style.display =\n",
              "          google.colab.kernel.accessAllowed ? 'block' : 'none';\n",
              "\n",
              "        async function convertToInteractive(key) {\n",
              "          const element = document.querySelector('#df-41a4fe39-4a9b-456c-ab76-7d80de4479e8');\n",
              "          const dataTable =\n",
              "            await google.colab.kernel.invokeFunction('convertToInteractive',\n",
              "                                                     [key], {});\n",
              "          if (!dataTable) return;\n",
              "\n",
              "          const docLinkHtml = 'Like what you see? Visit the ' +\n",
              "            '<a target=\"_blank\" href=https://colab.research.google.com/notebooks/data_table.ipynb>data table notebook</a>'\n",
              "            + ' to learn more about interactive tables.';\n",
              "          element.innerHTML = '';\n",
              "          dataTable['output_type'] = 'display_data';\n",
              "          await google.colab.output.renderOutput(dataTable, element);\n",
              "          const docLink = document.createElement('div');\n",
              "          docLink.innerHTML = docLinkHtml;\n",
              "          element.appendChild(docLink);\n",
              "        }\n",
              "      </script>\n",
              "    </div>\n",
              "  </div>\n",
              "  "
            ],
            "text/plain": [
              "            Model       MSE     RMSE\n",
              "0  Random Forest  19.630230 4.430601"
            ]
          },
          "execution_count": 43,
          "metadata": {},
          "output_type": "execute_result"
        }
      ],
      "source": [
        "# create the result table for all accuracy scores\n",
        "# accuracy measures considered for model comparision are RMSE\n",
        "# create a list of column names\n",
        "cols = ['Model',  'MSE', 'RMSE']\n",
        "\n",
        "# create a empty dataframe of the colums\n",
        "# columns: specifies the columns to be selected\n",
        "result_tabulation = pd.DataFrame(columns = cols)\n",
        "\n",
        "# compile the required information\n",
        "rf_reg_metrics = pd.Series({'Model': \"Random Forest \",\n",
        "                     'MSE': rf_reg_MSE,\n",
        "                     'RMSE': rf_reg_RMSE     \n",
        "                   })\n",
        "\n",
        "# append our result table using append()\n",
        "# ignore_index=True: does not use the index labels\n",
        "# python can only append a Series if ignore_index=True or if the Series has a name\n",
        "result_tabulation = result_tabulation.append(rf_reg_metrics, ignore_index = True)\n",
        "\n",
        "# print the result table\n",
        "result_tabulation"
      ]
    },
    {
      "cell_type": "markdown",
      "metadata": {
        "id": "Qyfgt1U6zZ3o"
      },
      "source": [
        "<a id='RF_CV'></a>\n",
        "## 5.2 Random Forest with GridSearchCV"
      ]
    },
    {
      "cell_type": "markdown",
      "metadata": {
        "id": "1uvvqGN8zZ3o"
      },
      "source": [
        "Now we show how a decision tree is optimized by cross-validation, which is done using the `GridSearchCV()` from sklearn library.\n",
        "\n",
        "The performance of the selected hyperparameters and trained model is then measured on the test set that was not used during the model building."
      ]
    },
    {
      "cell_type": "markdown",
      "metadata": {
        "id": "Uuk-YM9kzZ3p"
      },
      "source": [
        "**1. Use GridSearch to obtain the optimal values of hyperparameters**"
      ]
    },
    {
      "cell_type": "code",
      "execution_count": null,
      "metadata": {
        "collapsed": true,
        "id": "yhGmy4w6zZ3p"
      },
      "outputs": [],
      "source": [
        "# create a dictionary with hyperparameters and its values\n",
        "# pass the n_estimators \n",
        "# pass the list of values to 'min_samples_split' that assigns minimum number of samples to split an internal node\n",
        "# pass the list of values to 'max_depth' that assigns maximum depth of the tree\n",
        "# pass the list of values to 'min_samples_leaf' that assigns minimum number of samples required at the terminal/leaf node\n",
        "# pass the list of values to 'max_leaf_nodes' that assigns maximum number of leaf nodes in the tree\n",
        "tuned_paramaters = [{'n_estimators': [ 85, 100],\n",
        "                     'min_samples_split': [15,20],\n",
        "                     'max_depth': [8, 10]\n",
        "                     #'min_samples_leaf': [5,10],\n",
        "                     #'max_leaf_nodes': [10, 15]\n",
        "                    }]"
      ]
    },
    {
      "cell_type": "code",
      "execution_count": null,
      "metadata": {
        "colab": {
          "background_save": true
        },
        "id": "GwnB-BYpzZ3p",
        "outputId": "0e2c9114-9582-48ec-d0f6-ef7c9b4af277"
      },
      "outputs": [
        {
          "name": "stdout",
          "output_type": "stream",
          "text": [
            "Best parameters for random forest regressor:  {'max_depth': 10, 'min_samples_split': 20, 'n_estimators': 85} \n",
            "\n"
          ]
        }
      ],
      "source": [
        "# instantiate the 'RandomForestRegressor' \n",
        "# pass the 'random_state' to obtain the same samples for each time you run the code\n",
        "rf_reg_CV= RandomForestRegressor(random_state = 10)\n",
        "\n",
        "# use GridSearchCV() to find the optimal value of the hyperparameters\n",
        "# n_estimator: pass the decision tree classifier model\n",
        "# param_grid: pass the list 'tuned_parameters'\n",
        "# cv: number of folds in k-fold i.e. here cv = 10\n",
        "grid = GridSearchCV(estimator = rf_reg_CV, \n",
        "                         param_grid = tuned_paramaters, \n",
        "                         cv = 10)\n",
        "\n",
        "# fit the model on X_train and y_train using fit()\n",
        "dt_grid = grid.fit(X_train, y_train)\n",
        "\n",
        "# get the best parameters\n",
        "print('Best parameters for random forest regressor: ', dt_grid.best_params_, '\\n')"
      ]
    },
    {
      "cell_type": "markdown",
      "metadata": {
        "id": "ohCA94c3zZ3p"
      },
      "source": [
        "**2. Build the model using the hyperparameters obtained in step 1**"
      ]
    },
    {
      "cell_type": "code",
      "execution_count": null,
      "metadata": {
        "colab": {
          "background_save": true
        },
        "collapsed": true,
        "id": "xxF32TCbzZ3q"
      },
      "outputs": [],
      "source": [
        "# instantiate the 'RandomForestRegressor'\n",
        "# 'best_params_' returns the dictionary containing best parameter values and parameter name  \n",
        "# 'get()' returns the value of specified parameter\n",
        "# pass the 'random_state' to obtain the same samples for each time you run the code\n",
        "dt_grid_model = RandomForestRegressor(n_estimators = dt_grid.best_params_.get('n_estimators'),\n",
        "                                       max_depth = dt_grid.best_params_.get('max_depth'),\n",
        "                                       #max_leaf_nodes = dt_grid.best_params_.get('max_leaf_nodes'),\n",
        "                                       #min_samples_leaf = dt_grid.best_params_.get('min_samples_leaf'),\n",
        "                                       min_samples_split = dt_grid.best_params_.get('min_samples_split'),\n",
        "                                       random_state = 10)\n",
        "\n",
        "# use fit() to fit the model on the train set\n",
        "dt_grid_model = dt_grid_model.fit(X_train, y_train)"
      ]
    },
    {
      "cell_type": "markdown",
      "metadata": {
        "id": "cLRHjMNPzZ3q"
      },
      "source": [
        "**3. Predict the values using test set**"
      ]
    },
    {
      "cell_type": "code",
      "execution_count": null,
      "metadata": {
        "colab": {
          "background_save": true
        },
        "collapsed": true,
        "id": "t1Z_TvNkzZ3q"
      },
      "outputs": [],
      "source": [
        "# predict the class labels using 'X_test'\n",
        "y_pred = dt_grid_model.predict(X_test)"
      ]
    },
    {
      "cell_type": "markdown",
      "metadata": {
        "id": "QvSElY-WzZ3q"
      },
      "source": [
        "**4. Compute accuracy measures**\n",
        "\n",
        "Now we calculate accuray measures Root-mean-square-error (RMSE), R-squared and Adjusted R-squared."
      ]
    },
    {
      "cell_type": "code",
      "execution_count": null,
      "metadata": {
        "colab": {
          "background_save": true
        },
        "id": "cVzErlP_zZ3q",
        "outputId": "f47e6979-df85-43ab-82ac-5a2177be2cf0"
      },
      "outputs": [
        {
          "name": "stdout",
          "output_type": "stream",
          "text": [
            "Mean Squared Error (MSE): 19.952915628853532\n",
            "Root Mean Squared Error (RMSE): 4.466868660354089\n"
          ]
        }
      ],
      "source": [
        "# calculate MAE\n",
        "\n",
        "                                         \n",
        "# calculate MSE\n",
        "rf_reg_CV_MSE = metrics.mean_squared_error(y_test, y_pred)\n",
        "print('Mean Squared Error (MSE):', rf_reg_CV_MSE)\n",
        "                                         \n",
        "# calculate RMSE\n",
        "rf_reg_CV_RMSE = np.sqrt(metrics.mean_squared_error(y_test, y_pred))\n",
        "print('Root Mean Squared Error (RMSE):', rf_reg_CV_RMSE)"
      ]
    },
    {
      "cell_type": "markdown",
      "metadata": {
        "id": "aBfU6FSzzZ3r"
      },
      "source": [
        "**5. Tabulate the results**"
      ]
    },
    {
      "cell_type": "code",
      "execution_count": null,
      "metadata": {
        "colab": {
          "background_save": true
        },
        "id": "cTOAj68vzZ3r",
        "outputId": "33de7be3-48bd-4cfb-cb0b-1636bcc04950"
      },
      "outputs": [
        {
          "data": {
            "text/html": [
              "\n",
              "  <div id=\"df-e3c6d867-6701-42b4-aa8e-7211ea4b635d\">\n",
              "    <div class=\"colab-df-container\">\n",
              "      <div>\n",
              "<style scoped>\n",
              "    .dataframe tbody tr th:only-of-type {\n",
              "        vertical-align: middle;\n",
              "    }\n",
              "\n",
              "    .dataframe tbody tr th {\n",
              "        vertical-align: top;\n",
              "    }\n",
              "\n",
              "    .dataframe thead th {\n",
              "        text-align: right;\n",
              "    }\n",
              "</style>\n",
              "<table border=\"1\" class=\"dataframe\">\n",
              "  <thead>\n",
              "    <tr style=\"text-align: right;\">\n",
              "      <th></th>\n",
              "      <th>Model</th>\n",
              "      <th>MSE</th>\n",
              "      <th>RMSE</th>\n",
              "    </tr>\n",
              "  </thead>\n",
              "  <tbody>\n",
              "    <tr>\n",
              "      <th>0</th>\n",
              "      <td>Random Forest</td>\n",
              "      <td>19.630230</td>\n",
              "      <td>4.430601</td>\n",
              "    </tr>\n",
              "    <tr>\n",
              "      <th>1</th>\n",
              "      <td>Random Forest</td>\n",
              "      <td>19.952916</td>\n",
              "      <td>4.466869</td>\n",
              "    </tr>\n",
              "  </tbody>\n",
              "</table>\n",
              "</div>\n",
              "      <button class=\"colab-df-convert\" onclick=\"convertToInteractive('df-e3c6d867-6701-42b4-aa8e-7211ea4b635d')\"\n",
              "              title=\"Convert this dataframe to an interactive table.\"\n",
              "              style=\"display:none;\">\n",
              "        \n",
              "  <svg xmlns=\"http://www.w3.org/2000/svg\" height=\"24px\"viewBox=\"0 0 24 24\"\n",
              "       width=\"24px\">\n",
              "    <path d=\"M0 0h24v24H0V0z\" fill=\"none\"/>\n",
              "    <path d=\"M18.56 5.44l.94 2.06.94-2.06 2.06-.94-2.06-.94-.94-2.06-.94 2.06-2.06.94zm-11 1L8.5 8.5l.94-2.06 2.06-.94-2.06-.94L8.5 2.5l-.94 2.06-2.06.94zm10 10l.94 2.06.94-2.06 2.06-.94-2.06-.94-.94-2.06-.94 2.06-2.06.94z\"/><path d=\"M17.41 7.96l-1.37-1.37c-.4-.4-.92-.59-1.43-.59-.52 0-1.04.2-1.43.59L10.3 9.45l-7.72 7.72c-.78.78-.78 2.05 0 2.83L4 21.41c.39.39.9.59 1.41.59.51 0 1.02-.2 1.41-.59l7.78-7.78 2.81-2.81c.8-.78.8-2.07 0-2.86zM5.41 20L4 18.59l7.72-7.72 1.47 1.35L5.41 20z\"/>\n",
              "  </svg>\n",
              "      </button>\n",
              "      \n",
              "  <style>\n",
              "    .colab-df-container {\n",
              "      display:flex;\n",
              "      flex-wrap:wrap;\n",
              "      gap: 12px;\n",
              "    }\n",
              "\n",
              "    .colab-df-convert {\n",
              "      background-color: #E8F0FE;\n",
              "      border: none;\n",
              "      border-radius: 50%;\n",
              "      cursor: pointer;\n",
              "      display: none;\n",
              "      fill: #1967D2;\n",
              "      height: 32px;\n",
              "      padding: 0 0 0 0;\n",
              "      width: 32px;\n",
              "    }\n",
              "\n",
              "    .colab-df-convert:hover {\n",
              "      background-color: #E2EBFA;\n",
              "      box-shadow: 0px 1px 2px rgba(60, 64, 67, 0.3), 0px 1px 3px 1px rgba(60, 64, 67, 0.15);\n",
              "      fill: #174EA6;\n",
              "    }\n",
              "\n",
              "    [theme=dark] .colab-df-convert {\n",
              "      background-color: #3B4455;\n",
              "      fill: #D2E3FC;\n",
              "    }\n",
              "\n",
              "    [theme=dark] .colab-df-convert:hover {\n",
              "      background-color: #434B5C;\n",
              "      box-shadow: 0px 1px 3px 1px rgba(0, 0, 0, 0.15);\n",
              "      filter: drop-shadow(0px 1px 2px rgba(0, 0, 0, 0.3));\n",
              "      fill: #FFFFFF;\n",
              "    }\n",
              "  </style>\n",
              "\n",
              "      <script>\n",
              "        const buttonEl =\n",
              "          document.querySelector('#df-e3c6d867-6701-42b4-aa8e-7211ea4b635d button.colab-df-convert');\n",
              "        buttonEl.style.display =\n",
              "          google.colab.kernel.accessAllowed ? 'block' : 'none';\n",
              "\n",
              "        async function convertToInteractive(key) {\n",
              "          const element = document.querySelector('#df-e3c6d867-6701-42b4-aa8e-7211ea4b635d');\n",
              "          const dataTable =\n",
              "            await google.colab.kernel.invokeFunction('convertToInteractive',\n",
              "                                                     [key], {});\n",
              "          if (!dataTable) return;\n",
              "\n",
              "          const docLinkHtml = 'Like what you see? Visit the ' +\n",
              "            '<a target=\"_blank\" href=https://colab.research.google.com/notebooks/data_table.ipynb>data table notebook</a>'\n",
              "            + ' to learn more about interactive tables.';\n",
              "          element.innerHTML = '';\n",
              "          dataTable['output_type'] = 'display_data';\n",
              "          await google.colab.output.renderOutput(dataTable, element);\n",
              "          const docLink = document.createElement('div');\n",
              "          docLink.innerHTML = docLinkHtml;\n",
              "          element.appendChild(docLink);\n",
              "        }\n",
              "      </script>\n",
              "    </div>\n",
              "  </div>\n",
              "  "
            ],
            "text/plain": [
              "            Model       MSE     RMSE\n",
              "0  Random Forest  19.630230 4.430601\n",
              "1  Random Forest  19.952916 4.466869"
            ]
          },
          "execution_count": null,
          "metadata": {},
          "output_type": "execute_result"
        }
      ],
      "source": [
        "# create the result table for all accuracy scores\n",
        "# accuracy measures considered for model comparision are MAE, MSE, RMSE\n",
        "# create a list of column names\n",
        "#cols = ['Model', 'MAE', 'MSE', 'RMSE']\n",
        "\n",
        "# create a empty dataframe of the colums\n",
        "# columns: specifies the columns to be selected\n",
        "#result_tabulation = pd.DataFrame(columns = cols)\n",
        "\n",
        "# compile the required information\n",
        "rf_reg_metrics = pd.Series({'Model': \"Random Forest \",\n",
        "                     'MSE': rf_reg_CV_MSE,\n",
        "                     'RMSE': rf_reg_CV_RMSE     \n",
        "                   })\n",
        "\n",
        "# append our result table using append()\n",
        "# ignore_index=True: does not use the index labels\n",
        "# python can only append a Series if ignore_index=True or if the Series has a name\n",
        "result_tabulation = result_tabulation.append(rf_reg_metrics, ignore_index = True)\n",
        "\n",
        "# print the result table\n",
        "result_tabulation"
      ]
    }
  ],
  "metadata": {
    "colab": {
      "name": "Copy of Taxi Fare Prediction.ipynb",
      "provenance": []
    },
    "kernelspec": {
      "display_name": "Python 3",
      "language": "python",
      "name": "python3"
    },
    "language_info": {
      "codemirror_mode": {
        "name": "ipython",
        "version": 3
      },
      "file_extension": ".py",
      "mimetype": "text/x-python",
      "name": "python",
      "nbconvert_exporter": "python",
      "pygments_lexer": "ipython3",
      "version": "3.6.3"
    }
  },
  "nbformat": 4,
  "nbformat_minor": 0
}